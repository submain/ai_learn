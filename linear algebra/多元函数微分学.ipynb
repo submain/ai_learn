{
 "cells": [
  {
   "cell_type": "code",
   "execution_count": 83,
   "id": "c860795f-f994-4a04-8fba-6f2407303651",
   "metadata": {},
   "outputs": [
    {
     "name": "stdout",
     "output_type": "stream",
     "text": [
      "给定向量任意向量v: [3 5 6]\n",
      "求解矩阵A正定判定条件结果是： -714\n"
     ]
    }
   ],
   "source": [
    "#负定矩阵\n",
    "import numpy as np\n",
    "A =np.array([[-2,-3,-1],\n",
    "            [-3,-6,-4],\n",
    "            [-1,-4,-5]])\n",
    "\n",
    "v = np.array([3,5,6])\n",
    "\n",
    "print('给定向量任意向量v:',v)\n",
    "print('求解矩阵A正定判定条件结果是：',v.T.dot(A).dot(v))"
   ]
  },
  {
   "cell_type": "code",
   "execution_count": 84,
   "id": "d26b18f7-9aa7-488f-a63b-870f9f60ad40",
   "metadata": {},
   "outputs": [
    {
     "name": "stdout",
     "output_type": "stream",
     "text": [
      "给定向量任意向量v: [3 5 6]\n",
      "求解矩阵A正定判定条件结果是： 108\n"
     ]
    }
   ],
   "source": [
    "#负定矩阵\n",
    "import numpy as np\n",
    "B =np.array([[5,-1,-4],\n",
    "            [1,3,-2],\n",
    "            [-4,-2,7]])\n",
    "\n",
    "v = np.array([3,5,6])\n",
    "\n",
    "print('给定向量任意向量v:',v)\n",
    "print('求解矩阵A正定判定条件结果是：',v.T.dot(A).dot(v))"
   ]
  },
  {
   "cell_type": "code",
   "execution_count": 89,
   "id": "13023147-2dff-408d-a22e-6ceaf8afdd2e",
   "metadata": {},
   "outputs": [
    {
     "name": "stdout",
     "output_type": "stream",
     "text": [
      "矩阵A的特征值特征向量是:\n"
     ]
    },
    {
     "data": {
      "text/plain": [
       "array([10.41138182,  3.31298965,  1.27562853])"
      ]
     },
     "metadata": {},
     "output_type": "display_data"
    },
    {
     "data": {
      "text/plain": [
       "array([[-0.53465096, -0.69033123,  0.73598789],\n",
       "       [-0.28666499,  0.57768602,  0.28527531],\n",
       "       [ 0.79496637, -0.43557049,  0.61395425]])"
      ]
     },
     "metadata": {},
     "output_type": "display_data"
    }
   ],
   "source": [
    "###根据特征值进行判定 全部是正数为正定矩阵\n",
    "w,v = np.linalg.eig(A)\n",
    "print('矩阵A的特征值特征向量是:')\n",
    "display(w,v)"
   ]
  },
  {
   "cell_type": "code",
   "execution_count": 88,
   "id": "5190f39a-7c39-4257-b44a-d7bc769074c2",
   "metadata": {},
   "outputs": [
    {
     "name": "stdout",
     "output_type": "stream",
     "text": [
      "矩阵A的特征值特征向量是:\n"
     ]
    },
    {
     "data": {
      "text/plain": [
       "array([16.10241769,  0.19192041, -1.2943381 ])"
      ]
     },
     "metadata": {},
     "output_type": "display_data"
    },
    {
     "data": {
      "text/plain": [
       "array([[ 0.23165721,  0.95684242, -0.17546374],\n",
       "       [ 0.59582744, -0.28213926, -0.75192227],\n",
       "       [ 0.76897633, -0.0696421 ,  0.63547256]])"
      ]
     },
     "metadata": {},
     "output_type": "display_data"
    }
   ],
   "source": [
    "###根据特征值进行判定 不是负定矩阵，也不是正定矩阵  是不定矩阵\n",
    "w,v = np.linalg.eig(B)\n",
    "print('矩阵A的特征值特征向量是:')\n",
    "display(w,v)"
   ]
  },
  {
   "cell_type": "code",
   "execution_count": null,
   "id": "fbec3105-3f33-41d6-932f-4e37eeac77ba",
   "metadata": {},
   "outputs": [],
   "source": []
  },
  {
   "cell_type": "code",
   "execution_count": null,
   "id": "e1e86dfd-5b9d-436c-abb4-1bcd60242cd9",
   "metadata": {},
   "outputs": [],
   "source": []
  },
  {
   "cell_type": "code",
   "execution_count": null,
   "id": "71f2c6c9-d9fe-4b9a-8b64-96e39e2883d9",
   "metadata": {},
   "outputs": [],
   "source": []
  },
  {
   "cell_type": "code",
   "execution_count": null,
   "id": "0ed4a066-f07f-4b7e-b7b1-7f49f8437d23",
   "metadata": {},
   "outputs": [],
   "source": []
  },
  {
   "cell_type": "code",
   "execution_count": null,
   "id": "85633f0a-9fb6-44c0-b2e3-8c8ad4767448",
   "metadata": {},
   "outputs": [],
   "source": []
  },
  {
   "cell_type": "code",
   "execution_count": null,
   "id": "ec7ab717-0754-4475-8cd1-8302da7efb91",
   "metadata": {},
   "outputs": [],
   "source": []
  }
 ],
 "metadata": {
  "kernelspec": {
   "display_name": "Python (Matplotlib)",
   "language": "python",
   "name": "myenv"
  },
  "language_info": {
   "codemirror_mode": {
    "name": "ipython",
    "version": 3
   },
   "file_extension": ".py",
   "mimetype": "text/x-python",
   "name": "python",
   "nbconvert_exporter": "python",
   "pygments_lexer": "ipython3",
   "version": "3.11.0"
  }
 },
 "nbformat": 4,
 "nbformat_minor": 5
}
