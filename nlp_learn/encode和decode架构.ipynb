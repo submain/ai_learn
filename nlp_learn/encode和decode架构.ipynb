{
 "cells": [
  {
   "cell_type": "code",
   "execution_count": 53,
   "id": "05f4ec9a-3be5-4247-9d82-af8255989400",
   "metadata": {},
   "outputs": [],
   "source": [
    "from torch import nn"
   ]
  },
  {
   "cell_type": "markdown",
   "id": "449713d3-90ce-4de7-9273-432eeae781f4",
   "metadata": {},
   "source": [
    "### Seq2Seq结构"
   ]
  },
  {
   "cell_type": "code",
   "execution_count": 2,
   "id": "7ceca482-5675-4980-a307-cece296b5ab0",
   "metadata": {},
   "outputs": [],
   "source": [
    "class Encoder(nn.Module):\n",
    "    def __init__(self,**kwargs):\n",
    "        super().__init__(**kwargs)\n",
    "        \n",
    "    def forward(self,X,*args):\n",
    "        raise NotImplementedError"
   ]
  },
  {
   "cell_type": "code",
   "execution_count": 4,
   "id": "877b6edb-bc5c-4846-bb09-4e2769b20ca3",
   "metadata": {},
   "outputs": [],
   "source": [
    "#解码器\n",
    "class Decoder(nn.Module):\n",
    "    def __init__(self,**kwargs):\n",
    "        super().__init__(**kwargs)\n",
    "\n",
    "    def init_state(self,enc_outputs,*args):\n",
    "        raise NotImplementedError\n",
    "        \n",
    "    def forward(self,X,state):\n",
    "        raise NotImplementedError"
   ]
  },
  {
   "cell_type": "code",
   "execution_count": 5,
   "id": "739073ed-6cf8-4bdd-bd94-c151f4d0ba19",
   "metadata": {},
   "outputs": [],
   "source": [
    "#合并编码器和解码器\n",
    "class EncoderDecoder(nn.Module):\n",
    "    def __init__(self,encoder,decoder,**kwargs):\n",
    "        super().__init__(**kwargs)\n",
    "        self.encoder = encoder\n",
    "        self.decoder = decoder\n",
    "    def forward(self,enc_X,dec_X,*args):\n",
    "        enc_outputs = self.encoder(enc_X,*args)\n",
    "        dec_state = self.decoder.init_state(enc_outputs,*args)\n",
    "        return self.decoder(dec_X,dec_state)\n",
    "        "
   ]
  },
  {
   "cell_type": "markdown",
   "id": "f56d9181-155a-4ebc-9adf-680cfaa2360a",
   "metadata": {},
   "source": [
    "<img src=\"encoder和decoder_01.png\" width=\"800\" >\n",
    "<img src=\"encoder和decoder_02.png\" width=\"800\" >"
   ]
  },
  {
   "cell_type": "code",
   "execution_count": 6,
   "id": "7d7f9c1d-3ec3-4bcd-9b18-9b10d81de29b",
   "metadata": {},
   "outputs": [],
   "source": [
    "import collections\n",
    "import math\n",
    "import torch\n",
    "import d2l.torch as d2l\n"
   ]
  },
  {
   "cell_type": "code",
   "execution_count": 18,
   "id": "ab2587d7-83c8-4e99-ae90-a9a179e01efb",
   "metadata": {},
   "outputs": [],
   "source": [
    "#seq2seq encoder\n",
    "class Seq2SeqEncoder(Encoder):\n",
    "    def __init__(self,vocab_size,embed_size,num_hiddens,num_layers,dropout=0,**kwargs):\n",
    "        super().__init__(**kwargs)\n",
    "        #嵌入层\n",
    "        self.embedding = nn.Embedding(vocab_size,embed_size)\n",
    "        self.rnn = nn.GRU(embed_size,num_hiddens,num_layers,dropout=dropout)\n",
    "\n",
    "    def forward(self,X,*args):\n",
    "        #注意X的形状，在进行embedding之前，x的形状是多少？一般都是（batch_size,num_steps,vocab_size）\n",
    "        #X经过embedding处理，X的形状：（batch_size,num_steps,embed_size）\n",
    "        X = self.embedding(X)\n",
    "        #根据文档说明，GRU默认是：（num_steps,batch_size,embed_size）所以要调换一下维度顺序\n",
    "        X = X.permute(1,0,2)\n",
    "        #没有手动传入state，这时，pytorch会帮我们完成隐藏状态的初始化，即0\n",
    "        output,state = self.rnn(X)\n",
    "        #output的形状：（num_steps,batch_size,num_hiddens）\n",
    "        #state的形状：（num_layers,batch_size,num_hiddens）\n",
    "        return output,state"
   ]
  },
  {
   "cell_type": "code",
   "execution_count": 15,
   "id": "57c95db2-46fb-49ff-bc9c-c1cba0d6ebff",
   "metadata": {},
   "outputs": [],
   "source": [
    "encoder = Seq2SeqEncoder(vocab_size=10,embed_size=8,num_hiddens=16,num_layers=2)\n",
    "encoder.eval()\n",
    "#batch_size=4,num_steps=7\n",
    "X = torch.zeros((4,7),dtype=torch.long)\n",
    "output,state = encoder(X)"
   ]
  },
  {
   "cell_type": "code",
   "execution_count": 23,
   "id": "6d4ef3b0-9279-4e00-bd97-ea574494c337",
   "metadata": {},
   "outputs": [
    {
     "data": {
      "text/plain": [
       "(torch.Size([7, 4, 16]), torch.Size([2, 4, 16]))"
      ]
     },
     "execution_count": 23,
     "metadata": {},
     "output_type": "execute_result"
    }
   ],
   "source": [
    "output.shape,state.shape"
   ]
  },
  {
   "cell_type": "code",
   "execution_count": 118,
   "id": "2e869231-a87b-4eb7-961c-86ab4abe80de",
   "metadata": {},
   "outputs": [],
   "source": [
    "#seq2seq decoder\n",
    "class Seq2SeqDecoder(Encoder):\n",
    "    def __init__(self,vocab_size,embed_size,num_hiddens,num_layers,dropout=0,**kwargs):\n",
    "        super().__init__(**kwargs)\n",
    "        #嵌入层\n",
    "        self.embedding = nn.Embedding(vocab_size,embed_size)\n",
    "        self.rnn = nn.GRU(embed_size + num_hiddens,num_hiddens,num_layers,dropout=dropout)\n",
    "        #输出层\n",
    "        self.dense = nn.Linear(num_hiddens,vocab_size)\n",
    "\n",
    "    def init_state(self,enc_outputs,*args):\n",
    "        return enc_outputs[1]\n",
    "        \n",
    "    def forward(self,X,state):\n",
    "        #X经过embedding处理，X的形状（batch_size,num_steps,embed_size）\n",
    "        X = self.embedding(X)\n",
    "        #根据文档说明，GRU默认是：（num_steps,batch_size,embed_size）所以要调换一下维度顺序\n",
    "        X = X.permute(1,0,2)\n",
    "        #把X和state拼接到一起，方便计算\n",
    "        #print('X现在的形状（num_steps,batch_size,embed_size）:',X.shape)\n",
    "        #print('最后一层state的形状（batch_size,num_hiddens）:',state[-1].shape)\n",
    "        #X现在的形状（num_steps,batch_size,embed_size）最后一层state的形状（batch_size,num_hiddens）\n",
    "        #要把state的形状扩充成三维，变成（numn_steps,batch_size,embed_size）\n",
    "        context = state[-1].repeat(X.shape[0],1,1)\n",
    "        #print('要把state的形状扩充成三维，变成（numn_steps,batch_size,num_hiddens）:',context.shape)\n",
    "        X_and_context = torch.cat((X,context),2)\n",
    "        #print('X_and_context:',X_and_context.shape)\n",
    "        output,state = self.rnn(X_and_context,state)\n",
    "        output = self.dense(output).permute(1,0,2)\n",
    "        #output的形状：（batch_size,num_steps,vocab_size）\n",
    "        #state的形状：（num_layers,batch_size,num_hiddens）\n",
    "        return output,state"
   ]
  },
  {
   "cell_type": "code",
   "execution_count": 51,
   "id": "a50d8123-f231-43a5-a2a0-5584ca991127",
   "metadata": {},
   "outputs": [
    {
     "name": "stdout",
     "output_type": "stream",
     "text": [
      "X现在的形状（num_steps,batch_size,embed_size）: torch.Size([7, 4, 8])\n",
      "最后一层state的形状（batch_size,num_hiddens）: torch.Size([4, 16])\n",
      "要把state的形状扩充成三维，变成（numn_steps,batch_size,num_hiddens）: torch.Size([7, 4, 16])\n",
      "X_and_context: torch.Size([7, 4, 24])\n"
     ]
    }
   ],
   "source": [
    "decoder = Seq2SeqDecoder(vocab_size=10,embed_size=8,num_hiddens=16,num_layers=2)\n",
    "decoder.eval()\n",
    "state = decoder.init_state(encoder(X))\n",
    "output,state = decoder(X,state)\n"
   ]
  },
  {
   "cell_type": "code",
   "execution_count": 41,
   "id": "aa0c9bbe-8cd5-4d1b-ab9d-2264aa195191",
   "metadata": {},
   "outputs": [
    {
     "data": {
      "text/plain": [
       "(torch.Size([4, 7, 10]), torch.Size([2, 4, 16]))"
      ]
     },
     "execution_count": 41,
     "metadata": {},
     "output_type": "execute_result"
    }
   ],
   "source": [
    "output.shape,state.shape"
   ]
  },
  {
   "cell_type": "code",
   "execution_count": 34,
   "id": "74a8cfb7-ca88-4338-b123-0c4fccca2542",
   "metadata": {},
   "outputs": [
    {
     "data": {
      "text/plain": [
       "torch.Size([4, 16])"
      ]
     },
     "execution_count": 34,
     "metadata": {},
     "output_type": "execute_result"
    }
   ],
   "source": [
    "randint_tensor = torch.randint(0, 10, (4, 16))  # [0, 10)的随机整数ones_tensor\n",
    "randint_tensor.shape"
   ]
  },
  {
   "cell_type": "code",
   "execution_count": 33,
   "id": "3a6fd516-f0ca-4383-87dc-d5a17863012a",
   "metadata": {},
   "outputs": [
    {
     "data": {
      "text/plain": [
       "torch.Size([7, 4, 16])"
      ]
     },
     "execution_count": 33,
     "metadata": {},
     "output_type": "execute_result"
    }
   ],
   "source": [
    "randint_tensor.repeat(7,1,1).shape"
   ]
  },
  {
   "cell_type": "markdown",
   "id": "af3e3cad-51ea-4110-8998-8e734ffdc39e",
   "metadata": {},
   "source": [
    "### Seq2Seq训练"
   ]
  },
  {
   "cell_type": "code",
   "execution_count": 56,
   "id": "2b4659a9-fb04-4ba0-8dc4-1ba58fd3222b",
   "metadata": {},
   "outputs": [
    {
     "data": {
      "text/plain": [
       "tensor([[0, 1, 2]])"
      ]
     },
     "execution_count": 56,
     "metadata": {},
     "output_type": "execute_result"
    }
   ],
   "source": [
    "torch.arange((3))[None,:]"
   ]
  },
  {
   "cell_type": "code",
   "execution_count": 58,
   "id": "849debb0-09ab-4f2c-80b2-a48c76437177",
   "metadata": {},
   "outputs": [
    {
     "data": {
      "text/plain": [
       "tensor([[1],\n",
       "        [1]])"
      ]
     },
     "execution_count": 58,
     "metadata": {},
     "output_type": "execute_result"
    }
   ],
   "source": [
    "torch.tensor([1,1])[:,None]"
   ]
  },
  {
   "cell_type": "code",
   "execution_count": 59,
   "id": "62819ead-b57c-4998-b9e9-6106f81a57a1",
   "metadata": {},
   "outputs": [
    {
     "data": {
      "text/plain": [
       "tensor([[ True, False, False],\n",
       "        [ True, False, False]])"
      ]
     },
     "execution_count": 59,
     "metadata": {},
     "output_type": "execute_result"
    }
   ],
   "source": [
    "torch.arange((3))[None,:] < torch.tensor([1,1])[:,None]"
   ]
  },
  {
   "cell_type": "code",
   "execution_count": 60,
   "id": "1ea97682-1c48-428a-ab6c-24d3906045e9",
   "metadata": {},
   "outputs": [
    {
     "data": {
      "text/plain": [
       "tensor([[1],\n",
       "        [1]])"
      ]
     },
     "execution_count": 60,
     "metadata": {},
     "output_type": "execute_result"
    }
   ],
   "source": [
    "torch.tensor([1,1]).reshape(2,1)"
   ]
  },
  {
   "cell_type": "markdown",
   "id": "91885fe6-b685-46a5-90e3-40aa5566bf17",
   "metadata": {},
   "source": [
    "#### 重写交叉熵损失，添加屏蔽无效内容的部分"
   ]
  },
  {
   "cell_type": "code",
   "execution_count": 107,
   "id": "770d2e1a-4561-44bc-8c92-ea3a917c3cc4",
   "metadata": {},
   "outputs": [],
   "source": [
    "#seq2seq的训练，pytorch中训练代码，都是一个套路\n",
    "def sequence_mask(X,valid_len,value=0):\n",
    "    #找到最大序列长度\n",
    "    maxlen = X.size(1)\n",
    "    mask = torch.arange((maxlen),dtype=torch.float32,device=X.device)[None] < valid_len[:,None]\n",
    "    #print(mask)\n",
    "    X[~mask] = value\n",
    "    return X"
   ]
  },
  {
   "cell_type": "code",
   "execution_count": 66,
   "id": "4e6fb529-d0f8-468f-b523-341299c982f9",
   "metadata": {},
   "outputs": [
    {
     "data": {
      "text/plain": [
       "tensor([[[1., 1., 1., 1.],\n",
       "         [1., 1., 1., 1.],\n",
       "         [1., 1., 1., 1.]],\n",
       "\n",
       "        [[1., 1., 1., 1.],\n",
       "         [1., 1., 1., 1.],\n",
       "         [1., 1., 1., 1.]]])"
      ]
     },
     "execution_count": 66,
     "metadata": {},
     "output_type": "execute_result"
    }
   ],
   "source": [
    "x2 = torch.ones(2,3,4)\n",
    "x2"
   ]
  },
  {
   "cell_type": "code",
   "execution_count": 67,
   "id": "45c204bd-a66e-41c2-a9f9-89bb1c359ef1",
   "metadata": {},
   "outputs": [
    {
     "name": "stdout",
     "output_type": "stream",
     "text": [
      "tensor([[ True, False, False],\n",
      "        [ True, False, False]])\n"
     ]
    },
    {
     "data": {
      "text/plain": [
       "tensor([[[1., 1., 1., 1.],\n",
       "         [0., 0., 0., 0.],\n",
       "         [0., 0., 0., 0.]],\n",
       "\n",
       "        [[1., 1., 1., 1.],\n",
       "         [0., 0., 0., 0.],\n",
       "         [0., 0., 0., 0.]]])"
      ]
     },
     "execution_count": 67,
     "metadata": {},
     "output_type": "execute_result"
    }
   ],
   "source": [
    "sequence_mask(x2,torch.tensor([1,1]))"
   ]
  },
  {
   "cell_type": "code",
   "execution_count": 108,
   "id": "39f1608c-cf9e-44b5-846a-f6458912ad7b",
   "metadata": {},
   "outputs": [],
   "source": [
    "#重写交叉熵损失，添加屏蔽无效内容的部分\n",
    "class MaskedSoftmaxCELoss(nn.CrossEntropyLoss):\n",
    "    #重写forward\n",
    "    #pred的形状（batchsize,num_steps,vocab_size）\n",
    "    #label的形状（batchsize,num_steps）\n",
    "    #valid_len的形状（batchsize,）\n",
    "    def forward(self,pred,label,valid_len):\n",
    "        weights = torch.ones_like(label)     \n",
    "        weights = sequence_mask(weights,valid_len)\n",
    "        #先调用原始的交叉熵损失，就可以计算没有被mask的损失\n",
    "        self.reduction = 'none'\n",
    "        unweighted_loss = super().forward(pred.permute(0,2,1),label)\n",
    "        #print(unweighted_loss)\n",
    "        weighted_loss = (unweighted_loss * weights).mean(dim=1)\n",
    "        return weighted_loss\n"
   ]
  },
  {
   "cell_type": "code",
   "execution_count": 109,
   "id": "7e8dcf2d-eba6-41db-83b9-480989b8af06",
   "metadata": {},
   "outputs": [
    {
     "data": {
      "text/plain": [
       "tensor([2.3026, 1.1513, 0.0000])"
      ]
     },
     "execution_count": 109,
     "metadata": {},
     "output_type": "execute_result"
    }
   ],
   "source": [
    "loss = MaskedSoftmaxCELoss()\n",
    "loss(torch.ones(3,4,10),torch.ones((3,4),dtype=torch.long),torch.tensor([4,2,0]))"
   ]
  },
  {
   "cell_type": "code",
   "execution_count": 88,
   "id": "099e9b30-44b7-4fcf-bcbe-970c40022caf",
   "metadata": {},
   "outputs": [
    {
     "data": {
      "text/plain": [
       "tensor([[0.0536, 0.0343],\n",
       "        [0.6146, 0.8206]])"
      ]
     },
     "execution_count": 88,
     "metadata": {},
     "output_type": "execute_result"
    }
   ],
   "source": [
    "uniform_tensor = torch.rand(2, 2) \n",
    "uniform_tensor"
   ]
  },
  {
   "cell_type": "code",
   "execution_count": 90,
   "id": "0706bb13-2a09-442d-a027-fc037c9fd5dc",
   "metadata": {},
   "outputs": [
    {
     "data": {
      "text/plain": [
       "tensor([0.0440, 0.7176])"
      ]
     },
     "execution_count": 90,
     "metadata": {},
     "output_type": "execute_result"
    }
   ],
   "source": [
    "uniform_tensor.mean(dim=1)"
   ]
  },
  {
   "cell_type": "markdown",
   "id": "0cede62c-50cd-4396-8370-e7e4f79372d0",
   "metadata": {},
   "source": [
    "#### 训练代码"
   ]
  },
  {
   "cell_type": "code",
   "execution_count": 115,
   "id": "68260fe3-4c2c-43c8-8d31-3aa56d6a2d7b",
   "metadata": {},
   "outputs": [],
   "source": [
    "#训练方法\n",
    "def train_seq2seq(net, data_iter, lr, num_epochs, tgt_vocab, device):\n",
    "    #初始化  RNN网络的xavier初始化的代码都一样\n",
    "    def xavier_init_weights(m):\n",
    "        #判断模型是线性模型时\n",
    "        if type(m) == nn.Linear:\n",
    "            nn.init.xavier_uniform_(m.weight)\n",
    "        #若模型为GRU（2层循环层）模型时\n",
    "        if type(m) == nn.GRU:\n",
    "            #遍历每一层的权重参数名称\n",
    "            for param in m._flat_weights_names:\n",
    "                #若权重在参数中\n",
    "                if 'weight' in param:\n",
    "                    nn.init.xavier_uniform_(m._parameters[param])\n",
    "                    \n",
    "    #网络应用xavier初始化的权重\n",
    "    net.apply(xavier_init_weights)\n",
    "    \n",
    "    #网络转移到device上\n",
    "    net.to(device)\n",
    "    \n",
    "    #用网络初始化的参数与学习率设置优化器\n",
    "    optimizer = torch.optim.Adam(net.parameters(),lr=lr)\n",
    "    \n",
    "    #创建损失函数的实例对象\n",
    "    loss = MaskedSoftmaxCELoss()\n",
    "    \n",
    "    #设置实时更新的画图可视化dltools.Animator()\n",
    "    animator = d2l.Animator(xlabel='epoch', ylabel='loss', xlim=[10, num_epochs])\n",
    "\n",
    "    for epoch in range(num_epochs):\n",
    "        \n",
    "        timer = d2l.Timer()   #训练数据的计时\n",
    "        metric = d2l.Accumulator(2) #累加统计两种数值：训练的总损失， 词元数量\n",
    "\n",
    "        for batch in data_iter:#遍历数据迭代器的批次\n",
    "            #梯度清零\n",
    "            optimizer.zero_grad()\n",
    "            \n",
    "            #取数据\n",
    "            X, X_valid_len, Y, Y_valid_len = [x.to(device) for x in batch]\n",
    "            bos = torch.tensor([tgt_vocab['<bos>']] * Y.shape[0], device=device).reshape(-1,1)\n",
    "            # 开头加上了bos, 那么Y就要去掉最后一列, 保证序列的长度不变. \n",
    "            dec_input = torch.cat([bos, Y[:, :-1]], 1)  #给每一行都加上bos\n",
    "            \n",
    "            #获取预测值，state不接收\n",
    "            Y_pred, _ = net(X, dec_input, X_valid_len)\n",
    "            \n",
    "            #计算损失\n",
    "            l = loss(Y_pred, Y, Y_valid_len)  #Y_valid_len属于*args其他位置参数传入的\n",
    "            \n",
    "            #反向传播\n",
    "            l.sum().backward()\n",
    "            \n",
    "            #梯度裁剪\n",
    "            d2l.grad_clipping(net,theta=1)\n",
    "            \n",
    "            #更新梯度\n",
    "            num_tokens = Y_valid_len.sum()\n",
    "            optimizer.step()\n",
    "            with torch.no_grad(): #不求导\n",
    "                metric.add(l.sum(),num_tokens)\n",
    "            \n",
    "        if (epoch+1) % 10 ==0:  #若每训练循环10次\n",
    "            animator.add(epoch+1, (metric[0]/ metric[1]))\n",
    "            print(f'loss {metric[0]/ metric[1]:.3f}, {metric[1] / timer.stop():.1f}', f'tokens/sec on {str(device)}')"
   ]
  },
  {
   "cell_type": "code",
   "execution_count": 119,
   "id": "3eb55e94-7627-4b21-b1f0-93f93679354f",
   "metadata": {},
   "outputs": [
    {
     "name": "stdout",
     "output_type": "stream",
     "text": [
      "loss 0.032, 11184.9 tokens/sec on cuda:0\n"
     ]
    },
    {
     "data": {
      "image/svg+xml": [
       "<?xml version=\"1.0\" encoding=\"utf-8\" standalone=\"no\"?>\n",
       "<!DOCTYPE svg PUBLIC \"-//W3C//DTD SVG 1.1//EN\"\n",
       "  \"http://www.w3.org/Graphics/SVG/1.1/DTD/svg11.dtd\">\n",
       "<svg xmlns:xlink=\"http://www.w3.org/1999/xlink\" width=\"262.1875pt\" height=\"183.35625pt\" viewBox=\"0 0 262.1875 183.35625\" xmlns=\"http://www.w3.org/2000/svg\" version=\"1.1\">\n",
       " <metadata>\n",
       "  <rdf:RDF xmlns:dc=\"http://purl.org/dc/elements/1.1/\" xmlns:cc=\"http://creativecommons.org/ns#\" xmlns:rdf=\"http://www.w3.org/1999/02/22-rdf-syntax-ns#\">\n",
       "   <cc:Work>\n",
       "    <dc:type rdf:resource=\"http://purl.org/dc/dcmitype/StillImage\"/>\n",
       "    <dc:date>2025-09-20T00:08:39.287704</dc:date>\n",
       "    <dc:format>image/svg+xml</dc:format>\n",
       "    <dc:creator>\n",
       "     <cc:Agent>\n",
       "      <dc:title>Matplotlib v3.7.2, https://matplotlib.org/</dc:title>\n",
       "     </cc:Agent>\n",
       "    </dc:creator>\n",
       "   </cc:Work>\n",
       "  </rdf:RDF>\n",
       " </metadata>\n",
       " <defs>\n",
       "  <style type=\"text/css\">*{stroke-linejoin: round; stroke-linecap: butt}</style>\n",
       " </defs>\n",
       " <g id=\"figure_1\">\n",
       "  <g id=\"patch_1\">\n",
       "   <path d=\"M 0 183.35625 \n",
       "L 262.1875 183.35625 \n",
       "L 262.1875 0 \n",
       "L 0 0 \n",
       "z\n",
       "\" style=\"fill: #ffffff\"/>\n",
       "  </g>\n",
       "  <g id=\"axes_1\">\n",
       "   <g id=\"patch_2\">\n",
       "    <path d=\"M 50.14375 145.8 \n",
       "L 245.44375 145.8 \n",
       "L 245.44375 7.2 \n",
       "L 50.14375 7.2 \n",
       "z\n",
       "\" style=\"fill: #ffffff\"/>\n",
       "   </g>\n",
       "   <g id=\"matplotlib.axis_1\">\n",
       "    <g id=\"xtick_1\">\n",
       "     <g id=\"line2d_1\">\n",
       "      <path d=\"M 71.84375 145.8 \n",
       "L 71.84375 7.2 \n",
       "\" clip-path=\"url(#p2a89d38b08)\" style=\"fill: none; stroke: #b0b0b0; stroke-width: 0.8; stroke-linecap: square\"/>\n",
       "     </g>\n",
       "     <g id=\"line2d_2\">\n",
       "      <defs>\n",
       "       <path id=\"mfd44eed7ca\" d=\"M 0 0 \n",
       "L 0 3.5 \n",
       "\" style=\"stroke: #000000; stroke-width: 0.8\"/>\n",
       "      </defs>\n",
       "      <g>\n",
       "       <use xlink:href=\"#mfd44eed7ca\" x=\"71.84375\" y=\"145.8\" style=\"stroke: #000000; stroke-width: 0.8\"/>\n",
       "      </g>\n",
       "     </g>\n",
       "     <g id=\"text_1\">\n",
       "      <!-- 20 -->\n",
       "      <g transform=\"translate(65.48125 160.398438) scale(0.1 -0.1)\">\n",
       "       <defs>\n",
       "        <path id=\"DejaVuSans-32\" d=\"M 1228 531 \n",
       "L 3431 531 \n",
       "L 3431 0 \n",
       "L 469 0 \n",
       "L 469 531 \n",
       "Q 828 903 1448 1529 \n",
       "Q 2069 2156 2228 2338 \n",
       "Q 2531 2678 2651 2914 \n",
       "Q 2772 3150 2772 3378 \n",
       "Q 2772 3750 2511 3984 \n",
       "Q 2250 4219 1831 4219 \n",
       "Q 1534 4219 1204 4116 \n",
       "Q 875 4013 500 3803 \n",
       "L 500 4441 \n",
       "Q 881 4594 1212 4672 \n",
       "Q 1544 4750 1819 4750 \n",
       "Q 2544 4750 2975 4387 \n",
       "Q 3406 4025 3406 3419 \n",
       "Q 3406 3131 3298 2873 \n",
       "Q 3191 2616 2906 2266 \n",
       "Q 2828 2175 2409 1742 \n",
       "Q 1991 1309 1228 531 \n",
       "z\n",
       "\" transform=\"scale(0.015625)\"/>\n",
       "        <path id=\"DejaVuSans-30\" d=\"M 2034 4250 \n",
       "Q 1547 4250 1301 3770 \n",
       "Q 1056 3291 1056 2328 \n",
       "Q 1056 1369 1301 889 \n",
       "Q 1547 409 2034 409 \n",
       "Q 2525 409 2770 889 \n",
       "Q 3016 1369 3016 2328 \n",
       "Q 3016 3291 2770 3770 \n",
       "Q 2525 4250 2034 4250 \n",
       "z\n",
       "M 2034 4750 \n",
       "Q 2819 4750 3233 4129 \n",
       "Q 3647 3509 3647 2328 \n",
       "Q 3647 1150 3233 529 \n",
       "Q 2819 -91 2034 -91 \n",
       "Q 1250 -91 836 529 \n",
       "Q 422 1150 422 2328 \n",
       "Q 422 3509 836 4129 \n",
       "Q 1250 4750 2034 4750 \n",
       "z\n",
       "\" transform=\"scale(0.015625)\"/>\n",
       "       </defs>\n",
       "       <use xlink:href=\"#DejaVuSans-32\"/>\n",
       "       <use xlink:href=\"#DejaVuSans-30\" x=\"63.623047\"/>\n",
       "      </g>\n",
       "     </g>\n",
       "    </g>\n",
       "    <g id=\"xtick_2\">\n",
       "     <g id=\"line2d_3\">\n",
       "      <path d=\"M 115.24375 145.8 \n",
       "L 115.24375 7.2 \n",
       "\" clip-path=\"url(#p2a89d38b08)\" style=\"fill: none; stroke: #b0b0b0; stroke-width: 0.8; stroke-linecap: square\"/>\n",
       "     </g>\n",
       "     <g id=\"line2d_4\">\n",
       "      <g>\n",
       "       <use xlink:href=\"#mfd44eed7ca\" x=\"115.24375\" y=\"145.8\" style=\"stroke: #000000; stroke-width: 0.8\"/>\n",
       "      </g>\n",
       "     </g>\n",
       "     <g id=\"text_2\">\n",
       "      <!-- 40 -->\n",
       "      <g transform=\"translate(108.88125 160.398438) scale(0.1 -0.1)\">\n",
       "       <defs>\n",
       "        <path id=\"DejaVuSans-34\" d=\"M 2419 4116 \n",
       "L 825 1625 \n",
       "L 2419 1625 \n",
       "L 2419 4116 \n",
       "z\n",
       "M 2253 4666 \n",
       "L 3047 4666 \n",
       "L 3047 1625 \n",
       "L 3713 1625 \n",
       "L 3713 1100 \n",
       "L 3047 1100 \n",
       "L 3047 0 \n",
       "L 2419 0 \n",
       "L 2419 1100 \n",
       "L 313 1100 \n",
       "L 313 1709 \n",
       "L 2253 4666 \n",
       "z\n",
       "\" transform=\"scale(0.015625)\"/>\n",
       "       </defs>\n",
       "       <use xlink:href=\"#DejaVuSans-34\"/>\n",
       "       <use xlink:href=\"#DejaVuSans-30\" x=\"63.623047\"/>\n",
       "      </g>\n",
       "     </g>\n",
       "    </g>\n",
       "    <g id=\"xtick_3\">\n",
       "     <g id=\"line2d_5\">\n",
       "      <path d=\"M 158.64375 145.8 \n",
       "L 158.64375 7.2 \n",
       "\" clip-path=\"url(#p2a89d38b08)\" style=\"fill: none; stroke: #b0b0b0; stroke-width: 0.8; stroke-linecap: square\"/>\n",
       "     </g>\n",
       "     <g id=\"line2d_6\">\n",
       "      <g>\n",
       "       <use xlink:href=\"#mfd44eed7ca\" x=\"158.64375\" y=\"145.8\" style=\"stroke: #000000; stroke-width: 0.8\"/>\n",
       "      </g>\n",
       "     </g>\n",
       "     <g id=\"text_3\">\n",
       "      <!-- 60 -->\n",
       "      <g transform=\"translate(152.28125 160.398438) scale(0.1 -0.1)\">\n",
       "       <defs>\n",
       "        <path id=\"DejaVuSans-36\" d=\"M 2113 2584 \n",
       "Q 1688 2584 1439 2293 \n",
       "Q 1191 2003 1191 1497 \n",
       "Q 1191 994 1439 701 \n",
       "Q 1688 409 2113 409 \n",
       "Q 2538 409 2786 701 \n",
       "Q 3034 994 3034 1497 \n",
       "Q 3034 2003 2786 2293 \n",
       "Q 2538 2584 2113 2584 \n",
       "z\n",
       "M 3366 4563 \n",
       "L 3366 3988 \n",
       "Q 3128 4100 2886 4159 \n",
       "Q 2644 4219 2406 4219 \n",
       "Q 1781 4219 1451 3797 \n",
       "Q 1122 3375 1075 2522 \n",
       "Q 1259 2794 1537 2939 \n",
       "Q 1816 3084 2150 3084 \n",
       "Q 2853 3084 3261 2657 \n",
       "Q 3669 2231 3669 1497 \n",
       "Q 3669 778 3244 343 \n",
       "Q 2819 -91 2113 -91 \n",
       "Q 1303 -91 875 529 \n",
       "Q 447 1150 447 2328 \n",
       "Q 447 3434 972 4092 \n",
       "Q 1497 4750 2381 4750 \n",
       "Q 2619 4750 2861 4703 \n",
       "Q 3103 4656 3366 4563 \n",
       "z\n",
       "\" transform=\"scale(0.015625)\"/>\n",
       "       </defs>\n",
       "       <use xlink:href=\"#DejaVuSans-36\"/>\n",
       "       <use xlink:href=\"#DejaVuSans-30\" x=\"63.623047\"/>\n",
       "      </g>\n",
       "     </g>\n",
       "    </g>\n",
       "    <g id=\"xtick_4\">\n",
       "     <g id=\"line2d_7\">\n",
       "      <path d=\"M 202.04375 145.8 \n",
       "L 202.04375 7.2 \n",
       "\" clip-path=\"url(#p2a89d38b08)\" style=\"fill: none; stroke: #b0b0b0; stroke-width: 0.8; stroke-linecap: square\"/>\n",
       "     </g>\n",
       "     <g id=\"line2d_8\">\n",
       "      <g>\n",
       "       <use xlink:href=\"#mfd44eed7ca\" x=\"202.04375\" y=\"145.8\" style=\"stroke: #000000; stroke-width: 0.8\"/>\n",
       "      </g>\n",
       "     </g>\n",
       "     <g id=\"text_4\">\n",
       "      <!-- 80 -->\n",
       "      <g transform=\"translate(195.68125 160.398438) scale(0.1 -0.1)\">\n",
       "       <defs>\n",
       "        <path id=\"DejaVuSans-38\" d=\"M 2034 2216 \n",
       "Q 1584 2216 1326 1975 \n",
       "Q 1069 1734 1069 1313 \n",
       "Q 1069 891 1326 650 \n",
       "Q 1584 409 2034 409 \n",
       "Q 2484 409 2743 651 \n",
       "Q 3003 894 3003 1313 \n",
       "Q 3003 1734 2745 1975 \n",
       "Q 2488 2216 2034 2216 \n",
       "z\n",
       "M 1403 2484 \n",
       "Q 997 2584 770 2862 \n",
       "Q 544 3141 544 3541 \n",
       "Q 544 4100 942 4425 \n",
       "Q 1341 4750 2034 4750 \n",
       "Q 2731 4750 3128 4425 \n",
       "Q 3525 4100 3525 3541 \n",
       "Q 3525 3141 3298 2862 \n",
       "Q 3072 2584 2669 2484 \n",
       "Q 3125 2378 3379 2068 \n",
       "Q 3634 1759 3634 1313 \n",
       "Q 3634 634 3220 271 \n",
       "Q 2806 -91 2034 -91 \n",
       "Q 1263 -91 848 271 \n",
       "Q 434 634 434 1313 \n",
       "Q 434 1759 690 2068 \n",
       "Q 947 2378 1403 2484 \n",
       "z\n",
       "M 1172 3481 \n",
       "Q 1172 3119 1398 2916 \n",
       "Q 1625 2713 2034 2713 \n",
       "Q 2441 2713 2670 2916 \n",
       "Q 2900 3119 2900 3481 \n",
       "Q 2900 3844 2670 4047 \n",
       "Q 2441 4250 2034 4250 \n",
       "Q 1625 4250 1398 4047 \n",
       "Q 1172 3844 1172 3481 \n",
       "z\n",
       "\" transform=\"scale(0.015625)\"/>\n",
       "       </defs>\n",
       "       <use xlink:href=\"#DejaVuSans-38\"/>\n",
       "       <use xlink:href=\"#DejaVuSans-30\" x=\"63.623047\"/>\n",
       "      </g>\n",
       "     </g>\n",
       "    </g>\n",
       "    <g id=\"xtick_5\">\n",
       "     <g id=\"line2d_9\">\n",
       "      <path d=\"M 245.44375 145.8 \n",
       "L 245.44375 7.2 \n",
       "\" clip-path=\"url(#p2a89d38b08)\" style=\"fill: none; stroke: #b0b0b0; stroke-width: 0.8; stroke-linecap: square\"/>\n",
       "     </g>\n",
       "     <g id=\"line2d_10\">\n",
       "      <g>\n",
       "       <use xlink:href=\"#mfd44eed7ca\" x=\"245.44375\" y=\"145.8\" style=\"stroke: #000000; stroke-width: 0.8\"/>\n",
       "      </g>\n",
       "     </g>\n",
       "     <g id=\"text_5\">\n",
       "      <!-- 100 -->\n",
       "      <g transform=\"translate(235.9 160.398438) scale(0.1 -0.1)\">\n",
       "       <defs>\n",
       "        <path id=\"DejaVuSans-31\" d=\"M 794 531 \n",
       "L 1825 531 \n",
       "L 1825 4091 \n",
       "L 703 3866 \n",
       "L 703 4441 \n",
       "L 1819 4666 \n",
       "L 2450 4666 \n",
       "L 2450 531 \n",
       "L 3481 531 \n",
       "L 3481 0 \n",
       "L 794 0 \n",
       "L 794 531 \n",
       "z\n",
       "\" transform=\"scale(0.015625)\"/>\n",
       "       </defs>\n",
       "       <use xlink:href=\"#DejaVuSans-31\"/>\n",
       "       <use xlink:href=\"#DejaVuSans-30\" x=\"63.623047\"/>\n",
       "       <use xlink:href=\"#DejaVuSans-30\" x=\"127.246094\"/>\n",
       "      </g>\n",
       "     </g>\n",
       "    </g>\n",
       "    <g id=\"text_6\">\n",
       "     <!-- epoch -->\n",
       "     <g transform=\"translate(132.565625 174.076563) scale(0.1 -0.1)\">\n",
       "      <defs>\n",
       "       <path id=\"DejaVuSans-65\" d=\"M 3597 1894 \n",
       "L 3597 1613 \n",
       "L 953 1613 \n",
       "Q 991 1019 1311 708 \n",
       "Q 1631 397 2203 397 \n",
       "Q 2534 397 2845 478 \n",
       "Q 3156 559 3463 722 \n",
       "L 3463 178 \n",
       "Q 3153 47 2828 -22 \n",
       "Q 2503 -91 2169 -91 \n",
       "Q 1331 -91 842 396 \n",
       "Q 353 884 353 1716 \n",
       "Q 353 2575 817 3079 \n",
       "Q 1281 3584 2069 3584 \n",
       "Q 2775 3584 3186 3129 \n",
       "Q 3597 2675 3597 1894 \n",
       "z\n",
       "M 3022 2063 \n",
       "Q 3016 2534 2758 2815 \n",
       "Q 2500 3097 2075 3097 \n",
       "Q 1594 3097 1305 2825 \n",
       "Q 1016 2553 972 2059 \n",
       "L 3022 2063 \n",
       "z\n",
       "\" transform=\"scale(0.015625)\"/>\n",
       "       <path id=\"DejaVuSans-70\" d=\"M 1159 525 \n",
       "L 1159 -1331 \n",
       "L 581 -1331 \n",
       "L 581 3500 \n",
       "L 1159 3500 \n",
       "L 1159 2969 \n",
       "Q 1341 3281 1617 3432 \n",
       "Q 1894 3584 2278 3584 \n",
       "Q 2916 3584 3314 3078 \n",
       "Q 3713 2572 3713 1747 \n",
       "Q 3713 922 3314 415 \n",
       "Q 2916 -91 2278 -91 \n",
       "Q 1894 -91 1617 61 \n",
       "Q 1341 213 1159 525 \n",
       "z\n",
       "M 3116 1747 \n",
       "Q 3116 2381 2855 2742 \n",
       "Q 2594 3103 2138 3103 \n",
       "Q 1681 3103 1420 2742 \n",
       "Q 1159 2381 1159 1747 \n",
       "Q 1159 1113 1420 752 \n",
       "Q 1681 391 2138 391 \n",
       "Q 2594 391 2855 752 \n",
       "Q 3116 1113 3116 1747 \n",
       "z\n",
       "\" transform=\"scale(0.015625)\"/>\n",
       "       <path id=\"DejaVuSans-6f\" d=\"M 1959 3097 \n",
       "Q 1497 3097 1228 2736 \n",
       "Q 959 2375 959 1747 \n",
       "Q 959 1119 1226 758 \n",
       "Q 1494 397 1959 397 \n",
       "Q 2419 397 2687 759 \n",
       "Q 2956 1122 2956 1747 \n",
       "Q 2956 2369 2687 2733 \n",
       "Q 2419 3097 1959 3097 \n",
       "z\n",
       "M 1959 3584 \n",
       "Q 2709 3584 3137 3096 \n",
       "Q 3566 2609 3566 1747 \n",
       "Q 3566 888 3137 398 \n",
       "Q 2709 -91 1959 -91 \n",
       "Q 1206 -91 779 398 \n",
       "Q 353 888 353 1747 \n",
       "Q 353 2609 779 3096 \n",
       "Q 1206 3584 1959 3584 \n",
       "z\n",
       "\" transform=\"scale(0.015625)\"/>\n",
       "       <path id=\"DejaVuSans-63\" d=\"M 3122 3366 \n",
       "L 3122 2828 \n",
       "Q 2878 2963 2633 3030 \n",
       "Q 2388 3097 2138 3097 \n",
       "Q 1578 3097 1268 2742 \n",
       "Q 959 2388 959 1747 \n",
       "Q 959 1106 1268 751 \n",
       "Q 1578 397 2138 397 \n",
       "Q 2388 397 2633 464 \n",
       "Q 2878 531 3122 666 \n",
       "L 3122 134 \n",
       "Q 2881 22 2623 -34 \n",
       "Q 2366 -91 2075 -91 \n",
       "Q 1284 -91 818 406 \n",
       "Q 353 903 353 1747 \n",
       "Q 353 2603 823 3093 \n",
       "Q 1294 3584 2113 3584 \n",
       "Q 2378 3584 2631 3529 \n",
       "Q 2884 3475 3122 3366 \n",
       "z\n",
       "\" transform=\"scale(0.015625)\"/>\n",
       "       <path id=\"DejaVuSans-68\" d=\"M 3513 2113 \n",
       "L 3513 0 \n",
       "L 2938 0 \n",
       "L 2938 2094 \n",
       "Q 2938 2591 2744 2837 \n",
       "Q 2550 3084 2163 3084 \n",
       "Q 1697 3084 1428 2787 \n",
       "Q 1159 2491 1159 1978 \n",
       "L 1159 0 \n",
       "L 581 0 \n",
       "L 581 4863 \n",
       "L 1159 4863 \n",
       "L 1159 2956 \n",
       "Q 1366 3272 1645 3428 \n",
       "Q 1925 3584 2291 3584 \n",
       "Q 2894 3584 3203 3211 \n",
       "Q 3513 2838 3513 2113 \n",
       "z\n",
       "\" transform=\"scale(0.015625)\"/>\n",
       "      </defs>\n",
       "      <use xlink:href=\"#DejaVuSans-65\"/>\n",
       "      <use xlink:href=\"#DejaVuSans-70\" x=\"61.523438\"/>\n",
       "      <use xlink:href=\"#DejaVuSans-6f\" x=\"125\"/>\n",
       "      <use xlink:href=\"#DejaVuSans-63\" x=\"186.181641\"/>\n",
       "      <use xlink:href=\"#DejaVuSans-68\" x=\"241.162109\"/>\n",
       "     </g>\n",
       "    </g>\n",
       "   </g>\n",
       "   <g id=\"matplotlib.axis_2\">\n",
       "    <g id=\"ytick_1\">\n",
       "     <g id=\"line2d_11\">\n",
       "      <path d=\"M 50.14375 126.226915 \n",
       "L 245.44375 126.226915 \n",
       "\" clip-path=\"url(#p2a89d38b08)\" style=\"fill: none; stroke: #b0b0b0; stroke-width: 0.8; stroke-linecap: square\"/>\n",
       "     </g>\n",
       "     <g id=\"line2d_12\">\n",
       "      <defs>\n",
       "       <path id=\"m0ddb9b4dda\" d=\"M 0 0 \n",
       "L -3.5 0 \n",
       "\" style=\"stroke: #000000; stroke-width: 0.8\"/>\n",
       "      </defs>\n",
       "      <g>\n",
       "       <use xlink:href=\"#m0ddb9b4dda\" x=\"50.14375\" y=\"126.226915\" style=\"stroke: #000000; stroke-width: 0.8\"/>\n",
       "      </g>\n",
       "     </g>\n",
       "     <g id=\"text_7\">\n",
       "      <!-- 0.05 -->\n",
       "      <g transform=\"translate(20.878125 130.026133) scale(0.1 -0.1)\">\n",
       "       <defs>\n",
       "        <path id=\"DejaVuSans-2e\" d=\"M 684 794 \n",
       "L 1344 794 \n",
       "L 1344 0 \n",
       "L 684 0 \n",
       "L 684 794 \n",
       "z\n",
       "\" transform=\"scale(0.015625)\"/>\n",
       "        <path id=\"DejaVuSans-35\" d=\"M 691 4666 \n",
       "L 3169 4666 \n",
       "L 3169 4134 \n",
       "L 1269 4134 \n",
       "L 1269 2991 \n",
       "Q 1406 3038 1543 3061 \n",
       "Q 1681 3084 1819 3084 \n",
       "Q 2600 3084 3056 2656 \n",
       "Q 3513 2228 3513 1497 \n",
       "Q 3513 744 3044 326 \n",
       "Q 2575 -91 1722 -91 \n",
       "Q 1428 -91 1123 -41 \n",
       "Q 819 9 494 109 \n",
       "L 494 744 \n",
       "Q 775 591 1075 516 \n",
       "Q 1375 441 1709 441 \n",
       "Q 2250 441 2565 725 \n",
       "Q 2881 1009 2881 1497 \n",
       "Q 2881 1984 2565 2268 \n",
       "Q 2250 2553 1709 2553 \n",
       "Q 1456 2553 1204 2497 \n",
       "Q 953 2441 691 2322 \n",
       "L 691 4666 \n",
       "z\n",
       "\" transform=\"scale(0.015625)\"/>\n",
       "       </defs>\n",
       "       <use xlink:href=\"#DejaVuSans-30\"/>\n",
       "       <use xlink:href=\"#DejaVuSans-2e\" x=\"63.623047\"/>\n",
       "       <use xlink:href=\"#DejaVuSans-30\" x=\"95.410156\"/>\n",
       "       <use xlink:href=\"#DejaVuSans-35\" x=\"159.033203\"/>\n",
       "      </g>\n",
       "     </g>\n",
       "    </g>\n",
       "    <g id=\"ytick_2\">\n",
       "     <g id=\"line2d_13\">\n",
       "      <path d=\"M 50.14375 90.084539 \n",
       "L 245.44375 90.084539 \n",
       "\" clip-path=\"url(#p2a89d38b08)\" style=\"fill: none; stroke: #b0b0b0; stroke-width: 0.8; stroke-linecap: square\"/>\n",
       "     </g>\n",
       "     <g id=\"line2d_14\">\n",
       "      <g>\n",
       "       <use xlink:href=\"#m0ddb9b4dda\" x=\"50.14375\" y=\"90.084539\" style=\"stroke: #000000; stroke-width: 0.8\"/>\n",
       "      </g>\n",
       "     </g>\n",
       "     <g id=\"text_8\">\n",
       "      <!-- 0.10 -->\n",
       "      <g transform=\"translate(20.878125 93.883757) scale(0.1 -0.1)\">\n",
       "       <use xlink:href=\"#DejaVuSans-30\"/>\n",
       "       <use xlink:href=\"#DejaVuSans-2e\" x=\"63.623047\"/>\n",
       "       <use xlink:href=\"#DejaVuSans-31\" x=\"95.410156\"/>\n",
       "       <use xlink:href=\"#DejaVuSans-30\" x=\"159.033203\"/>\n",
       "      </g>\n",
       "     </g>\n",
       "    </g>\n",
       "    <g id=\"ytick_3\">\n",
       "     <g id=\"line2d_15\">\n",
       "      <path d=\"M 50.14375 53.942163 \n",
       "L 245.44375 53.942163 \n",
       "\" clip-path=\"url(#p2a89d38b08)\" style=\"fill: none; stroke: #b0b0b0; stroke-width: 0.8; stroke-linecap: square\"/>\n",
       "     </g>\n",
       "     <g id=\"line2d_16\">\n",
       "      <g>\n",
       "       <use xlink:href=\"#m0ddb9b4dda\" x=\"50.14375\" y=\"53.942163\" style=\"stroke: #000000; stroke-width: 0.8\"/>\n",
       "      </g>\n",
       "     </g>\n",
       "     <g id=\"text_9\">\n",
       "      <!-- 0.15 -->\n",
       "      <g transform=\"translate(20.878125 57.741381) scale(0.1 -0.1)\">\n",
       "       <use xlink:href=\"#DejaVuSans-30\"/>\n",
       "       <use xlink:href=\"#DejaVuSans-2e\" x=\"63.623047\"/>\n",
       "       <use xlink:href=\"#DejaVuSans-31\" x=\"95.410156\"/>\n",
       "       <use xlink:href=\"#DejaVuSans-35\" x=\"159.033203\"/>\n",
       "      </g>\n",
       "     </g>\n",
       "    </g>\n",
       "    <g id=\"ytick_4\">\n",
       "     <g id=\"line2d_17\">\n",
       "      <path d=\"M 50.14375 17.799787 \n",
       "L 245.44375 17.799787 \n",
       "\" clip-path=\"url(#p2a89d38b08)\" style=\"fill: none; stroke: #b0b0b0; stroke-width: 0.8; stroke-linecap: square\"/>\n",
       "     </g>\n",
       "     <g id=\"line2d_18\">\n",
       "      <g>\n",
       "       <use xlink:href=\"#m0ddb9b4dda\" x=\"50.14375\" y=\"17.799787\" style=\"stroke: #000000; stroke-width: 0.8\"/>\n",
       "      </g>\n",
       "     </g>\n",
       "     <g id=\"text_10\">\n",
       "      <!-- 0.20 -->\n",
       "      <g transform=\"translate(20.878125 21.599005) scale(0.1 -0.1)\">\n",
       "       <use xlink:href=\"#DejaVuSans-30\"/>\n",
       "       <use xlink:href=\"#DejaVuSans-2e\" x=\"63.623047\"/>\n",
       "       <use xlink:href=\"#DejaVuSans-32\" x=\"95.410156\"/>\n",
       "       <use xlink:href=\"#DejaVuSans-30\" x=\"159.033203\"/>\n",
       "      </g>\n",
       "     </g>\n",
       "    </g>\n",
       "    <g id=\"text_11\">\n",
       "     <!-- loss -->\n",
       "     <g transform=\"translate(14.798437 86.157813) rotate(-90) scale(0.1 -0.1)\">\n",
       "      <defs>\n",
       "       <path id=\"DejaVuSans-6c\" d=\"M 603 4863 \n",
       "L 1178 4863 \n",
       "L 1178 0 \n",
       "L 603 0 \n",
       "L 603 4863 \n",
       "z\n",
       "\" transform=\"scale(0.015625)\"/>\n",
       "       <path id=\"DejaVuSans-73\" d=\"M 2834 3397 \n",
       "L 2834 2853 \n",
       "Q 2591 2978 2328 3040 \n",
       "Q 2066 3103 1784 3103 \n",
       "Q 1356 3103 1142 2972 \n",
       "Q 928 2841 928 2578 \n",
       "Q 928 2378 1081 2264 \n",
       "Q 1234 2150 1697 2047 \n",
       "L 1894 2003 \n",
       "Q 2506 1872 2764 1633 \n",
       "Q 3022 1394 3022 966 \n",
       "Q 3022 478 2636 193 \n",
       "Q 2250 -91 1575 -91 \n",
       "Q 1294 -91 989 -36 \n",
       "Q 684 19 347 128 \n",
       "L 347 722 \n",
       "Q 666 556 975 473 \n",
       "Q 1284 391 1588 391 \n",
       "Q 1994 391 2212 530 \n",
       "Q 2431 669 2431 922 \n",
       "Q 2431 1156 2273 1281 \n",
       "Q 2116 1406 1581 1522 \n",
       "L 1381 1569 \n",
       "Q 847 1681 609 1914 \n",
       "Q 372 2147 372 2553 \n",
       "Q 372 3047 722 3315 \n",
       "Q 1072 3584 1716 3584 \n",
       "Q 2034 3584 2315 3537 \n",
       "Q 2597 3491 2834 3397 \n",
       "z\n",
       "\" transform=\"scale(0.015625)\"/>\n",
       "      </defs>\n",
       "      <use xlink:href=\"#DejaVuSans-6c\"/>\n",
       "      <use xlink:href=\"#DejaVuSans-6f\" x=\"27.783203\"/>\n",
       "      <use xlink:href=\"#DejaVuSans-73\" x=\"88.964844\"/>\n",
       "      <use xlink:href=\"#DejaVuSans-73\" x=\"141.064453\"/>\n",
       "     </g>\n",
       "    </g>\n",
       "   </g>\n",
       "   <g id=\"line2d_19\">\n",
       "    <path d=\"M 50.14375 13.5 \n",
       "L 71.84375 57.493127 \n",
       "L 93.54375 81.525443 \n",
       "L 115.24375 98.544366 \n",
       "L 136.94375 111.527307 \n",
       "L 158.64375 120.680047 \n",
       "L 180.34375 128.408788 \n",
       "L 202.04375 132.769709 \n",
       "L 223.74375 136.415835 \n",
       "L 245.44375 139.5 \n",
       "\" clip-path=\"url(#p2a89d38b08)\" style=\"fill: none; stroke: #1f77b4; stroke-width: 1.5; stroke-linecap: square\"/>\n",
       "   </g>\n",
       "   <g id=\"patch_3\">\n",
       "    <path d=\"M 50.14375 145.8 \n",
       "L 50.14375 7.2 \n",
       "\" style=\"fill: none; stroke: #000000; stroke-width: 0.8; stroke-linejoin: miter; stroke-linecap: square\"/>\n",
       "   </g>\n",
       "   <g id=\"patch_4\">\n",
       "    <path d=\"M 245.44375 145.8 \n",
       "L 245.44375 7.2 \n",
       "\" style=\"fill: none; stroke: #000000; stroke-width: 0.8; stroke-linejoin: miter; stroke-linecap: square\"/>\n",
       "   </g>\n",
       "   <g id=\"patch_5\">\n",
       "    <path d=\"M 50.14375 145.8 \n",
       "L 245.44375 145.8 \n",
       "\" style=\"fill: none; stroke: #000000; stroke-width: 0.8; stroke-linejoin: miter; stroke-linecap: square\"/>\n",
       "   </g>\n",
       "   <g id=\"patch_6\">\n",
       "    <path d=\"M 50.14375 7.2 \n",
       "L 245.44375 7.2 \n",
       "\" style=\"fill: none; stroke: #000000; stroke-width: 0.8; stroke-linejoin: miter; stroke-linecap: square\"/>\n",
       "   </g>\n",
       "  </g>\n",
       " </g>\n",
       " <defs>\n",
       "  <clipPath id=\"p2a89d38b08\">\n",
       "   <rect x=\"50.14375\" y=\"7.2\" width=\"195.3\" height=\"138.6\"/>\n",
       "  </clipPath>\n",
       " </defs>\n",
       "</svg>\n"
      ],
      "text/plain": [
       "<Figure size 350x250 with 1 Axes>"
      ]
     },
     "metadata": {},
     "output_type": "display_data"
    }
   ],
   "source": [
    "#验证封装的训练代码\n",
    "embed_size, num_hiddens, num_layers, dropout = 32, 32, 2, 0.1\n",
    "batch_size, num_steps = 64, 10\n",
    "\n",
    "lr, num_epochs, device = 0.005, 100, d2l.try_gpu()\n",
    " \n",
    "train_iter, src_vocab, tgt_vocab = d2l.load_data_nmt(batch_size=batch_size,num_steps=num_steps)\n",
    " \n",
    "encoder = Seq2SeqEncoder(len(src_vocab), embed_size, num_hiddens, num_layers, dropout)\n",
    " \n",
    "decoder = Seq2SeqDecoder(len(tgt_vocab), embed_size, num_hiddens, num_layers, dropout)\n",
    " \n",
    "net = EncoderDecoder(encoder, decoder)\n",
    " \n",
    "train_seq2seq(net, train_iter, lr, num_epochs, tgt_vocab, device)"
   ]
  },
  {
   "cell_type": "code",
   "execution_count": 123,
   "id": "89355a20-f5d4-4c5a-b442-08923b758be7",
   "metadata": {},
   "outputs": [],
   "source": [
    "#预测代码 \n",
    "def predict_seq2seq(net, src_sentence, src_vocab, tgt_vocab, num_steps, device):\n",
    "    \"\"\"\n",
    "    src_sentence：传入的需要翻译的句子\n",
    "    src_vocab：需要翻译的词汇表\n",
    "    tgt_vocab：目标真实值词汇表\n",
    "    num_steps：子序列长度\n",
    "    device：GPU或CPU设备\n",
    "    \"\"\"\n",
    "    #预测的时候需要把net设置为评估模式\n",
    "    net.eval()\n",
    "    #获取处理后的文本词元索引（输出是一个索引列表），在文本的结尾加上'<eos>'\n",
    "    src_tokens = src_vocab[src_sentence.lower().split(' ')] + [src_vocab['<eos>']]\n",
    "    #获取编码器输入内容src_tokens的有效长度，转化为tensor(用列表创建tensor)\n",
    "    enc_valid_len = torch.tensor([len(src_tokens)], device=device)\n",
    "    #处理src_tokens太长/太短的问题：截断或者补充pad ,  num_steps表示隔多长截断一次, 覆盖赋值\n",
    "    src_tokens = d2l.truncate_pad(src_tokens, num_steps, src_vocab['<pad>'])\n",
    "    \n",
    "    #给src_tokens增加一个维度来表示批次,  获取enc_X 编码器的输入数据\n",
    "    enc_X = torch.unsqueeze(torch.tensor(src_tokens, dtype=torch.long, device=device), dim=0)\n",
    "    #向网络的编码器中传入enc_X, enc_valid_len，获取编码器的输出结果\n",
    "    enc_outputs = net.encoder(enc_X, enc_valid_len)\n",
    "    #将编码器的输出结果enc_output和有效长度enc_valid_len传入解码器中，获取解码器的输出结果初始化状态dec_state\n",
    "    dec_state = net.decoder.init_state(enc_outputs, enc_valid_len)\n",
    "    \n",
    "    #给预测结果也提前添加一个维度,   tgt_vocab预测词汇表的第一个词应该是文本开头的bos\n",
    "    dec_X = torch.unsqueeze(torch.tensor([tgt_vocab['<bos>']], dtype=torch.long, device=device), dim=0)\n",
    "    \n",
    "    output_seq = []\n",
    "    for _ in range(num_steps):  #循环子序列长度次数\n",
    "        #将dec_state, dec_X输入网络的解码器中\n",
    "        Y, dec_state = net.decoder(dec_X, dec_state)\n",
    "        #将Y重新赋值给dec_X，实现循环输入\n",
    "        dec_X = Y.argmax(dim=2)  #将Y的vocab_size对应的索引2维度聚合找最大值（预测的值）\n",
    "        \n",
    "        #获取预测值：将dec_X去掉一个batc_size维度（此时batc_size=1，就一批数据，可以不要这个维度）\n",
    "        pred = dec_X.squeeze(dim=0).type(torch.int32).item()\n",
    "        #判断结束的条件\n",
    "        if pred == tgt_vocab['<eos>']:\n",
    "            break\n",
    "        output_seq.append(pred)\n",
    "    #返回值：按照索引返回对应词表中的词\n",
    "    return ' '.join(tgt_vocab.to_tokens(output_seq))"
   ]
  },
  {
   "cell_type": "code",
   "execution_count": 120,
   "id": "617c6979-6e3c-47a0-95b8-422df2d2697a",
   "metadata": {},
   "outputs": [],
   "source": [
    "#评估代码\n",
    "def bleu(pred_seq, label_seq, k):\n",
    "    \"\"\"\n",
    "    pred_seq:预测序列\n",
    "    label_seq：真实序列\n",
    "    k： 设定几元连续\n",
    "    \"\"\"\n",
    "    #pred_seq, label_seq预测与目标序列的空格分隔处理(分词)\n",
    "    pred_tokens, label_tokens = pred_seq.split(' '), label_seq.split(' ')\n",
    "    #获取预测词与目标词的长度\n",
    "    len_pred, len_label = len(pred_tokens), len(label_tokens)\n",
    "    #计算bleu的左边部分_比较最小值\n",
    "    score = math.exp(min(0, 1 - (len_label / len_pred)))\n",
    "    for n in range(1, k + 1):  #range左闭右开   #分几元连续的情况\n",
    "        #赋值 ,  #num_matches:预测值与目标值匹配的数量， \n",
    "        #collections.defaultdict(int)创建了一个默认值为int的字典  label_subs\n",
    "        num_matches, label_subs = 0, collections.defaultdict(int)\n",
    "        #循环连续词元的数量\n",
    "        for i in range(len_label - n + 1):\n",
    "            #若预测的词能与目标值匹配上\n",
    "            label_subs[' '.join(label_tokens[i: i + n])] += 1\n",
    "        \n",
    "        for i in range(len_pred - n + 1):\n",
    "            #若能匹配上\n",
    "            if label_subs[' '.join(pred_tokens[i: i + n])] > 0:\n",
    "                num_matches += 1  #匹配数+1\n",
    "                label_subs[' '.join(pred_tokens[i: i + n])] -= 1\n",
    "        score *=  math.pow(num_matches / (len_pred - n + 1), math.pow(0.5, n)) \n",
    "    return score\n"
   ]
  },
  {
   "cell_type": "code",
   "execution_count": 124,
   "id": "82fdef0a-aed2-4402-bfcc-4b4f2f59060b",
   "metadata": {},
   "outputs": [
    {
     "name": "stdout",
     "output_type": "stream",
     "text": [
      "go . => va !, bleu 1.000\n",
      "i lost . => j'ai perdu ., bleu 1.000\n",
      "he's calm . => je sais <unk> !, bleu 0.000\n",
      "i'm home . => je suis ici ., bleu 0.512\n"
     ]
    }
   ],
   "source": [
    "# 开始预测\n",
    "engs = ['go .', 'i lost .', 'he\\'s calm .', 'i\\'m home .']\n",
    "fras = ['va !', 'j\\'ai perdu .', 'il est calme .', 'je suis chez moi .']\n",
    "for eng, fra in zip(engs, fras):\n",
    "    translation = predict_seq2seq(net, eng, src_vocab, tgt_vocab, num_steps, device)\n",
    "    print(f'{eng} => {translation}, bleu {bleu(translation, fra, k=2):.3f}')"
   ]
  },
  {
   "cell_type": "code",
   "execution_count": 125,
   "id": "5cabd668-6161-4e62-9a46-83d3b84133d2",
   "metadata": {},
   "outputs": [
    {
     "data": {
      "text/plain": [
       "\u001b[31mSignature:\u001b[39m d2l.load_data_nmt(batch_size, num_steps, num_examples=\u001b[32m600\u001b[39m)\n",
       "\u001b[31mSource:\u001b[39m   \n",
       "\u001b[38;5;28;01mdef\u001b[39;00m load_data_nmt(batch_size, num_steps, num_examples=\u001b[32m600\u001b[39m):\n",
       "    \u001b[33m\"\"\"Return the iterator and the vocabularies of the translation dataset.\u001b[39m\n",
       "\n",
       "\u001b[33m    Defined in :numref:`sec_utils`\"\"\"\u001b[39m\n",
       "    text = preprocess_nmt(read_data_nmt())\n",
       "    source, target = tokenize_nmt(text, num_examples)\n",
       "    src_vocab = d2l.Vocab(source, min_freq=\u001b[32m2\u001b[39m,\n",
       "                          reserved_tokens=[\u001b[33m'<pad>'\u001b[39m, \u001b[33m'<bos>'\u001b[39m, \u001b[33m'<eos>'\u001b[39m])\n",
       "    tgt_vocab = d2l.Vocab(target, min_freq=\u001b[32m2\u001b[39m,\n",
       "                          reserved_tokens=[\u001b[33m'<pad>'\u001b[39m, \u001b[33m'<bos>'\u001b[39m, \u001b[33m'<eos>'\u001b[39m])\n",
       "    src_array, src_valid_len = build_array_nmt(source, src_vocab, num_steps)\n",
       "    tgt_array, tgt_valid_len = build_array_nmt(target, tgt_vocab, num_steps)\n",
       "    data_arrays = (src_array, src_valid_len, tgt_array, tgt_valid_len)\n",
       "    data_iter = d2l.load_array(data_arrays, batch_size)\n",
       "    \u001b[38;5;28;01mreturn\u001b[39;00m data_iter, src_vocab, tgt_vocab\n",
       "\u001b[31mFile:\u001b[39m      d:\\ai\\pytroch_learning\\lib\\site-packages\\d2l\\torch.py\n",
       "\u001b[31mType:\u001b[39m      function"
      ]
     },
     "metadata": {},
     "output_type": "display_data"
    }
   ],
   "source": [
    "d2l.load_data_nmt??"
   ]
  },
  {
   "cell_type": "code",
   "execution_count": 126,
   "id": "5f564a07-2847-4d3c-b99d-02d11d714b3f",
   "metadata": {},
   "outputs": [
    {
     "data": {
      "text/plain": [
       "\u001b[31mSignature:\u001b[39m d2l.read_data_nmt()\n",
       "\u001b[31mSource:\u001b[39m   \n",
       "\u001b[38;5;28;01mdef\u001b[39;00m read_data_nmt():\n",
       "    \u001b[33m\"\"\"Load the English-French dataset.\u001b[39m\n",
       "\n",
       "\u001b[33m    Defined in :numref:`sec_utils`\"\"\"\u001b[39m\n",
       "    data_dir = d2l.download_extract(\u001b[33m'fra-eng'\u001b[39m)\n",
       "    \u001b[38;5;28;01mwith\u001b[39;00m open(os.path.join(data_dir, \u001b[33m'fra.txt'\u001b[39m), \u001b[33m'r'\u001b[39m, encoding=\u001b[33m'utf-8'\u001b[39m) \u001b[38;5;28;01mas\u001b[39;00m f:\n",
       "        \u001b[38;5;28;01mreturn\u001b[39;00m f.read()\n",
       "\u001b[31mFile:\u001b[39m      d:\\ai\\pytroch_learning\\lib\\site-packages\\d2l\\torch.py\n",
       "\u001b[31mType:\u001b[39m      function"
      ]
     },
     "metadata": {},
     "output_type": "display_data"
    }
   ],
   "source": [
    "d2l.read_data_nmt??"
   ]
  },
  {
   "cell_type": "code",
   "execution_count": 127,
   "id": "179e8a2b-e38d-4ab0-986f-484ea756698b",
   "metadata": {},
   "outputs": [
    {
     "data": {
      "text/plain": [
       "'../data\\\\fra-eng'"
      ]
     },
     "execution_count": 127,
     "metadata": {},
     "output_type": "execute_result"
    }
   ],
   "source": [
    "d2l.download_extract('fra-eng')"
   ]
  },
  {
   "cell_type": "code",
   "execution_count": null,
   "id": "8ee46905-1ee5-4d81-8f73-a45de2db9ce8",
   "metadata": {},
   "outputs": [],
   "source": []
  },
  {
   "cell_type": "code",
   "execution_count": null,
   "id": "20531181-7b98-4d82-ac85-528079c136b0",
   "metadata": {},
   "outputs": [],
   "source": []
  },
  {
   "cell_type": "code",
   "execution_count": null,
   "id": "1cf17294-a4ed-421a-911e-5d2e81fb4a1b",
   "metadata": {},
   "outputs": [],
   "source": []
  },
  {
   "cell_type": "code",
   "execution_count": null,
   "id": "2f926f94-2418-4420-b630-caaa23e8cc8c",
   "metadata": {},
   "outputs": [],
   "source": []
  },
  {
   "cell_type": "code",
   "execution_count": null,
   "id": "6cdf867e-6bf5-4116-b132-9c767e3190df",
   "metadata": {},
   "outputs": [],
   "source": []
  },
  {
   "cell_type": "code",
   "execution_count": null,
   "id": "eecab79c-c3e1-4ce1-a949-244428fbf116",
   "metadata": {},
   "outputs": [],
   "source": []
  },
  {
   "cell_type": "code",
   "execution_count": null,
   "id": "0747037d-f137-4b35-9a94-d2858b94e73f",
   "metadata": {},
   "outputs": [],
   "source": []
  },
  {
   "cell_type": "code",
   "execution_count": null,
   "id": "3ca41da8-4525-472a-b056-5538a2424f5b",
   "metadata": {},
   "outputs": [],
   "source": []
  },
  {
   "cell_type": "code",
   "execution_count": null,
   "id": "9f2a2fb5-69ef-4e25-9ae3-bdd102d26c51",
   "metadata": {},
   "outputs": [],
   "source": []
  },
  {
   "cell_type": "code",
   "execution_count": null,
   "id": "7dbc8c10-394a-4cb8-9221-d3f8d45542db",
   "metadata": {},
   "outputs": [],
   "source": []
  },
  {
   "cell_type": "code",
   "execution_count": null,
   "id": "8b00ff5d-1b8f-4a55-9858-151f2dd22ee5",
   "metadata": {},
   "outputs": [],
   "source": []
  },
  {
   "cell_type": "code",
   "execution_count": null,
   "id": "81301482-9372-44f8-97b5-337775160777",
   "metadata": {},
   "outputs": [],
   "source": []
  },
  {
   "cell_type": "code",
   "execution_count": null,
   "id": "5906450f-9fd1-4fd4-a324-7f7cc130204c",
   "metadata": {},
   "outputs": [],
   "source": []
  },
  {
   "cell_type": "code",
   "execution_count": null,
   "id": "70fcb3b6-e15b-4a3e-908a-a2871f02c90a",
   "metadata": {},
   "outputs": [],
   "source": []
  },
  {
   "cell_type": "code",
   "execution_count": null,
   "id": "d7f6a11a-d0fb-4471-969a-62e8d8002d37",
   "metadata": {},
   "outputs": [],
   "source": []
  },
  {
   "cell_type": "code",
   "execution_count": null,
   "id": "193a119d-b390-4f17-9ed4-9ef7b93b8b15",
   "metadata": {},
   "outputs": [],
   "source": []
  },
  {
   "cell_type": "code",
   "execution_count": null,
   "id": "e9349779-b9d7-4a0e-b6b1-188fdd606414",
   "metadata": {},
   "outputs": [],
   "source": []
  },
  {
   "cell_type": "code",
   "execution_count": null,
   "id": "a69fc2b5-7da1-4776-bb61-6523f3fd0936",
   "metadata": {},
   "outputs": [],
   "source": []
  },
  {
   "cell_type": "code",
   "execution_count": null,
   "id": "826c64d0-9c10-4c5e-bf27-ea5ef690c11e",
   "metadata": {},
   "outputs": [],
   "source": []
  },
  {
   "cell_type": "code",
   "execution_count": null,
   "id": "4b5652d9-0d5b-4e2b-ad09-7a2dcb4ede50",
   "metadata": {},
   "outputs": [],
   "source": []
  },
  {
   "cell_type": "code",
   "execution_count": null,
   "id": "9d5c9d4f-c3af-496e-904f-adf146b0fc9e",
   "metadata": {},
   "outputs": [],
   "source": []
  },
  {
   "cell_type": "code",
   "execution_count": null,
   "id": "e1774b3f-dd82-4d49-8fc7-2b07c2e189d9",
   "metadata": {},
   "outputs": [],
   "source": []
  },
  {
   "cell_type": "code",
   "execution_count": null,
   "id": "2071e305-63bf-46a5-a1ec-9e0278556fb0",
   "metadata": {},
   "outputs": [],
   "source": []
  },
  {
   "cell_type": "code",
   "execution_count": null,
   "id": "c6b5f02f-0846-44c6-aa5d-b4296f363258",
   "metadata": {},
   "outputs": [],
   "source": []
  },
  {
   "cell_type": "code",
   "execution_count": null,
   "id": "214bd237-bdc2-45e9-9548-4a3b5cf23fe9",
   "metadata": {},
   "outputs": [],
   "source": []
  },
  {
   "cell_type": "code",
   "execution_count": null,
   "id": "c4345d19-84f1-4350-a2d9-c2f01faa8027",
   "metadata": {},
   "outputs": [],
   "source": []
  },
  {
   "cell_type": "code",
   "execution_count": null,
   "id": "22c72d07-fe8f-48a5-bbe4-01f3d147aa1f",
   "metadata": {},
   "outputs": [],
   "source": []
  },
  {
   "cell_type": "code",
   "execution_count": null,
   "id": "69b98e88-14dc-4013-a154-f8f05929756a",
   "metadata": {},
   "outputs": [],
   "source": []
  },
  {
   "cell_type": "code",
   "execution_count": null,
   "id": "13c2a679-a6b8-4994-aff2-5935803dc097",
   "metadata": {},
   "outputs": [],
   "source": []
  },
  {
   "cell_type": "code",
   "execution_count": null,
   "id": "a1d3a12a-4cb9-4a8d-bbc2-b0d63872a08f",
   "metadata": {},
   "outputs": [],
   "source": []
  },
  {
   "cell_type": "code",
   "execution_count": null,
   "id": "bdec5692-9165-4836-bc00-41ed427a5aaf",
   "metadata": {},
   "outputs": [],
   "source": []
  },
  {
   "cell_type": "code",
   "execution_count": null,
   "id": "e2beae14-651a-4e1a-ad57-47dc8b0eb96b",
   "metadata": {},
   "outputs": [],
   "source": []
  }
 ],
 "metadata": {
  "kernelspec": {
   "display_name": "Python 3 (ipykernel)",
   "language": "python",
   "name": "python3"
  },
  "language_info": {
   "codemirror_mode": {
    "name": "ipython",
    "version": 3
   },
   "file_extension": ".py",
   "mimetype": "text/x-python",
   "name": "python",
   "nbconvert_exporter": "python",
   "pygments_lexer": "ipython3",
   "version": "3.11.0"
  }
 },
 "nbformat": 4,
 "nbformat_minor": 5
}
