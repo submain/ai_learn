{
 "cells": [
  {
   "cell_type": "code",
   "execution_count": 1,
   "id": "abe6972a-531e-4133-bf88-5d26af371585",
   "metadata": {},
   "outputs": [
    {
     "data": {
      "text/plain": [
       "FileSystemPathPointer('D:\\\\nltk_data')"
      ]
     },
     "execution_count": 1,
     "metadata": {},
     "output_type": "execute_result"
    }
   ],
   "source": [
    "import nltk\n",
    "nltk.find('.')"
   ]
  },
  {
   "cell_type": "code",
   "execution_count": 2,
   "id": "92063c04-bf1e-4c22-ab31-10e49f87696a",
   "metadata": {},
   "outputs": [],
   "source": [
    "from nltk.tokenize import sent_tokenize"
   ]
  },
  {
   "cell_type": "code",
   "execution_count": 3,
   "id": "b2f76df9-8bac-4012-ad5f-22f2a3ef0b9a",
   "metadata": {},
   "outputs": [
    {
     "data": {
      "text/plain": [
       "['The Wake Drive engaged.',\n",
       " 'There was no violent lurch, no crushing G-force.',\n",
       " 'Instead, the stars on the viewscreen stretched into brilliant streaks, then vanished, replaced by a pulsating, kaleidoscopic tunnel of light.',\n",
       " 'The ship was falling upward.']"
      ]
     },
     "execution_count": 3,
     "metadata": {},
     "output_type": "execute_result"
    }
   ],
   "source": [
    "#分句\n",
    "tokenized_text = sent_tokenize('The Wake Drive engaged. There was no violent lurch, no crushing G-force. Instead, the stars on the viewscreen stretched into brilliant streaks, then vanished, replaced by a pulsating, kaleidoscopic tunnel of light. The ship was falling upward.')\n",
    "tokenized_text"
   ]
  },
  {
   "cell_type": "code",
   "execution_count": 4,
   "id": "795e5606-63db-441c-828f-995b9c7e6d76",
   "metadata": {},
   "outputs": [],
   "source": [
    "#分词\n",
    "from nltk import word_tokenize\n",
    "text = 'The Wake Drive engaged.'\n",
    "tokenized_text = word_tokenize(text)"
   ]
  },
  {
   "cell_type": "code",
   "execution_count": 5,
   "id": "ae5af045-6795-4c56-b31d-8ce6d6fa44ff",
   "metadata": {},
   "outputs": [
    {
     "data": {
      "text/plain": [
       "'!\"#$%&\\'()*+,-./:;<=>?@[\\\\]^_`{|}~'"
      ]
     },
     "execution_count": 5,
     "metadata": {},
     "output_type": "execute_result"
    }
   ],
   "source": [
    "#去除标点符号\n",
    "#方法一\n",
    "import string\n",
    "string.punctuation"
   ]
  },
  {
   "cell_type": "code",
   "execution_count": 7,
   "id": "80d58619-4253-4395-9c87-b59c9ad85647",
   "metadata": {},
   "outputs": [
    {
     "data": {
      "text/plain": [
       "'The Wake Drive engaged '"
      ]
     },
     "execution_count": 7,
     "metadata": {},
     "output_type": "execute_result"
    }
   ],
   "source": [
    "text.translate(str.maketrans(string.punctuation,' '* len(string.punctuation)))"
   ]
  },
  {
   "cell_type": "code",
   "execution_count": 8,
   "id": "307c1fec-b9f2-4e48-9c44-eb613f323176",
   "metadata": {},
   "outputs": [
    {
     "data": {
      "text/plain": [
       "['!',\n",
       " '\"',\n",
       " '#',\n",
       " '$',\n",
       " '%',\n",
       " '&',\n",
       " \"'\",\n",
       " '(',\n",
       " ')',\n",
       " '*',\n",
       " '+',\n",
       " ',',\n",
       " '-',\n",
       " '.',\n",
       " '/',\n",
       " ':',\n",
       " ';',\n",
       " '<',\n",
       " '=',\n",
       " '>',\n",
       " '?',\n",
       " '@',\n",
       " '[',\n",
       " '\\\\',\n",
       " ']',\n",
       " '^',\n",
       " '_',\n",
       " '`',\n",
       " '{',\n",
       " '|',\n",
       " '}',\n",
       " '~']"
      ]
     },
     "execution_count": 8,
     "metadata": {},
     "output_type": "execute_result"
    }
   ],
   "source": [
    "#方法二 对tokenized_text过滤\n",
    "punctuation = list(string.punctuation)\n",
    "punctuation"
   ]
  },
  {
   "cell_type": "code",
   "execution_count": 9,
   "id": "0f4bac2d-57f2-435c-b60a-475313544d89",
   "metadata": {},
   "outputs": [
    {
     "data": {
      "text/plain": [
       "['The', 'Wake', 'Drive', 'engaged']"
      ]
     },
     "execution_count": 9,
     "metadata": {},
     "output_type": "execute_result"
    }
   ],
   "source": [
    "tokenized_text = [word for word in tokenized_text if word not in punctuation]\n",
    "tokenized_text"
   ]
  },
  {
   "cell_type": "code",
   "execution_count": 10,
   "id": "1e87ae8e-516e-4207-b630-8041c53864f5",
   "metadata": {},
   "outputs": [],
   "source": [
    "# 去除停用词\n",
    "from nltk.corpus import stopwords\n",
    "stop_words = stopwords.words('english')"
   ]
  },
  {
   "cell_type": "code",
   "execution_count": 11,
   "id": "1303fbd1-5124-4372-8d04-f62050685439",
   "metadata": {},
   "outputs": [
    {
     "data": {
      "text/plain": [
       "['The',\n",
       " 'Wake',\n",
       " 'Drive',\n",
       " 'engaged',\n",
       " '.',\n",
       " 'There',\n",
       " 'was',\n",
       " 'no',\n",
       " 'violent',\n",
       " 'lurch',\n",
       " ',',\n",
       " 'no',\n",
       " 'crushing',\n",
       " 'G-force',\n",
       " '.',\n",
       " 'Instead',\n",
       " ',',\n",
       " 'the',\n",
       " 'stars',\n",
       " 'on',\n",
       " 'the',\n",
       " 'viewscreen',\n",
       " 'stretched',\n",
       " 'into',\n",
       " 'brilliant',\n",
       " 'streaks',\n",
       " ',',\n",
       " 'then',\n",
       " 'vanished',\n",
       " ',',\n",
       " 'replaced',\n",
       " 'by',\n",
       " 'a',\n",
       " 'pulsating',\n",
       " ',',\n",
       " 'kaleidoscopic',\n",
       " 'tunnel',\n",
       " 'of',\n",
       " 'light',\n",
       " '.',\n",
       " 'The',\n",
       " 'ship',\n",
       " 'was',\n",
       " 'falling',\n",
       " 'upward',\n",
       " '.']"
      ]
     },
     "execution_count": 11,
     "metadata": {},
     "output_type": "execute_result"
    }
   ],
   "source": [
    "#分词\n",
    "tokenized_text = word_tokenize('The Wake Drive engaged. There was no violent lurch, no crushing G-force. Instead, the stars on the viewscreen stretched into brilliant streaks, then vanished, replaced by a pulsating, kaleidoscopic tunnel of light. The ship was falling upward.')\n",
    "tokenized_text"
   ]
  },
  {
   "cell_type": "code",
   "execution_count": 12,
   "id": "510aa6fd-c294-4333-ad31-6d39139005d6",
   "metadata": {},
   "outputs": [
    {
     "data": {
      "text/plain": [
       "['The',\n",
       " 'Wake',\n",
       " 'Drive',\n",
       " 'engaged',\n",
       " 'There',\n",
       " 'was',\n",
       " 'no',\n",
       " 'violent',\n",
       " 'lurch',\n",
       " 'no',\n",
       " 'crushing',\n",
       " 'G-force',\n",
       " 'Instead',\n",
       " 'the',\n",
       " 'stars',\n",
       " 'on',\n",
       " 'the',\n",
       " 'viewscreen',\n",
       " 'stretched',\n",
       " 'into',\n",
       " 'brilliant',\n",
       " 'streaks',\n",
       " 'then',\n",
       " 'vanished',\n",
       " 'replaced',\n",
       " 'by',\n",
       " 'a',\n",
       " 'pulsating',\n",
       " 'kaleidoscopic',\n",
       " 'tunnel',\n",
       " 'of',\n",
       " 'light',\n",
       " 'The',\n",
       " 'ship',\n",
       " 'was',\n",
       " 'falling',\n",
       " 'upward']"
      ]
     },
     "execution_count": 12,
     "metadata": {},
     "output_type": "execute_result"
    }
   ],
   "source": [
    "#过滤标点\n",
    "tokenized_text = [word for word in tokenized_text if word not in punctuation]\n",
    "tokenized_text"
   ]
  },
  {
   "cell_type": "code",
   "execution_count": 13,
   "id": "57f62a47-bb0f-4dda-a044-83f8e745bc7b",
   "metadata": {},
   "outputs": [
    {
     "data": {
      "text/plain": [
       "['The',\n",
       " 'Wake',\n",
       " 'Drive',\n",
       " 'engaged',\n",
       " 'There',\n",
       " 'violent',\n",
       " 'lurch',\n",
       " 'crushing',\n",
       " 'G-force',\n",
       " 'Instead',\n",
       " 'stars',\n",
       " 'viewscreen',\n",
       " 'stretched',\n",
       " 'brilliant',\n",
       " 'streaks',\n",
       " 'vanished',\n",
       " 'replaced',\n",
       " 'pulsating',\n",
       " 'kaleidoscopic',\n",
       " 'tunnel',\n",
       " 'light',\n",
       " 'The',\n",
       " 'ship',\n",
       " 'falling',\n",
       " 'upward']"
      ]
     },
     "execution_count": 13,
     "metadata": {},
     "output_type": "execute_result"
    }
   ],
   "source": [
    "#过滤停用词\n",
    "tokenized_text = [word for word in tokenized_text if word not in stop_words]\n",
    "tokenized_text"
   ]
  },
  {
   "cell_type": "code",
   "execution_count": 15,
   "id": "fbe970ef-e24a-40ae-92d2-93ce2d136f19",
   "metadata": {},
   "outputs": [],
   "source": [
    "#词频提取\n",
    "word_freq = nltk.FreqDist(w.lower() for w in tokenized_text)"
   ]
  },
  {
   "cell_type": "code",
   "execution_count": 17,
   "id": "42437f01-5003-4b4e-9c25-34de0afbea30",
   "metadata": {},
   "outputs": [
    {
     "data": {
      "text/plain": [
       "<Axes: xlabel='Samples', ylabel='Counts'>"
      ]
     },
     "execution_count": 17,
     "metadata": {},
     "output_type": "execute_result"
    },
    {
     "data": {
      "image/png": "[encoded data removed]",
      "text/plain": [
       "<Figure size 640x480 with 1 Axes>"
      ]
     },
     "metadata": {},
     "output_type": "display_data"
    }
   ],
   "source": [
    "# 画出词频\n",
    "word_freq.plot()"
   ]
  },
  {
   "cell_type": "code",
   "execution_count": 18,
   "id": "f0355286-ed6b-41de-af24-da4322f12736",
   "metadata": {},
   "outputs": [
    {
     "name": "stdout",
     "output_type": "stream",
     "text": [
      "*** Introductory Examples for the NLTK Book ***\n",
      "Loading text1, ..., text9 and sent1, ..., sent9\n",
      "Type the name of the text or sentence to view it.\n",
      "Type: 'texts()' or 'sents()' to list the materials.\n",
      "text1: Moby Dick by Herman Melville 1851\n",
      "text2: Sense and Sensibility by Jane Austen 1811\n",
      "text3: The Book of Genesis\n",
      "text4: Inaugural Address Corpus\n",
      "text5: Chat Corpus\n",
      "text6: Monty Python and the Holy Grail\n",
      "text7: Wall Street Journal\n",
      "text8: Personals Corpus\n",
      "text9: The Man Who Was Thursday by G . K . Chesterton 1908\n"
     ]
    }
   ],
   "source": [
    "from nltk.book import *"
   ]
  },
  {
   "cell_type": "code",
   "execution_count": 19,
   "id": "03e52664-c4e2-4f56-ab1a-45661741a047",
   "metadata": {},
   "outputs": [
    {
     "name": "stdout",
     "output_type": "stream",
     "text": [
      "Displaying 25 of 65 matches:\n",
      " ? Why is almost every robust healthy boy with a robust healthy soul in him , a\n",
      "lings in a most direful manner . \" My boy ,\" said the landlord , \" you ' ll hav\n",
      "idends . Rising from a little cabin - boy in short clothes of the drabbest drab\n",
      "ain ' t Captain Peleg ; HE ' S AHAB , boy ; and Ahab of old , thou knowest , wa\n",
      " to have a wicked name . Besides , my boy , he has a wife -- not three voyages \n",
      "stors , and scolding her little black boy meantime . \" Wood - house !\" cried I \n",
      "Careful , careful !-- come , Bildad , boy -- say your last . Luck to ye , Starb\n",
      " , no ! he went before . Poor Alabama boy ! On the grim Pequod ' s forecastle ,\n",
      " t sleep then . Didn ' t that Dough - Boy , the steward , tell me that of a mor\n",
      "r hold for , every night , as Dough - Boy tells me he suspects ; what ' s that \n",
      "in - Table . It is noon ; and Dough - Boy , the steward , thrusting his pale lo\n",
      " he was the youngest son , and little boy of this weary family party . His were\n",
      "vious repast , often the pale Dough - Boy was fain to bring on a great baron of\n",
      "ith a sudden humor , assisted Dough - Boy ' s memory by snatching him up bodily\n",
      "ions of these three savages , Dough - Boy ' s whole life was one continual lip \n",
      " much so , that the trembling Dough - Boy almost looked to see whether any mark\n",
      "all tend to tranquillize poor Dough - Boy . How could he forget that in his Isl\n",
      "vivial indiscretions . Alas ! Dough - Boy ! hard fares the white waiter who wai\n",
      "O men , you will yet see that -- Ha ! boy , come back ? bad pennies come not so\n",
      "ht bells there ! d ' ye hear , bell - boy ? Strike the bell eight , thou Pip ! \n",
      "CING ) Go it , Pip ! Bang it , bell - boy ! Rig it , dig it , stig it , quig it\n",
      ", dig it , stig it , quig it , bell - boy ! Make fire - flies ; break the jingl\n",
      "ness , have mercy on this small black boy down here ; preserve him from all men\n",
      "cried Ahab . \" Time ! time !\" Dough - Boy hurried below , glanced at the watch \n",
      "fter hold for , so often , as Dough - Boy long suspected . They were hidden dow\n"
     ]
    }
   ],
   "source": [
    "#单词搜索\n",
    "text1.concordance('boy')"
   ]
  },
  {
   "cell_type": "code",
   "execution_count": 20,
   "id": "1612ae76-8359-40d4-a3f0-4595d7051f01",
   "metadata": {},
   "outputs": [
    {
     "name": "stdout",
     "output_type": "stream",
     "text": [
      "whale ship sea boat way man hand night deck world whales crew it one\n",
      "side water head moment pequod day\n"
     ]
    }
   ],
   "source": [
    "# 相似词搜索\n",
    "text1.similar('time')"
   ]
  },
  {
   "cell_type": "code",
   "execution_count": null,
   "id": "3c06c0ce-c7cd-4680-8862-5370ab02ebca",
   "metadata": {},
   "outputs": [],
   "source": []
  },
  {
   "cell_type": "code",
   "execution_count": null,
   "id": "f3b51850-7d5f-4fd0-951d-4e1cad40c330",
   "metadata": {},
   "outputs": [],
   "source": []
  },
  {
   "cell_type": "code",
   "execution_count": null,
   "id": "0434df41-7344-4067-85f1-13457d591386",
   "metadata": {},
   "outputs": [],
   "source": []
  },
  {
   "cell_type": "code",
   "execution_count": null,
   "id": "e2a90322-fa4c-4805-b3ea-d86bd5c2a1af",
   "metadata": {},
   "outputs": [],
   "source": []
  },
  {
   "cell_type": "code",
   "execution_count": null,
   "id": "08ae854d-0536-48b9-9f90-9cf7568818b5",
   "metadata": {},
   "outputs": [],
   "source": []
  },
  {
   "cell_type": "code",
   "execution_count": null,
   "id": "785dd00f-665b-45e3-b80f-2dc8012964f5",
   "metadata": {},
   "outputs": [],
   "source": []
  },
  {
   "cell_type": "code",
   "execution_count": null,
   "id": "6040bb03-0d8c-4ec1-93c7-c7dc7b70ed6d",
   "metadata": {},
   "outputs": [],
   "source": []
  }
 ],
 "metadata": {
  "kernelspec": {
   "display_name": "Python 3 (ipykernel)",
   "language": "python",
   "name": "python3"
  },
  "language_info": {
   "codemirror_mode": {
    "name": "ipython",
    "version": 3
   },
   "file_extension": ".py",
   "mimetype": "text/x-python",
   "name": "python",
   "nbconvert_exporter": "python",
   "pygments_lexer": "ipython3",
   "version": "3.11.0"
  }
 },
 "nbformat": 4,
 "nbformat_minor": 5
}
