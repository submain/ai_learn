{
 "cells": [
  {
   "cell_type": "code",
   "execution_count": 1,
   "id": "15be0d31-4985-4629-8ad8-05834ccc83c8",
   "metadata": {},
   "outputs": [],
   "source": [
    "import jieba"
   ]
  },
  {
   "cell_type": "code",
   "execution_count": 3,
   "id": "7910e4fc-ecb1-4c27-b0b0-088f3c9ef438",
   "metadata": {},
   "outputs": [
    {
     "data": {
      "text/plain": [
       "['D:\\\\AI\\\\pytroch_learning\\\\Lib\\\\site-packages\\\\jieba']"
      ]
     },
     "execution_count": 3,
     "metadata": {},
     "output_type": "execute_result"
    }
   ],
   "source": [
    "jieba.__path__"
   ]
  },
  {
   "cell_type": "markdown",
   "id": "bc50b70a-7dbf-440a-8105-5fc4993ef305",
   "metadata": {},
   "source": [
    "### jieba分词模式\n",
    "- 精确模式:把句子最精确的切分开，比较适合文本分析，默认精确模式\n",
    "- 全模式:把句子中所有可能的词都扫描出来，cut_all=True,缺点：速度快，不能解决歧义\n",
    "- paddle:利用百度的paddle深度学习框架，简单来说就是使用百度提供的分词模型，use_padd;e=True\n",
    "- 搜索引擎模式:在精确模式的基础上，对长词在进行切分，提高召回率，jieba.cut_for_search"
   ]
  },
  {
   "cell_type": "code",
   "execution_count": 12,
   "id": "3bcb3f45-1fb8-4db1-8706-9c95a530942a",
   "metadata": {},
   "outputs": [],
   "source": [
    "text = '我爱中华人民共和国'\n",
    "gen = jieba.cut(text)"
   ]
  },
  {
   "cell_type": "code",
   "execution_count": 9,
   "id": "eb2b101d-82c3-40f3-a179-29f4879e9232",
   "metadata": {},
   "outputs": [
    {
     "data": {
      "text/plain": [
       "'我'"
      ]
     },
     "execution_count": 9,
     "metadata": {},
     "output_type": "execute_result"
    }
   ],
   "source": [
    "next(gen)"
   ]
  },
  {
   "cell_type": "code",
   "execution_count": 10,
   "id": "ce7ff42e-d03a-4694-af3f-ba804134c82a",
   "metadata": {},
   "outputs": [
    {
     "name": "stdout",
     "output_type": "stream",
     "text": [
      "爱\n",
      "中华人民共和国\n"
     ]
    }
   ],
   "source": [
    "for word in gen:\n",
    "    print(word)"
   ]
  },
  {
   "cell_type": "code",
   "execution_count": 13,
   "id": "34cc0446-61c2-4248-8c0d-fe28d096ff2d",
   "metadata": {},
   "outputs": [
    {
     "data": {
      "text/plain": [
       "['我', '爱', '中华人民共和国']"
      ]
     },
     "execution_count": 13,
     "metadata": {},
     "output_type": "execute_result"
    }
   ],
   "source": [
    "list(gen)"
   ]
  },
  {
   "cell_type": "code",
   "execution_count": 15,
   "id": "df97abbd-8fbf-4855-8cea-5ead007c3585",
   "metadata": {},
   "outputs": [
    {
     "data": {
      "text/plain": [
       "['我', '爱', '中华人民共和国']"
      ]
     },
     "execution_count": 15,
     "metadata": {},
     "output_type": "execute_result"
    }
   ],
   "source": [
    "#使用lcut 直接返回的就是列表\n",
    "jieba.lcut(text)"
   ]
  },
  {
   "cell_type": "code",
   "execution_count": 16,
   "id": "ce799d00-1bcf-4243-a384-f3cba976aac7",
   "metadata": {},
   "outputs": [
    {
     "data": {
      "text/plain": [
       "['我', '爱', '中华', '中华人民', '中华人民共和国', '华人', '人民', '人民共和国', '共和', '共和国']"
      ]
     },
     "execution_count": 16,
     "metadata": {},
     "output_type": "execute_result"
    }
   ],
   "source": [
    "#全模式\n",
    "jieba.lcut(text,cut_all=True)"
   ]
  },
  {
   "cell_type": "code",
   "execution_count": 18,
   "id": "46450250-743d-4029-9da1-a836cfe3378c",
   "metadata": {},
   "outputs": [
    {
     "data": {
      "text/plain": [
       "['我', '爱', '中华', '华人', '人民', '共和', '共和国', '中华人民共和国']"
      ]
     },
     "execution_count": 18,
     "metadata": {},
     "output_type": "execute_result"
    }
   ],
   "source": [
    "#搜索引擎模式\n",
    "jieba.lcut_for_search(text)"
   ]
  },
  {
   "cell_type": "code",
   "execution_count": 19,
   "id": "e1eb32ad-94fe-4bdd-b511-fb946c7a6d98",
   "metadata": {},
   "outputs": [],
   "source": [
    "#词性标注"
   ]
  },
  {
   "cell_type": "code",
   "execution_count": 20,
   "id": "b34d7727-34ca-44ad-85c4-37c8305d4dc1",
   "metadata": {},
   "outputs": [],
   "source": [
    "from jieba import posseg"
   ]
  },
  {
   "cell_type": "code",
   "execution_count": 21,
   "id": "011f2762-7069-488f-916a-d1607ad50a78",
   "metadata": {},
   "outputs": [
    {
     "data": {
      "text/plain": [
       "[pair('我', 'r'), pair('爱', 'v'), pair('中华人民共和国', 'ns')]"
      ]
     },
     "execution_count": 21,
     "metadata": {},
     "output_type": "execute_result"
    }
   ],
   "source": [
    "posseg.lcut(text)"
   ]
  },
  {
   "cell_type": "code",
   "execution_count": 22,
   "id": "4abea41b-7377-4e7a-a2a9-6a9b09adb38b",
   "metadata": {},
   "outputs": [
    {
     "data": {
      "text/plain": [
       "['超域', '是', '一个', '智能', '领域']"
      ]
     },
     "execution_count": 22,
     "metadata": {},
     "output_type": "execute_result"
    }
   ],
   "source": [
    "text = '超域是一个智能领域'\n",
    "jieba.lcut(text)"
   ]
  },
  {
   "cell_type": "code",
   "execution_count": 25,
   "id": "82402a9d-59c1-4d01-a907-6a398e901c91",
   "metadata": {},
   "outputs": [],
   "source": [
    "#加载自己的分词文件\n",
    "jieba.load_userdict('dict1.txt')"
   ]
  },
  {
   "cell_type": "code",
   "execution_count": 24,
   "id": "245df834-ad2b-423c-bf3e-3b3922287946",
   "metadata": {},
   "outputs": [
    {
     "data": {
      "text/plain": [
       "['超域', '是', '一个', '智能领域']"
      ]
     },
     "execution_count": 24,
     "metadata": {},
     "output_type": "execute_result"
    }
   ],
   "source": [
    "jieba.lcut(text)"
   ]
  },
  {
   "cell_type": "code",
   "execution_count": 27,
   "id": "1efff907-5bc3-4d8e-94f3-f71b9f695c05",
   "metadata": {},
   "outputs": [
    {
     "data": {
      "text/plain": [
       "['我', '是', '一个', '云', '生命']"
      ]
     },
     "execution_count": 27,
     "metadata": {},
     "output_type": "execute_result"
    }
   ],
   "source": [
    "# 临时加一个词\n",
    "text = '我是一个云生命'\n",
    "jieba.lcut(text)"
   ]
  },
  {
   "cell_type": "code",
   "execution_count": 29,
   "id": "e7f164de-db6f-4ae2-82a5-fe7694ce64f2",
   "metadata": {},
   "outputs": [],
   "source": [
    "jieba.add_word('云生命')"
   ]
  },
  {
   "cell_type": "code",
   "execution_count": 30,
   "id": "6f574c15-3988-4e6f-b3a0-69e47a89fd85",
   "metadata": {},
   "outputs": [
    {
     "data": {
      "text/plain": [
       "['我', '是', '一个', '云生命']"
      ]
     },
     "execution_count": 30,
     "metadata": {},
     "output_type": "execute_result"
    }
   ],
   "source": [
    "jieba.lcut(text)"
   ]
  },
  {
   "cell_type": "code",
   "execution_count": 33,
   "id": "b69e727c-d0bd-463c-9cc5-82b75ec91b54",
   "metadata": {},
   "outputs": [
    {
     "data": {
      "text/plain": [
       "2"
      ]
     },
     "execution_count": 33,
     "metadata": {},
     "output_type": "execute_result"
    }
   ],
   "source": [
    "jieba.suggest_freq('云生命')"
   ]
  },
  {
   "cell_type": "code",
   "execution_count": 35,
   "id": "94317d6a-248d-45e1-8c86-e227521aa8d6",
   "metadata": {},
   "outputs": [
    {
     "data": {
      "text/plain": [
       "['我', '是', '一个', '云生命', '生命']"
      ]
     },
     "execution_count": 35,
     "metadata": {},
     "output_type": "execute_result"
    }
   ],
   "source": [
    "jieba.lcut(text,cut_all= True)"
   ]
  },
  {
   "cell_type": "markdown",
   "id": "99488a37-f505-448e-8a06-ec2235097cf8",
   "metadata": {},
   "source": [
    "#### 关键词提取"
   ]
  },
  {
   "cell_type": "code",
   "execution_count": 36,
   "id": "a9370e1a-10c7-409b-9851-d19e82020a71",
   "metadata": {},
   "outputs": [],
   "source": [
    "from jieba import analyse"
   ]
  },
  {
   "cell_type": "code",
   "execution_count": 37,
   "id": "e4556a4f-b977-4c5c-9565-8a0aaf63aedf",
   "metadata": {},
   "outputs": [],
   "source": [
    "text = '然而，10月6日一大早，#12306候补#就登上热搜，不少网友纷纷在评论区留言，“买不到票，根本买不到票”“快7天了，还没候补到车票，我还要回去上班呢！”“求求返程票”。'"
   ]
  },
  {
   "cell_type": "code",
   "execution_count": 50,
   "id": "ef1faa1c-a3ae-4bfb-9191-c807bb7357dc",
   "metadata": {},
   "outputs": [
    {
     "data": {
      "text/plain": [
       "['买不到', '候补', '10', '12306', '返程票']"
      ]
     },
     "execution_count": 50,
     "metadata": {},
     "output_type": "execute_result"
    }
   ],
   "source": [
    "#提取关键词 根据tfidf算出来的值\n",
    "analyse.extract_tags(text,topK=5) "
   ]
  },
  {
   "cell_type": "code",
   "execution_count": 40,
   "id": "900359c1-1f7a-4269-bf30-96a79baf0e3f",
   "metadata": {},
   "outputs": [
    {
     "data": {
      "text/plain": [
       "[('买不到', 0.9018915098219047),\n",
       " ('候补', 0.8711511867495239),\n",
       " ('10', 0.5692746429952381),\n",
       " ('12306', 0.5692746429952381),\n",
       " ('返程票', 0.5692746429952381)]"
      ]
     },
     "execution_count": 40,
     "metadata": {},
     "output_type": "execute_result"
    }
   ],
   "source": [
    "analyse.extract_tags(text,topK=5,withWeight=True)"
   ]
  },
  {
   "cell_type": "code",
   "execution_count": 41,
   "id": "9f300545-37dd-48b2-8fcd-052aa6e3344d",
   "metadata": {},
   "outputs": [
    {
     "data": {
      "text/plain": [
       "[('买不到', 0.9018915098219047),\n",
       " ('候补', 0.8711511867495239),\n",
       " ('10', 0.5692746429952381),\n",
       " ('12306', 0.5692746429952381),\n",
       " ('返程票', 0.5692746429952381)]"
      ]
     },
     "execution_count": 41,
     "metadata": {},
     "output_type": "execute_result"
    }
   ],
   "source": [
    "analyse.tfidf(text,topK=5,withWeight=True)"
   ]
  },
  {
   "cell_type": "code",
   "execution_count": 48,
   "id": "95a80bf8-d5c8-4ecc-ac9e-062821e674d5",
   "metadata": {},
   "outputs": [],
   "source": [
    "gen = jieba.tokenize(text)"
   ]
  },
  {
   "cell_type": "code",
   "execution_count": 49,
   "id": "b0648aeb-5d53-40bc-8f26-f31d6fe8636f",
   "metadata": {},
   "outputs": [
    {
     "name": "stdout",
     "output_type": "stream",
     "text": [
      "('然而', 0, 2)\n"
     ]
    }
   ],
   "source": [
    "for i in gen:\n",
    "    print(i)\n",
    "    break"
   ]
  },
  {
   "cell_type": "code",
   "execution_count": null,
   "id": "21e7d808-5560-4ea6-8768-c5adb3ab564a",
   "metadata": {},
   "outputs": [],
   "source": []
  },
  {
   "cell_type": "code",
   "execution_count": null,
   "id": "0ee9f775-a31a-472b-b258-a860c85bb7bb",
   "metadata": {},
   "outputs": [],
   "source": []
  },
  {
   "cell_type": "code",
   "execution_count": null,
   "id": "ba4d9c21-145d-4b8a-afd7-0fbe8f4825d3",
   "metadata": {},
   "outputs": [],
   "source": []
  },
  {
   "cell_type": "code",
   "execution_count": null,
   "id": "31ef99b1-422e-4143-8ad4-94f19f76ba49",
   "metadata": {},
   "outputs": [],
   "source": []
  },
  {
   "cell_type": "code",
   "execution_count": null,
   "id": "508a18a8-ce5b-40af-a932-5e8e20ea53d8",
   "metadata": {},
   "outputs": [],
   "source": []
  },
  {
   "cell_type": "code",
   "execution_count": null,
   "id": "c3a64447-58a0-4b3d-b9c6-291e9a6a1d5c",
   "metadata": {},
   "outputs": [],
   "source": []
  },
  {
   "cell_type": "code",
   "execution_count": null,
   "id": "115185ff-0d58-4071-847a-09fc1b59b059",
   "metadata": {},
   "outputs": [],
   "source": []
  },
  {
   "cell_type": "code",
   "execution_count": null,
   "id": "4e94cf31-3646-4a9a-b1f1-45f01f6533d8",
   "metadata": {},
   "outputs": [],
   "source": []
  },
  {
   "cell_type": "code",
   "execution_count": null,
   "id": "311ea7e7-7ab5-4030-bf93-350aab1a580e",
   "metadata": {},
   "outputs": [],
   "source": [
    "\n"
   ]
  }
 ],
 "metadata": {
  "kernelspec": {
   "display_name": "Python 3 (ipykernel)",
   "language": "python",
   "name": "python3"
  },
  "language_info": {
   "codemirror_mode": {
    "name": "ipython",
    "version": 3
   },
   "file_extension": ".py",
   "mimetype": "text/x-python",
   "name": "python",
   "nbconvert_exporter": "python",
   "pygments_lexer": "ipython3",
   "version": "3.11.0"
  }
 },
 "nbformat": 4,
 "nbformat_minor": 5
}
