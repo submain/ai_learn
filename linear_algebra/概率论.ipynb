{
 "cells": [
  {
   "cell_type": "code",
   "execution_count": 1,
   "id": "1eafa8f6-afc9-462b-be23-f8fff696770b",
   "metadata": {},
   "outputs": [
    {
     "name": "stdout",
     "output_type": "stream",
     "text": [
      "横轴区间(u - sigma,u + sigma)内的面积（概率）为: 0.6827\n",
      "横轴区间(u - 2sigma,u + 2sigma)内的面积（概率）为: 0.9545\n",
      "横轴区间(u - 3sigma,u + 3sigma)内的面积（概率）为: 0.9973\n"
     ]
    },
    {
     "data": {
      "image/png": "[encoded data removed]",
      "text/plain": [
       "<Figure size 640x480 with 1 Axes>"
      ]
     },
     "metadata": {},
     "output_type": "display_data"
    }
   ],
   "source": [
    "#正态分布概率计算\n",
    "\n",
    "import numpy as np\n",
    "import matplotlib.pyplot as plt\n",
    "from scipy import integrate #积分\n",
    "\n",
    "#正太分布概率密度函数\n",
    "def f(x,sigma,u):\n",
    "    return 1/(np.sqrt(2 * np.pi) * sigma) * np.exp(-(x-u) ** 2 / (2 * sigma ** 2))\n",
    "x = np.linspace(-10,10,300)\n",
    "y = f(x,1,0) #标准正态分布\n",
    "plt.plot(x,y)\n",
    "\n",
    "print('横轴区间(u - sigma,u + sigma)内的面积（概率）为:',np.round(integrate.quad(f,-1,1,args=(1,0))[0],4))\n",
    "print('横轴区间(u - 2sigma,u + 2sigma)内的面积（概率）为:',np.round(integrate.quad(f,-2,2,args=(1,0))[0],4))\n",
    "print('横轴区间(u - 3sigma,u + 3sigma)内的面积（概率）为:',np.round(integrate.quad(f,-3,3,args=(1,0))[0],4))"
   ]
  },
  {
   "cell_type": "code",
   "execution_count": 2,
   "id": "e15e41b4-131e-4b0f-b533-f28d7ad32af6",
   "metadata": {},
   "outputs": [
    {
     "name": "stdout",
     "output_type": "stream",
     "text": [
      "不定积分计算正态分布数学期望: 2.5\n"
     ]
    }
   ],
   "source": [
    "#数学期望\n",
    "def E(x,sigma,u):\n",
    "    return x * f(x,sigma,u)\n",
    "print('不定积分计算正态分布数学期望:',np.round(integrate.quad(E,-100,100,args=(2,2.5))[0],1))"
   ]
  },
  {
   "cell_type": "code",
   "execution_count": null,
   "id": "22c40966-bb7c-4a86-b1b2-4eb4406fb603",
   "metadata": {},
   "outputs": [],
   "source": [
    "#方差"
   ]
  },
  {
   "cell_type": "code",
   "execution_count": 3,
   "id": "d3e6ad03-c2d8-46ac-bf0e-e32d619bd2b4",
   "metadata": {},
   "outputs": [
    {
     "data": {
      "text/plain": [
       "array([ -7,   2,   4,  -9,  -3,   7,  -3,   5,   4,  -9,   8,  -5, -10,\n",
       "        -4,   8,  -7,   1,  -6,   9,   1], dtype=int32)"
      ]
     },
     "metadata": {},
     "output_type": "display_data"
    },
    {
     "name": "stdout",
     "output_type": "stream",
     "text": [
      "Numpy库提供的函数计算方差:38.31\n",
      "根据公式计算的方差为:38.31\n"
     ]
    }
   ],
   "source": [
    "#离散型随机变量\n",
    "import numpy as np\n",
    "X = np.random.randint(-10,10,size=20)\n",
    "display(X)\n",
    "print('Numpy库提供的函数计算方差:%0.2f'%(np.var(X)))\n",
    "#X.mean为期望\n",
    "var = ((X-X.mean())**2).sum()/20\n",
    "print('根据公式计算的方差为:%0.2f'%(var))"
   ]
  },
  {
   "cell_type": "code",
   "execution_count": 4,
   "id": "f34e4609-7df4-457a-839f-36031ab47397",
   "metadata": {},
   "outputs": [
    {
     "name": "stdout",
     "output_type": "stream",
     "text": [
      "不定积分计算正态分布数学方差: 4.0\n"
     ]
    }
   ],
   "source": [
    "#连续型随机变量方差\n",
    "# sigma是标准差 u是期望\n",
    "def D(x,sigma,u):\n",
    "    return (x -2.5)**2 * f(x,sigma,u)\n",
    "print('不定积分计算正态分布数学方差:',np.round(integrate.quad(D,-100,100,args=(2,2.5))[0],1))"
   ]
  },
  {
   "cell_type": "code",
   "execution_count": 5,
   "id": "d9539b66-5d0c-4650-bd4e-090233320ad3",
   "metadata": {},
   "outputs": [
    {
     "name": "stdout",
     "output_type": "stream",
     "text": [
      "根据公式利用期望计算方差: 38.309999999999995\n"
     ]
    }
   ],
   "source": [
    "var = np.mean(X**2) - (np.mean(X))**2\n",
    "print('根据公式利用期望计算方差:',var)\n"
   ]
  },
  {
   "cell_type": "code",
   "execution_count": 12,
   "id": "239c653d-5c8b-4224-a19d-d656f8698720",
   "metadata": {},
   "outputs": [
    {
     "data": {
      "text/plain": [
       "array([[ 5,  6,  2, 15, 12],\n",
       "       [ 4,  8,  9,  1, 10],\n",
       "       [ 9, 11, 13, 11,  9],\n",
       "       [17,  9, 13, 18, 16],\n",
       "       [11, 10, 15,  3, 11]], dtype=int32)"
      ]
     },
     "metadata": {},
     "output_type": "display_data"
    },
    {
     "data": {
      "text/plain": [
       "array([[21.76,  3.84, 14.12, 15.08,  8.08],\n",
       "       [ 3.84,  2.96,  7.28, -2.28, -1.08],\n",
       "       [14.12,  7.28, 21.44, -7.64,  0.16],\n",
       "       [15.08, -2.28, -7.64, 43.84, 10.64],\n",
       "       [ 8.08, -1.08,  0.16, 10.64,  5.84]])"
      ]
     },
     "metadata": {},
     "output_type": "display_data"
    },
    {
     "name": "stdout",
     "output_type": "stream",
     "text": [
      "第一行第一个协方差：21.76\n",
      "第一行第二个协方差：3.84\n",
      "第一行最后一个协方差：8.08\n"
     ]
    }
   ],
   "source": [
    "#协方差\n",
    "X = np.random.randint(1,20,size=(5,5))\n",
    "display(X)\n",
    "#numpy计算cov\n",
    "display(np.cov(X,rowvar=False, #按照列进行计算\n",
    "              bias=True)) #计算的是总体方差\n",
    "\n",
    "print('第一行第一个协方差：%0.2f'%(np.mean(X[:,0]**2) - (np.mean(X[:,0]))**2))\n",
    "print('第一行第二个协方差：%0.2f'%(np.mean(X[:,0] * X[:,1]) - (np.mean(X[:,0]))*(np.mean(X[:,1]))))\n",
    "print('第一行最后一个协方差：%0.2f'%(np.mean(X[:,0] * X[:,-1]) - (np.mean(X[:,0]))*(np.mean(X[:,-1]))))"
   ]
  },
  {
   "cell_type": "code",
   "execution_count": null,
   "id": "a96258be-5d3e-4b8e-8298-4bbee87e7dd6",
   "metadata": {},
   "outputs": [],
   "source": []
  },
  {
   "cell_type": "code",
   "execution_count": null,
   "id": "3f3205d7-e49d-487a-87ec-dd02f8a2faa2",
   "metadata": {},
   "outputs": [],
   "source": []
  },
  {
   "cell_type": "code",
   "execution_count": null,
   "id": "2b02199e-faba-425d-b95f-93f55024bf53",
   "metadata": {},
   "outputs": [],
   "source": []
  },
  {
   "cell_type": "code",
   "execution_count": null,
   "id": "0599b5c8-a613-49bc-accd-3a3097602dd0",
   "metadata": {},
   "outputs": [],
   "source": []
  },
  {
   "cell_type": "code",
   "execution_count": null,
   "id": "6fcccbe2-f21f-48fc-bc5a-71d23e73e8cc",
   "metadata": {},
   "outputs": [],
   "source": []
  },
  {
   "cell_type": "code",
   "execution_count": null,
   "id": "0d789b3c-01ab-4803-8986-5017885b6446",
   "metadata": {},
   "outputs": [],
   "source": []
  },
  {
   "cell_type": "code",
   "execution_count": null,
   "id": "8419fff7-917a-4ec0-b459-4adf07986f05",
   "metadata": {},
   "outputs": [],
   "source": []
  },
  {
   "cell_type": "code",
   "execution_count": null,
   "id": "7c891d00-0553-411c-b130-ad9f30dbcf59",
   "metadata": {},
   "outputs": [],
   "source": []
  },
  {
   "cell_type": "code",
   "execution_count": null,
   "id": "38715244-3573-45ee-896d-57cca7c7fce0",
   "metadata": {},
   "outputs": [],
   "source": []
  },
  {
   "cell_type": "code",
   "execution_count": null,
   "id": "db3e0ad3-0630-4e5a-a6f0-1ba4109b53ee",
   "metadata": {},
   "outputs": [],
   "source": []
  },
  {
   "cell_type": "code",
   "execution_count": null,
   "id": "d5ab033c-8234-47d3-99af-c15294621490",
   "metadata": {},
   "outputs": [],
   "source": []
  },
  {
   "cell_type": "code",
   "execution_count": null,
   "id": "b5c57602-e185-4360-b62b-b7dd99cf402b",
   "metadata": {},
   "outputs": [],
   "source": []
  },
  {
   "cell_type": "code",
   "execution_count": null,
   "id": "e6b08a9c-0707-4907-a7b4-d1ec64362ff9",
   "metadata": {},
   "outputs": [],
   "source": []
  },
  {
   "cell_type": "code",
   "execution_count": null,
   "id": "f90ab9c0-e023-4ce3-bd5e-76937b74fd38",
   "metadata": {},
   "outputs": [],
   "source": []
  },
  {
   "cell_type": "code",
   "execution_count": null,
   "id": "3163340f-9c26-4188-8740-71d56540d52c",
   "metadata": {},
   "outputs": [],
   "source": []
  },
  {
   "cell_type": "code",
   "execution_count": null,
   "id": "1c94c8b0-68e8-4519-b95e-dea026b83f74",
   "metadata": {},
   "outputs": [],
   "source": []
  },
  {
   "cell_type": "code",
   "execution_count": null,
   "id": "fa0ed501-1079-46ad-b9ee-491d985edec3",
   "metadata": {},
   "outputs": [],
   "source": []
  },
  {
   "cell_type": "code",
   "execution_count": null,
   "id": "8f4cc35d-2b4d-4976-871e-377d01535f41",
   "metadata": {},
   "outputs": [],
   "source": [
    "\n"
   ]
  }
 ],
 "metadata": {
  "kernelspec": {
   "display_name": "Python 3 (ipykernel)",
   "language": "python",
   "name": "python3"
  },
  "language_info": {
   "codemirror_mode": {
    "name": "ipython",
    "version": 3
   },
   "file_extension": ".py",
   "mimetype": "text/x-python",
   "name": "python",
   "nbconvert_exporter": "python",
   "pygments_lexer": "ipython3",
   "version": "3.11.0"
  }
 },
 "nbformat": 4,
 "nbformat_minor": 5
}
