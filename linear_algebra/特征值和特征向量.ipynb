{
 "cells": [
  {
   "cell_type": "code",
   "execution_count": 1,
   "id": "a98d2885-60ee-46aa-9294-ae4ed516f544",
   "metadata": {},
   "outputs": [],
   "source": [
    "import numpy as np"
   ]
  },
  {
   "cell_type": "code",
   "execution_count": 2,
   "id": "c6812b5a-5ace-4b6b-95a6-9abe791feaa4",
   "metadata": {},
   "outputs": [
    {
     "data": {
      "text/plain": [
       "array([[3, 9, 7, 6],\n",
       "       [7, 6, 5, 2],\n",
       "       [9, 2, 8, 1],\n",
       "       [2, 2, 2, 6]], dtype=int32)"
      ]
     },
     "metadata": {},
     "output_type": "display_data"
    },
    {
     "name": "stdout",
     "output_type": "stream",
     "text": [
      "-------------------------------\n"
     ]
    },
    {
     "data": {
      "text/plain": [
       "array([19.98597294, -4.70915126,  4.7450591 ,  2.97811922])"
      ]
     },
     "metadata": {},
     "output_type": "display_data"
    },
    {
     "data": {
      "text/plain": [
       "array([[ 5.94422721e-01,  8.03634695e-01, -1.12311410e-01,\n",
       "        -2.68581105e-01],\n",
       "       [ 5.30212217e-01, -2.80221979e-01,  2.01787107e-01,\n",
       "        -6.38263316e-01],\n",
       "       [ 5.54848217e-01, -5.25020789e-01,  4.51365117e-01,\n",
       "         7.09527943e-01],\n",
       "       [ 2.40166796e-01,  3.00317384e-04, -8.61938305e-01,\n",
       "         1.30591835e-01]])"
      ]
     },
     "metadata": {},
     "output_type": "display_data"
    },
    {
     "name": "stdout",
     "output_type": "stream",
     "text": [
      "-------------------------------\n",
      "[0.59442272 0.53021222 0.55484822 0.2401668 ] 19.985972941521204\n",
      "-------------------------------\n"
     ]
    },
    {
     "data": {
      "text/plain": [
       "array([11.88011641, 10.59680703, 11.08918145,  4.79996709])"
      ]
     },
     "metadata": {},
     "output_type": "display_data"
    },
    {
     "data": {
      "text/plain": [
       "array([11.88011641, 10.59680703, 11.08918145,  4.79996709])"
      ]
     },
     "metadata": {},
     "output_type": "display_data"
    }
   ],
   "source": [
    "A = np.random.randint(1,10,size=(4,4))\n",
    "display(A)\n",
    "print('-------------------------------')\n",
    "if np.linalg.matrix_rank(A) == 4: #必须是满秩矩阵 方程才有唯一解\n",
    "    #实对称矩阵特征值为实数，非对称矩阵和复数特征值可能为复数\n",
    "    w,v = np.linalg.eig(A) # w 特征值 v特征向量\n",
    "    display(w,v)\n",
    "    print('-------------------------------')\n",
    "    print(v[:,0],w[0])\n",
    "    print('-------------------------------')\n",
    "    display(A.dot(v[:,0])) # Av\n",
    "    display(w[0] * v[:,0]) #lambda v  Av = lambda v"
   ]
  },
  {
   "cell_type": "code",
   "execution_count": 3,
   "id": "2cdb1d9b-62e8-40b2-a4f2-d86106224026",
   "metadata": {},
   "outputs": [
    {
     "data": {
      "text/plain": [
       "EigResult(eigenvalues=array([16.10241769,  0.19192041, -1.2943381 ]), eigenvectors=array([[ 0.23165721,  0.95684242, -0.17546374],\n",
       "       [ 0.59582744, -0.28213926, -0.75192227],\n",
       "       [ 0.76897633, -0.0696421 ,  0.63547256]]))"
      ]
     },
     "execution_count": 3,
     "metadata": {},
     "output_type": "execute_result"
    }
   ],
   "source": [
    "#实对称矩阵\n",
    "B = np.array([[1,2,3],\n",
    "             [2,5,8],\n",
    "             [3,8,9]])\n",
    "np.linalg.eig(B)"
   ]
  },
  {
   "cell_type": "code",
   "execution_count": 4,
   "id": "a18f47fe-c503-4a60-b17f-3dde9c3eb8f6",
   "metadata": {},
   "outputs": [
    {
     "name": "stdout",
     "output_type": "stream",
     "text": [
      "矩阵X的秩为: 2\n"
     ]
    },
    {
     "ename": "LinAlgError",
     "evalue": "Singular matrix",
     "output_type": "error",
     "traceback": [
      "\u001b[31m---------------------------------------------------------------------------\u001b[39m",
      "\u001b[31mLinAlgError\u001b[39m                               Traceback (most recent call last)",
      "\u001b[36mCell\u001b[39m\u001b[36m \u001b[39m\u001b[32mIn[4]\u001b[39m\u001b[32m, line 8\u001b[39m\n\u001b[32m      5\u001b[39m y = np.array([\u001b[32m1\u001b[39m,\u001b[32m2\u001b[39m,\u001b[32m3\u001b[39m])\n\u001b[32m      6\u001b[39m \u001b[38;5;28mprint\u001b[39m(\u001b[33m\"\u001b[39m\u001b[33m矩阵X的秩为:\u001b[39m\u001b[33m\"\u001b[39m,np.linalg.matrix_rank(X))\n\u001b[32m----> \u001b[39m\u001b[32m8\u001b[39m \u001b[43mnp\u001b[49m\u001b[43m.\u001b[49m\u001b[43mlinalg\u001b[49m\u001b[43m.\u001b[49m\u001b[43msolve\u001b[49m\u001b[43m(\u001b[49m\u001b[43mX\u001b[49m\u001b[43m,\u001b[49m\u001b[43my\u001b[49m\u001b[43m)\u001b[49m\n",
      "\u001b[36mFile \u001b[39m\u001b[32mD:\\AI\\pytroch_learning\\Lib\\site-packages\\numpy\\linalg\\_linalg.py:471\u001b[39m, in \u001b[36msolve\u001b[39m\u001b[34m(a, b)\u001b[39m\n\u001b[32m    468\u001b[39m signature = \u001b[33m'\u001b[39m\u001b[33mDD->D\u001b[39m\u001b[33m'\u001b[39m \u001b[38;5;28;01mif\u001b[39;00m isComplexType(t) \u001b[38;5;28;01melse\u001b[39;00m \u001b[33m'\u001b[39m\u001b[33mdd->d\u001b[39m\u001b[33m'\u001b[39m\n\u001b[32m    469\u001b[39m \u001b[38;5;28;01mwith\u001b[39;00m errstate(call=_raise_linalgerror_singular, invalid=\u001b[33m'\u001b[39m\u001b[33mcall\u001b[39m\u001b[33m'\u001b[39m,\n\u001b[32m    470\u001b[39m               over=\u001b[33m'\u001b[39m\u001b[33mignore\u001b[39m\u001b[33m'\u001b[39m, divide=\u001b[33m'\u001b[39m\u001b[33mignore\u001b[39m\u001b[33m'\u001b[39m, under=\u001b[33m'\u001b[39m\u001b[33mignore\u001b[39m\u001b[33m'\u001b[39m):\n\u001b[32m--> \u001b[39m\u001b[32m471\u001b[39m     r = \u001b[43mgufunc\u001b[49m\u001b[43m(\u001b[49m\u001b[43ma\u001b[49m\u001b[43m,\u001b[49m\u001b[43m \u001b[49m\u001b[43mb\u001b[49m\u001b[43m,\u001b[49m\u001b[43m \u001b[49m\u001b[43msignature\u001b[49m\u001b[43m=\u001b[49m\u001b[43msignature\u001b[49m\u001b[43m)\u001b[49m\n\u001b[32m    473\u001b[39m \u001b[38;5;28;01mreturn\u001b[39;00m wrap(r.astype(result_t, copy=\u001b[38;5;28;01mFalse\u001b[39;00m))\n",
      "\u001b[36mFile \u001b[39m\u001b[32mD:\\AI\\pytroch_learning\\Lib\\site-packages\\numpy\\linalg\\_linalg.py:163\u001b[39m, in \u001b[36m_raise_linalgerror_singular\u001b[39m\u001b[34m(err, flag)\u001b[39m\n\u001b[32m    162\u001b[39m \u001b[38;5;28;01mdef\u001b[39;00m\u001b[38;5;250m \u001b[39m\u001b[34m_raise_linalgerror_singular\u001b[39m(err, flag):\n\u001b[32m--> \u001b[39m\u001b[32m163\u001b[39m     \u001b[38;5;28;01mraise\u001b[39;00m LinAlgError(\u001b[33m\"\u001b[39m\u001b[33mSingular matrix\u001b[39m\u001b[33m\"\u001b[39m)\n",
      "\u001b[31mLinAlgError\u001b[39m: Singular matrix"
     ]
    }
   ],
   "source": [
    "#非满秩矩阵 奇异矩阵\n",
    "X = np.array([[1,2,3],\n",
    "             [4,5,6],\n",
    "             [7,8,9]])\n",
    "y = np.array([1,2,3])\n",
    "print(\"矩阵X的秩为:\",np.linalg.matrix_rank(X))\n",
    "\n",
    "np.linalg.solve(X,y)"
   ]
  },
  {
   "cell_type": "code",
   "execution_count": 5,
   "id": "e02743ff-268d-4131-9114-4f4281624482",
   "metadata": {},
   "outputs": [
    {
     "name": "stdout",
     "output_type": "stream",
     "text": [
      "矩阵X的秩为: 3\n"
     ]
    },
    {
     "data": {
      "text/plain": [
       "array([-0.67,  1.67,  2.33])"
      ]
     },
     "execution_count": 5,
     "metadata": {},
     "output_type": "execute_result"
    }
   ],
   "source": [
    "#满秩矩阵\n",
    "X = np.array([[0,2,-1],\n",
    "             [1,-1,1],\n",
    "             [2,1,-1]])\n",
    "y = np.array([1,0,-2])\n",
    "print(\"矩阵X的秩为:\",np.linalg.matrix_rank(X)) #矩阵的秩\n",
    "\n",
    "np.linalg.solve(X,y).round(2)"
   ]
  },
  {
   "cell_type": "code",
   "execution_count": 6,
   "id": "fe8baa33-f07f-47ba-af38-56e9c82507d6",
   "metadata": {},
   "outputs": [
    {
     "name": "stdout",
     "output_type": "stream",
     "text": [
      "矩阵的行列式： 27.0\n",
      "矩阵的特征值累乘： 27.0\n"
     ]
    }
   ],
   "source": [
    "X = np.array([[2,3,7],\n",
    "              [1,5,8],\n",
    "              [0,4,9]])\n",
    "w,v = np.linalg.eig(X)\n",
    "print('矩阵的行列式：',np.linalg.det(X))\n",
    "print('矩阵的特征值累乘：',np.round(np.real(np.prod(w))))"
   ]
  },
  {
   "cell_type": "code",
   "execution_count": 7,
   "id": "24daf4c2-202d-46b2-97a5-db25e71fe163",
   "metadata": {},
   "outputs": [
    {
     "data": {
      "text/plain": [
       "array([[4, 3, 3, 7],\n",
       "       [8, 6, 6, 3],\n",
       "       [8, 5, 1, 6],\n",
       "       [5, 4, 7, 5]], dtype=int32)"
      ]
     },
     "metadata": {},
     "output_type": "display_data"
    },
    {
     "name": "stdout",
     "output_type": "stream",
     "text": [
      "矩阵的特征值和特征向量：\n"
     ]
    },
    {
     "data": {
      "text/plain": [
       "array([20.02195768+0.j        , -2.37686831+0.59719995j,\n",
       "       -2.37686831-0.59719995j,  0.73177894+0.j        ])"
      ]
     },
     "metadata": {},
     "output_type": "display_data"
    },
    {
     "data": {
      "text/plain": [
       "array([[-0.42268993+0.j        ,  0.53439993+0.02243954j,\n",
       "         0.53439993-0.02243954j,  0.45514055+0.j        ],\n",
       "       [-0.56095667+0.j        , -0.6424793 +0.j        ,\n",
       "        -0.6424793 -0.j        , -0.87639309+0.j        ],\n",
       "       [-0.48851479+0.j        ,  0.3705648 -0.13547222j,\n",
       "         0.3705648 +0.13547222j,  0.10322179+0.j        ],\n",
       "       [-0.51770082+0.j        , -0.37220791+0.08320947j,\n",
       "        -0.37220791-0.08320947j,  0.11885914+0.j        ]])"
      ]
     },
     "metadata": {},
     "output_type": "display_data"
    },
    {
     "name": "stdout",
     "output_type": "stream",
     "text": [
      "矩阵的特征值和特征向量运算反推矩阵A：\n"
     ]
    },
    {
     "data": {
      "text/plain": [
       "array([[4.+5.39727602e-15j, 3.+2.88670615e-15j, 3.-6.41508356e-15j,\n",
       "        7.-1.27190081e-15j],\n",
       "       [8.+9.96311785e-15j, 6.+4.81174034e-15j, 6.-9.77307872e-15j,\n",
       "        3.-2.73034074e-15j],\n",
       "       [8.+6.29455189e-15j, 5.+3.55113710e-15j, 1.-6.66308435e-15j,\n",
       "        6.-1.70342843e-15j],\n",
       "       [5.+9.43118667e-15j, 4.+4.49631436e-15j, 7.-8.99858167e-15j,\n",
       "        5.-2.31539140e-15j]])"
      ]
     },
     "metadata": {},
     "output_type": "display_data"
    },
    {
     "data": {
      "text/plain": [
       "array([[20.02195768+0.j        ,  0.        +0.j        ,\n",
       "         0.        +0.j        ,  0.        +0.j        ],\n",
       "       [ 0.        +0.j        , -2.37686831+0.59719995j,\n",
       "         0.        +0.j        ,  0.        +0.j        ],\n",
       "       [ 0.        +0.j        ,  0.        +0.j        ,\n",
       "        -2.37686831-0.59719995j,  0.        +0.j        ],\n",
       "       [ 0.        +0.j        ,  0.        +0.j        ,\n",
       "         0.        +0.j        ,  0.73177894+0.j        ]])"
      ]
     },
     "metadata": {},
     "output_type": "display_data"
    }
   ],
   "source": [
    "A = np.random.randint(1,10,size=(4,4)) #随即生成二维矩阵\n",
    "display(A)\n",
    "w,v = np.linalg.eig(A) #eig特征值和特征向量\n",
    "print('矩阵的特征值和特征向量：')\n",
    "display(w,v)\n",
    "#根据特征值分解公式可得\n",
    "print('矩阵的特征值和特征向量运算反推矩阵A：')\n",
    "display(v.dot(np.diag(w)).dot(np.linalg.inv(v))) #diag将一维矩阵变为二维对角矩阵、dot向量相乘、inv矩阵求逆\n",
    "display(np.diag(w)) \n"
   ]
  },
  {
   "cell_type": "code",
   "execution_count": 8,
   "id": "a7bbfb87-1fc5-4519-bd51-2972c51c9722",
   "metadata": {},
   "outputs": [
    {
     "name": "stdout",
     "output_type": "stream",
     "text": [
      "矩阵B的特征值和特征向量\n"
     ]
    },
    {
     "data": {
      "text/plain": [
       "array([16.10241769,  0.19192041, -1.2943381 ])"
      ]
     },
     "metadata": {},
     "output_type": "display_data"
    },
    {
     "data": {
      "text/plain": [
       "array([[ 0.23165721,  0.95684242, -0.17546374],\n",
       "       [ 0.59582744, -0.28213926, -0.75192227],\n",
       "       [ 0.76897633, -0.0696421 ,  0.63547256]])"
      ]
     },
     "metadata": {},
     "output_type": "display_data"
    },
    {
     "name": "stdout",
     "output_type": "stream",
     "text": [
      "特征值和特征向量运算反推矩阵B：\n"
     ]
    },
    {
     "data": {
      "text/plain": [
       "array([[1., 2., 3.],\n",
       "       [2., 5., 8.],\n",
       "       [3., 8., 9.]])"
      ]
     },
     "metadata": {},
     "output_type": "display_data"
    },
    {
     "data": {
      "text/plain": [
       "array([[1., 2., 3.],\n",
       "       [2., 5., 8.],\n",
       "       [3., 8., 9.]])"
      ]
     },
     "metadata": {},
     "output_type": "display_data"
    },
    {
     "name": "stdout",
     "output_type": "stream",
     "text": [
      "Q是正交矩阵:\n"
     ]
    },
    {
     "data": {
      "text/plain": [
       "array([[ 0.23165721,  0.59582744,  0.76897633],\n",
       "       [ 0.95684242, -0.28213926, -0.0696421 ],\n",
       "       [-0.17546374, -0.75192227,  0.63547256]])"
      ]
     },
     "metadata": {},
     "output_type": "display_data"
    },
    {
     "data": {
      "text/plain": [
       "array([[ 0.23165721,  0.59582744,  0.76897633],\n",
       "       [ 0.95684242, -0.28213926, -0.0696421 ],\n",
       "       [-0.17546374, -0.75192227,  0.63547256]])"
      ]
     },
     "metadata": {},
     "output_type": "display_data"
    }
   ],
   "source": [
    "#实对称矩阵\n",
    "B = np.array([[1,2,3],\n",
    "             [2,5,8],\n",
    "             [3,8,9]])\n",
    "#W（Σ）表示特征值，v(Q)表示特征向量\n",
    "w,v = np.linalg.eig(B)\n",
    "print('矩阵B的特征值和特征向量')\n",
    "display(w,v)\n",
    "print('特征值和特征向量运算反推矩阵B：')\n",
    "display(v.dot(np.diag(w)).dot(np.linalg.inv(v)))\n",
    "display(v.dot(np.diag(w)).dot(v.T))\n",
    "print('Q是正交矩阵:') #正交矩阵的逆矩阵等于矩阵转置\n",
    "display(np.linalg.inv(v),v.T)"
   ]
  },
  {
   "cell_type": "code",
   "execution_count": 9,
   "id": "75a19fe3-7831-46eb-84d0-bc0a8e9466f2",
   "metadata": {},
   "outputs": [
    {
     "data": {
      "text/plain": [
       "array([[ 1., -0.,  0.],\n",
       "       [-0.,  1., -0.],\n",
       "       [ 0., -0.,  1.]])"
      ]
     },
     "execution_count": 9,
     "metadata": {},
     "output_type": "execute_result"
    }
   ],
   "source": [
    "#正交矩阵的逆矩阵等于矩阵转置\n",
    "v.dot(v.T).round(1)"
   ]
  },
  {
   "cell_type": "code",
   "execution_count": 10,
   "id": "b9e4da74-a49c-4a3f-b02c-aec2cfb2b818",
   "metadata": {},
   "outputs": [
    {
     "data": {
      "text/plain": [
       "EigResult(eigenvalues=array([18.1700118 , -3.29446588,  0.95279771,  6.17165637,  2.        ]), eigenvectors=array([[ 3.87610046e-02,  1.19814986e-01,  3.22084834e-01,\n",
       "         6.39240369e-04,  2.19035571e-01],\n",
       "       [ 4.66151093e-01,  3.26860749e-01, -5.50233219e-01,\n",
       "         1.87587652e-01, -7.21923360e-01],\n",
       "       [ 7.23984245e-01,  2.53003841e-01,  6.70148172e-02,\n",
       "        -9.46393990e-01,  2.54796480e-01],\n",
       "       [ 1.99375814e-01, -8.41402119e-01,  5.35030077e-01,\n",
       "        -1.84281720e-01,  5.23003301e-01],\n",
       "       [ 4.66151093e-01,  3.26860749e-01, -5.50233219e-01,\n",
       "         1.87587652e-01, -3.03967731e-01]]))"
      ]
     },
     "execution_count": 10,
     "metadata": {},
     "output_type": "execute_result"
    }
   ],
   "source": [
    "#奇异值分解\n",
    "A = np.random.randint(0,10,size=(5,5))\n",
    "np.linalg.eig(A)"
   ]
  },
  {
   "cell_type": "code",
   "execution_count": 11,
   "id": "03a7f742-0c99-4be3-bfb9-c4e0dd0e58e7",
   "metadata": {},
   "outputs": [
    {
     "ename": "LinAlgError",
     "evalue": "Last 2 dimensions of the array must be square",
     "output_type": "error",
     "traceback": [
      "\u001b[31m---------------------------------------------------------------------------\u001b[39m",
      "\u001b[31mLinAlgError\u001b[39m                               Traceback (most recent call last)",
      "\u001b[36mCell\u001b[39m\u001b[36m \u001b[39m\u001b[32mIn[11]\u001b[39m\u001b[32m, line 3\u001b[39m\n\u001b[32m      1\u001b[39m \u001b[38;5;66;03m#奇异值分解 非方阵\u001b[39;00m\n\u001b[32m      2\u001b[39m A = np.random.randint(\u001b[32m0\u001b[39m,\u001b[32m10\u001b[39m,size=(\u001b[32m5\u001b[39m,\u001b[32m4\u001b[39m))\n\u001b[32m----> \u001b[39m\u001b[32m3\u001b[39m \u001b[43mnp\u001b[49m\u001b[43m.\u001b[49m\u001b[43mlinalg\u001b[49m\u001b[43m.\u001b[49m\u001b[43meig\u001b[49m\u001b[43m(\u001b[49m\u001b[43mA\u001b[49m\u001b[43m)\u001b[49m\n",
      "\u001b[36mFile \u001b[39m\u001b[32mD:\\AI\\pytroch_learning\\Lib\\site-packages\\numpy\\linalg\\_linalg.py:1515\u001b[39m, in \u001b[36meig\u001b[39m\u001b[34m(a)\u001b[39m\n\u001b[32m   1385\u001b[39m \u001b[38;5;250m\u001b[39m\u001b[33;03m\"\"\"\u001b[39;00m\n\u001b[32m   1386\u001b[39m \u001b[33;03mCompute the eigenvalues and right eigenvectors of a square array.\u001b[39;00m\n\u001b[32m   1387\u001b[39m \n\u001b[32m   (...)\u001b[39m\u001b[32m   1512\u001b[39m \n\u001b[32m   1513\u001b[39m \u001b[33;03m\"\"\"\u001b[39;00m\n\u001b[32m   1514\u001b[39m a, wrap = _makearray(a)\n\u001b[32m-> \u001b[39m\u001b[32m1515\u001b[39m \u001b[43m_assert_stacked_square\u001b[49m\u001b[43m(\u001b[49m\u001b[43ma\u001b[49m\u001b[43m)\u001b[49m\n\u001b[32m   1516\u001b[39m _assert_finite(a)\n\u001b[32m   1517\u001b[39m t, result_t = _commonType(a)\n",
      "\u001b[36mFile \u001b[39m\u001b[32mD:\\AI\\pytroch_learning\\Lib\\site-packages\\numpy\\linalg\\_linalg.py:264\u001b[39m, in \u001b[36m_assert_stacked_square\u001b[39m\u001b[34m(*arrays)\u001b[39m\n\u001b[32m    261\u001b[39m     \u001b[38;5;28;01mraise\u001b[39;00m LinAlgError(\u001b[33m'\u001b[39m\u001b[38;5;132;01m%d\u001b[39;00m\u001b[33m-dimensional array given. Array must be \u001b[39m\u001b[33m'\u001b[39m\n\u001b[32m    262\u001b[39m             \u001b[33m'\u001b[39m\u001b[33mat least two-dimensional\u001b[39m\u001b[33m'\u001b[39m % a.ndim)\n\u001b[32m    263\u001b[39m \u001b[38;5;28;01mif\u001b[39;00m m != n:\n\u001b[32m--> \u001b[39m\u001b[32m264\u001b[39m     \u001b[38;5;28;01mraise\u001b[39;00m LinAlgError(\u001b[33m'\u001b[39m\u001b[33mLast 2 dimensions of the array must be square\u001b[39m\u001b[33m'\u001b[39m)\n",
      "\u001b[31mLinAlgError\u001b[39m: Last 2 dimensions of the array must be square"
     ]
    }
   ],
   "source": [
    "#奇异值分解 非方阵\n",
    "A = np.random.randint(0,10,size=(5,4))\n",
    "np.linalg.eig(A)"
   ]
  },
  {
   "cell_type": "code",
   "execution_count": 12,
   "id": "b9ac18bd-2df0-4c58-81a5-e46570ce21b3",
   "metadata": {},
   "outputs": [
    {
     "data": {
      "text/plain": [
       "array([[0, 0, 9, 1],\n",
       "       [0, 6, 7, 1],\n",
       "       [7, 3, 1, 0],\n",
       "       [4, 8, 3, 6],\n",
       "       [1, 8, 2, 3]], dtype=int32)"
      ]
     },
     "metadata": {},
     "output_type": "display_data"
    },
    {
     "data": {
      "text/plain": [
       "array([[-0.29806563, -0.76615416,  0.29690841, -0.32412836,  0.36187137],\n",
       "       [-0.48806586, -0.36264138, -0.15564177,  0.56204518, -0.53866855],\n",
       "       [-0.27073663,  0.34439476,  0.84388699,  0.29885657,  0.08144589],\n",
       "       [-0.61277539,  0.33170135, -0.07485615, -0.64027336, -0.31452681],\n",
       "       [-0.47345179,  0.22992499, -0.41215573,  0.28245495,  0.68798601]])"
      ]
     },
     "metadata": {},
     "output_type": "display_data"
    },
    {
     "data": {
      "text/plain": [
       "array([17.20961032,  9.36258695,  6.04645994,  3.10025812])"
      ]
     },
     "metadata": {},
     "output_type": "display_data"
    },
    {
     "data": {
      "text/plain": [
       "array([[-0.2800592 , -0.72229541, -0.53197126, -0.34185197],\n",
       "       [ 0.42376041,  0.35784412, -0.81542937,  0.16567937],\n",
       "       [ 0.85928438, -0.38010418,  0.22785074, -0.25541184],\n",
       "       [-0.06020226,  0.45360528, -0.01286752, -0.88907388]])"
      ]
     },
     "metadata": {},
     "output_type": "display_data"
    }
   ],
   "source": [
    "#求解奇异值分解 SVD\n",
    "A = np.random.randint(0,10,size=(5,4))\n",
    "display(A)\n",
    "u,s,v = np.linalg.svd(A) #svd奇异值  输出的V是经过转置的\n",
    "display(u,s,v)"
   ]
  },
  {
   "cell_type": "code",
   "execution_count": 13,
   "id": "ec008e85-5480-48ed-852d-aa513dce9fd7",
   "metadata": {},
   "outputs": [
    {
     "data": {
      "text/plain": [
       "array([[17.20961032,  0.        ,  0.        ,  0.        ],\n",
       "       [ 0.        ,  9.36258695,  0.        ,  0.        ],\n",
       "       [ 0.        ,  0.        ,  6.04645994,  0.        ],\n",
       "       [ 0.        ,  0.        ,  0.        ,  3.10025812],\n",
       "       [ 0.        ,  0.        ,  0.        ,  0.        ]])"
      ]
     },
     "metadata": {},
     "output_type": "display_data"
    }
   ],
   "source": [
    "Σs = np.diag(np.concatenate([s,[0]]))[:,:4]\n",
    "display(Σs)"
   ]
  },
  {
   "cell_type": "code",
   "execution_count": 14,
   "id": "37d72e32-31f5-4cb9-b41d-673184730559",
   "metadata": {},
   "outputs": [
    {
     "data": {
      "text/plain": [
       "array([[-0.,  0.,  9.,  1.],\n",
       "       [ 0.,  6.,  7.,  1.],\n",
       "       [ 7.,  3.,  1., -0.],\n",
       "       [ 4.,  8.,  3.,  6.],\n",
       "       [ 1.,  8.,  2.,  3.]])"
      ]
     },
     "execution_count": 14,
     "metadata": {},
     "output_type": "execute_result"
    }
   ],
   "source": [
    " np.around(u.dot(Σs).dot(v))"
   ]
  },
  {
   "cell_type": "code",
   "execution_count": 15,
   "id": "311cce51-37a3-41f5-944c-0cbf0b7fe984",
   "metadata": {},
   "outputs": [
    {
     "data": {
      "text/plain": [
       "array([296.,  88.,  37.,   0.,  10.])"
      ]
     },
     "metadata": {},
     "output_type": "display_data"
    },
    {
     "data": {
      "text/plain": [
       "array([[-0.29806563, -0.76615416, -0.29690841,  0.36187137, -0.32412836],\n",
       "       [-0.48806586, -0.36264138,  0.15564177, -0.53866855,  0.56204518],\n",
       "       [-0.27073663,  0.34439476, -0.84388699,  0.08144589,  0.29885657],\n",
       "       [-0.61277539,  0.33170135,  0.07485615, -0.31452681, -0.64027336],\n",
       "       [-0.47345179,  0.22992499,  0.41215573,  0.68798601,  0.28245495]])"
      ]
     },
     "metadata": {},
     "output_type": "display_data"
    },
    {
     "data": {
      "text/plain": [
       "array([0, 1, 2, 4, 3])"
      ]
     },
     "metadata": {},
     "output_type": "display_data"
    },
    {
     "data": {
      "text/plain": [
       "array([296.,  88.,  37.,  10.,   0.])"
      ]
     },
     "metadata": {},
     "output_type": "display_data"
    },
    {
     "name": "stdout",
     "output_type": "stream",
     "text": [
      "奇异值为:\n",
      "左奇异矩阵如下:\n"
     ]
    },
    {
     "data": {
      "text/plain": [
       "array([[-0.29806563, -0.76615416, -0.29690841, -0.32412836,  0.36187137],\n",
       "       [-0.48806586, -0.36264138,  0.15564177,  0.56204518, -0.53866855],\n",
       "       [-0.27073663,  0.34439476, -0.84388699,  0.29885657,  0.08144589],\n",
       "       [-0.61277539,  0.33170135,  0.07485615, -0.64027336, -0.31452681],\n",
       "       [-0.47345179,  0.22992499,  0.41215573,  0.28245495,  0.68798601]])"
      ]
     },
     "metadata": {},
     "output_type": "display_data"
    },
    {
     "name": "stdout",
     "output_type": "stream",
     "text": [
      "奇异值为:\n"
     ]
    },
    {
     "data": {
      "text/plain": [
       "array([17.20961032,  9.36258695,  6.04645994,  3.10025812])"
      ]
     },
     "metadata": {},
     "output_type": "display_data"
    },
    {
     "name": "stdout",
     "output_type": "stream",
     "text": [
      "右奇异矩阵如下:\n"
     ]
    },
    {
     "data": {
      "text/plain": [
       "array([[-0.2800592 , -0.72229541, -0.53197126, -0.34185197],\n",
       "       [ 0.42376041,  0.35784412, -0.81542937,  0.16567937],\n",
       "       [ 0.85928438, -0.38010418,  0.22785074, -0.25541184],\n",
       "       [-0.06020226,  0.45360528, -0.01286752, -0.88907388]])"
      ]
     },
     "metadata": {},
     "output_type": "display_data"
    },
    {
     "name": "stdout",
     "output_type": "stream",
     "text": [
      "使用奇异值分解还原矩阵A：\n",
      "[[-0. -0.  9.  1.]\n",
      " [ 0.  6.  7.  1.]\n",
      " [ 7.  3.  1. -0.]\n",
      " [ 4.  8.  3.  6.]\n",
      " [ 1.  8.  2.  3.]]\n"
     ]
    }
   ],
   "source": [
    "#自己实现求解奇异分解\n",
    "\n",
    "#左奇异矩阵\n",
    "sigma,U = np.linalg.eig(A.dot(A.T))\n",
    "display(np.around(sigma),U)\n",
    "#降序排列后，逆序输出\n",
    "index = np.argsort(sigma)[::-1]\n",
    "display(np.around(index))\n",
    "sigma = sigma[index]\n",
    "display(np.around(sigma))\n",
    "U = U[:,index]\n",
    "print('奇异值为:')\n",
    "print('左奇异矩阵如下:')\n",
    "display(U)\n",
    "\n",
    "#计算奇异值矩阵的逆\n",
    "sigma = np.sqrt([s if s > 0 else 0 for s in sigma])\n",
    "print('奇异值为:')\n",
    "display(sigma[:4])\n",
    "\n",
    "#计算右奇异矩阵\n",
    "#奇异值矩阵特殊，斜对角线有值，其它都为零\n",
    "sigma_inv = np.diag([1/s if s>0 else 0 for s in sigma])\n",
    "V = sigma_inv.dot(U.T.dot(A))\n",
    "print('右奇异矩阵如下:')\n",
    "display(v[:4])\n",
    "\n",
    "print('使用奇异值分解还原矩阵A：')\n",
    "print(U.dot(np.diag(sigma)).dot(V).round(0))"
   ]
  },
  {
   "cell_type": "code",
   "execution_count": 16,
   "id": "556933de-5170-4520-94c2-b54193fb419e",
   "metadata": {},
   "outputs": [
    {
     "data": {
      "text/plain": [
       "array([[4, 5, 9, 9, 5]], dtype=int32)"
      ]
     },
     "metadata": {},
     "output_type": "display_data"
    },
    {
     "data": {
      "text/plain": [
       "array([[0, 1, 4, 2, 3]])"
      ]
     },
     "metadata": {},
     "output_type": "display_data"
    }
   ],
   "source": [
    "sigma = np.random.randint(0,10,size=(1,5))\n",
    "display(sigma)\n",
    "#降序排列后，逆序输出\n",
    "index = np.argsort(sigma)[::-1]\n",
    "display(index)"
   ]
  },
  {
   "cell_type": "code",
   "execution_count": 18,
   "id": "d847091c-8058-4f23-b60d-f8ba89f3f953",
   "metadata": {},
   "outputs": [
    {
     "name": "stdout",
     "output_type": "stream",
     "text": [
      "原图尺寸:4320000\n",
      "压缩尺寸:126900\n"
     ]
    },
    {
     "data": {
      "image/png": "[encoded data removed]",
      "text/plain": [
       "<Figure size 1200x400 with 2 Axes>"
      ]
     },
     "metadata": {},
     "output_type": "display_data"
    }
   ],
   "source": [
    "#SVD 数据压缩\n",
    "import matplotlib.pyplot as plt\n",
    "#图片压缩\n",
    "def pic_compress(k,img):\n",
    "    #奇异值分解\n",
    "    u,sigma,vt = np.linalg.svd(img)\n",
    "    compress_img = np.dot(np.dot(u[:,:k],np.diag(sigma[:k])),vt[:k,:]) #还原图像\n",
    "    size = u.shape[0] * k + k * k + k * vt.shape[1]\n",
    "    return compress_img,size\n",
    "filename = './0130.jpg'\n",
    "img = plt.imread(filename)[:,:,0] #取其中的一个颜色通道\n",
    "compress_img,size = pic_compress(30,img)\n",
    "print('原图尺寸:' + str(img.shape[0] * img.shape[1]))\n",
    "print('压缩尺寸:' + str(size))\n",
    "fig,ax = plt.subplots(1,2,figsize = (12,4))\n",
    "ax[0].imshow(img,cmap='gray')\n",
    "ax[0].set_title('before compress')\n",
    "ax[1].imshow(compress_img,cmap='gray')\n",
    "ax[1].set_title('after compress')\n",
    "plt.show()"
   ]
  },
  {
   "cell_type": "code",
   "execution_count": 19,
   "id": "5b884faf-1044-47ab-aada-d34b4fdb87fb",
   "metadata": {},
   "outputs": [
    {
     "name": "stdout",
     "output_type": "stream",
     "text": [
      "原始数据特征个数是: 4\n"
     ]
    },
    {
     "data": {
      "text/plain": [
       "array([[-1.30533786,  0.64836932],\n",
       "       [-1.31993521, -0.35930856],\n",
       "       [-1.40496732, -0.29424412],\n",
       "       [-1.33510889, -0.64613986],\n",
       "       [-1.32702321,  0.6633044 ]])"
      ]
     },
     "metadata": {},
     "output_type": "display_data"
    },
    {
     "name": "stdout",
     "output_type": "stream",
     "text": [
      "经过PCA降维，数据特征个数是: 2\n"
     ]
    }
   ],
   "source": [
    "#使用sklearn库进行PCA降维\n",
    "from sklearn.decomposition import PCA\n",
    "from sklearn import datasets\n",
    "\n",
    "n_components_ = 2\n",
    "\n",
    "X,y = datasets.load_iris(return_X_y=True)\n",
    "\n",
    "print('原始数据特征个数是:',X.shape[1])\n",
    "pca = PCA(n_components=n_components_,whiten=True)\n",
    "X_pca = pca.fit_transform(X,)\n",
    "display(X_pca[:5])\n",
    "print('经过PCA降维，数据特征个数是:',X_pca.shape[1])"
   ]
  },
  {
   "cell_type": "code",
   "execution_count": 29,
   "id": "681676aa-1b13-468c-8d8f-08b6ecadd28a",
   "metadata": {},
   "outputs": [
    {
     "name": "stdout",
     "output_type": "stream",
     "text": [
      "原始数据特征个数是: 4\n"
     ]
    },
    {
     "data": {
      "text/plain": [
       "array([5.84333333, 3.05733333, 3.758     , 1.19933333])"
      ]
     },
     "metadata": {},
     "output_type": "display_data"
    },
    {
     "data": {
      "text/plain": [
       "array([[-1.30533786,  0.64836932],\n",
       "       [-1.31993521, -0.35930856],\n",
       "       [-1.40496732, -0.29424412],\n",
       "       [-1.33510889, -0.64613986],\n",
       "       [-1.32702321,  0.6633044 ]])"
      ]
     },
     "metadata": {},
     "output_type": "display_data"
    },
    {
     "name": "stdout",
     "output_type": "stream",
     "text": [
      "经过PCA降维，数据特征个数是: 2\n"
     ]
    }
   ],
   "source": [
    "#SVD进行PCA降维\n",
    "from sklearn import datasets\n",
    "r = 2 #筛选特征个数\n",
    "X,y = datasets.load_iris(return_X_y=True)\n",
    "#display(X)\n",
    "print('原始数据特征个数是:',X.shape[1])\n",
    "#1、去中心化\n",
    "mean_= np.mean(X,axis=0)\n",
    "display(mean_)\n",
    "X -= mean_\n",
    "#2、奇异值分解\n",
    "u,s,v = np.linalg.svd(X)\n",
    "#3、符号反转 如果为负数，那么就变成正数\n",
    "max_abs_cols = np.argmax(np.abs(u),axis=0)\n",
    "signs = np.sign(u[max_abs_cols,range(u.shape[1])])\n",
    "u *= signs\n",
    "#4、降维特征筛选\n",
    "u = u[:,:r]\n",
    "#5、归一化\n",
    "u = (u - u.mean(axis=0)) / u.std(axis= 0,ddof = 1) #标准差\n",
    "display(u[:5])\n",
    "print('经过PCA降维，数据特征个数是:',u.shape[1])"
   ]
  },
  {
   "cell_type": "code",
   "execution_count": 32,
   "id": "ec2db8d2-033f-49bf-88d7-afae31621dc3",
   "metadata": {},
   "outputs": [
    {
     "name": "stdout",
     "output_type": "stream",
     "text": [
      "矩阵A的秩是：\n"
     ]
    },
    {
     "data": {
      "text/plain": [
       "np.int64(4)"
      ]
     },
     "metadata": {},
     "output_type": "display_data"
    },
    {
     "ename": "LinAlgError",
     "evalue": "Last 2 dimensions of the array must be square",
     "output_type": "error",
     "traceback": [
      "\u001b[31m---------------------------------------------------------------------------\u001b[39m",
      "\u001b[31mLinAlgError\u001b[39m                               Traceback (most recent call last)",
      "\u001b[36mCell\u001b[39m\u001b[36m \u001b[39m\u001b[32mIn[32]\u001b[39m\u001b[32m, line 11\u001b[39m\n\u001b[32m      9\u001b[39m \u001b[38;5;28mprint\u001b[39m(\u001b[33m'\u001b[39m\u001b[33m矩阵A的秩是：\u001b[39m\u001b[33m'\u001b[39m)\n\u001b[32m     10\u001b[39m display(np.linalg.matrix_rank(A))\n\u001b[32m---> \u001b[39m\u001b[32m11\u001b[39m display(\u001b[43mnp\u001b[49m\u001b[43m.\u001b[49m\u001b[43mlinalg\u001b[49m\u001b[43m.\u001b[49m\u001b[43minv\u001b[49m\u001b[43m(\u001b[49m\u001b[43mA\u001b[49m\u001b[43m)\u001b[49m)\n",
      "\u001b[36mFile \u001b[39m\u001b[32mD:\\AI\\pytroch_learning\\Lib\\site-packages\\numpy\\linalg\\_linalg.py:663\u001b[39m, in \u001b[36minv\u001b[39m\u001b[34m(a)\u001b[39m\n\u001b[32m    559\u001b[39m \u001b[38;5;250m\u001b[39m\u001b[33;03m\"\"\"\u001b[39;00m\n\u001b[32m    560\u001b[39m \u001b[33;03mCompute the inverse of a matrix.\u001b[39;00m\n\u001b[32m    561\u001b[39m \n\u001b[32m   (...)\u001b[39m\u001b[32m    660\u001b[39m \n\u001b[32m    661\u001b[39m \u001b[33;03m\"\"\"\u001b[39;00m\n\u001b[32m    662\u001b[39m a, wrap = _makearray(a)\n\u001b[32m--> \u001b[39m\u001b[32m663\u001b[39m \u001b[43m_assert_stacked_square\u001b[49m\u001b[43m(\u001b[49m\u001b[43ma\u001b[49m\u001b[43m)\u001b[49m\n\u001b[32m    664\u001b[39m t, result_t = _commonType(a)\n\u001b[32m    666\u001b[39m signature = \u001b[33m'\u001b[39m\u001b[33mD->D\u001b[39m\u001b[33m'\u001b[39m \u001b[38;5;28;01mif\u001b[39;00m isComplexType(t) \u001b[38;5;28;01melse\u001b[39;00m \u001b[33m'\u001b[39m\u001b[33md->d\u001b[39m\u001b[33m'\u001b[39m\n",
      "\u001b[36mFile \u001b[39m\u001b[32mD:\\AI\\pytroch_learning\\Lib\\site-packages\\numpy\\linalg\\_linalg.py:264\u001b[39m, in \u001b[36m_assert_stacked_square\u001b[39m\u001b[34m(*arrays)\u001b[39m\n\u001b[32m    261\u001b[39m     \u001b[38;5;28;01mraise\u001b[39;00m LinAlgError(\u001b[33m'\u001b[39m\u001b[38;5;132;01m%d\u001b[39;00m\u001b[33m-dimensional array given. Array must be \u001b[39m\u001b[33m'\u001b[39m\n\u001b[32m    262\u001b[39m             \u001b[33m'\u001b[39m\u001b[33mat least two-dimensional\u001b[39m\u001b[33m'\u001b[39m % a.ndim)\n\u001b[32m    263\u001b[39m \u001b[38;5;28;01mif\u001b[39;00m m != n:\n\u001b[32m--> \u001b[39m\u001b[32m264\u001b[39m     \u001b[38;5;28;01mraise\u001b[39;00m LinAlgError(\u001b[33m'\u001b[39m\u001b[33mLast 2 dimensions of the array must be square\u001b[39m\u001b[33m'\u001b[39m)\n",
      "\u001b[31mLinAlgError\u001b[39m: Last 2 dimensions of the array must be square"
     ]
    }
   ],
   "source": [
    "#无法直接求逆矩阵\n",
    "A = np.array([[3,4,5,5],\n",
    "            [7,5,3,6],\n",
    "            [6,5,7,7],\n",
    "            [4,9,8,9],\n",
    "            [5,10,5,7]])\n",
    "\n",
    "# A是奇异矩阵\n",
    "print('矩阵A的秩是：')\n",
    "display(np.linalg.matrix_rank(A))\n",
    "display(np.linalg.inv(A))"
   ]
  },
  {
   "cell_type": "code",
   "execution_count": 39,
   "id": "edaff47b-c722-46df-87e7-3259167d2041",
   "metadata": {},
   "outputs": [
    {
     "data": {
      "text/plain": [
       "array([[-0.3101916 ,  0.04769317,  0.35708497,  0.01791768,  0.87958844],\n",
       "       [-0.37495544, -0.73958189, -0.33372775, -0.44531378,  0.0524258 ],\n",
       "       [-0.44812844, -0.34942375,  0.5206661 ,  0.52493567, -0.36115552],\n",
       "       [-0.55774569,  0.50103456,  0.20813073, -0.55345231, -0.29707954],\n",
       "       [-0.50128858,  0.27858822, -0.66835958,  0.46851647,  0.06990107]])"
      ]
     },
     "metadata": {},
     "output_type": "display_data"
    },
    {
     "data": {
      "text/plain": [
       "array([27.56758049,  4.36911093,  3.79131357,  0.75187562])"
      ]
     },
     "metadata": {},
     "output_type": "display_data"
    },
    {
     "data": {
      "text/plain": [
       "array([[-0.39834686, -0.55822029, -0.46362907, -0.56103295],\n",
       "       [-0.85451182,  0.46712883,  0.223151  , -0.04247162],\n",
       "       [-0.17147559, -0.64552498,  0.72590995,  0.16415961],\n",
       "       [ 0.28587663,  0.23125369,  0.45640603, -0.81024059]])"
      ]
     },
     "metadata": {},
     "output_type": "display_data"
    },
    {
     "name": "stdout",
     "output_type": "stream",
     "text": [
      "矩阵B是A的逆矩阵，两个进行矩阵运算得到单位矩阵:\n"
     ]
    },
    {
     "data": {
      "text/plain": [
       "array([[ 1.,  0.,  0.,  0.],\n",
       "       [ 0.,  1., -0., -0.],\n",
       "       [ 0., -0.,  1., -0.],\n",
       "       [-0.,  0., -0.,  1.]])"
      ]
     },
     "metadata": {},
     "output_type": "display_data"
    }
   ],
   "source": [
    "#SVD进行矩阵求逆\n",
    "u,s,v = np.linalg.svd(A)\n",
    "display(u,s,v)\n",
    "m,n = A.shape\n",
    "\n",
    "#奇异值求倒数\n",
    "# sigma = np.concatenate([np.diag(s),np.full(shape=(m-n,n),fill_value=0)],axis =0)\n",
    "# sigma = sigma ** (-1)\n",
    "# cond = np.isinf(sigma)\n",
    "# sigma[cond] = 0\n",
    "sigma = np.diag(np.concatenate([s ** (-1),[0]]))[:,:4]\n",
    "#逆矩阵求解\n",
    "B = v.T.dot(sigma.T).dot(u.T)\n",
    "print('矩阵B是A的逆矩阵，两个进行矩阵运算得到单位矩阵:')\n",
    "display(B.dot(A).round(0))"
   ]
  },
  {
   "cell_type": "code",
   "execution_count": 45,
   "id": "f2ab2692-35a4-48e1-83c1-7cc0e707db86",
   "metadata": {},
   "outputs": [
    {
     "data": {
      "text/plain": [
       "array([[3.2, 1.9, 2.3, 1.6, 4.2],\n",
       "       [2.5, 3.9, 3.6, 3.9, 3.1],\n",
       "       [2.3, 1.7, 1.9, 1.5, 3. ],\n",
       "       [1.1, 3.7, 3.1, 4. , 1.2],\n",
       "       [4.2, 2.8, 3.2, 2.4, 5.5],\n",
       "       [2.3, 3.5, 3.3, 3.6, 2.8],\n",
       "       [1.6, 2.2, 2.1, 2.2, 2. ],\n",
       "       [2.6, 3.8, 3.6, 3.8, 3.3],\n",
       "       [1. , 2.6, 2.3, 2.8, 1.2],\n",
       "       [4. , 1.5, 2.1, 1. , 5.3]])"
      ]
     },
     "execution_count": 45,
     "metadata": {},
     "output_type": "execute_result"
    }
   ],
   "source": [
    "# SVD进行协同过滤\n",
    "food = np.asmatrix([[2,1,3,2,5],\n",
    "              [3,5,2,4,3],\n",
    "              [1,3,1,1,4],\n",
    "              [0,2,4,5,2],\n",
    "              [4,4,5,0,5],\n",
    "              [5,5,2,3,1],\n",
    "              [1,1,4,2,2],\n",
    "              [2,3,3,5,4],\n",
    "              [1,3,3,2,1],\n",
    "              [5,0,1,3,5]])\n",
    "\n",
    "u,sigma,v = np.linalg.svd(food)\n",
    "#选取前2大特征值，做近似表达\n",
    "food_result = np.asmatrix(u[:,:2]) * np.asmatrix(np.diag(sigma[:2])) * np.asmatrix(v[:2,:])\n",
    "food_result.round(1)"
   ]
  },
  {
   "cell_type": "code",
   "execution_count": null,
   "id": "ccb34771-9709-4630-a526-9879b5130de5",
   "metadata": {},
   "outputs": [],
   "source": []
  },
  {
   "cell_type": "code",
   "execution_count": null,
   "id": "302e2410-4abd-4837-a719-189707550021",
   "metadata": {},
   "outputs": [],
   "source": []
  },
  {
   "cell_type": "code",
   "execution_count": null,
   "id": "3cbdc927-276c-4e6e-961b-5b2991e316b0",
   "metadata": {},
   "outputs": [],
   "source": []
  },
  {
   "cell_type": "code",
   "execution_count": null,
   "id": "c4f42731-d19c-450b-8487-d1965d46e936",
   "metadata": {},
   "outputs": [],
   "source": []
  },
  {
   "cell_type": "code",
   "execution_count": null,
   "id": "68b3578c-7f57-453f-a952-88c9fe63a37a",
   "metadata": {},
   "outputs": [],
   "source": []
  },
  {
   "cell_type": "code",
   "execution_count": null,
   "id": "62980000-bfda-4a34-9549-79aa660d5f04",
   "metadata": {},
   "outputs": [],
   "source": []
  },
  {
   "cell_type": "code",
   "execution_count": null,
   "id": "1a4d7641-e59a-4f7a-902d-d2982ff89b4a",
   "metadata": {},
   "outputs": [],
   "source": []
  },
  {
   "cell_type": "code",
   "execution_count": null,
   "id": "4fdef1aa-e211-416a-a2f0-511def84ed6e",
   "metadata": {},
   "outputs": [],
   "source": []
  },
  {
   "cell_type": "code",
   "execution_count": null,
   "id": "f9c794ae-e01e-4bdd-ba00-2035e77fcc1d",
   "metadata": {},
   "outputs": [],
   "source": []
  },
  {
   "cell_type": "code",
   "execution_count": null,
   "id": "55035275-d4fb-47e3-9256-eee891439afd",
   "metadata": {},
   "outputs": [],
   "source": []
  },
  {
   "cell_type": "code",
   "execution_count": null,
   "id": "98484cb2-0a43-4cba-b0dc-fbe83fbb6b97",
   "metadata": {},
   "outputs": [],
   "source": []
  },
  {
   "cell_type": "code",
   "execution_count": null,
   "id": "985f4808-f720-49d8-9c7f-5f63c8b6041b",
   "metadata": {},
   "outputs": [],
   "source": []
  },
  {
   "cell_type": "code",
   "execution_count": null,
   "id": "d3c3c0df-daec-4845-8062-81fc4e4e1cf6",
   "metadata": {},
   "outputs": [],
   "source": []
  },
  {
   "cell_type": "code",
   "execution_count": null,
   "id": "e14d9d68-d7c2-4d79-a8a3-886d4adc4182",
   "metadata": {},
   "outputs": [],
   "source": []
  },
  {
   "cell_type": "code",
   "execution_count": null,
   "id": "9c22da75-46be-487d-b78f-b97c8f6c45ad",
   "metadata": {},
   "outputs": [],
   "source": []
  },
  {
   "cell_type": "code",
   "execution_count": null,
   "id": "7dc808f6-303f-44b0-8bf8-c52ebc54b986",
   "metadata": {},
   "outputs": [],
   "source": []
  },
  {
   "cell_type": "code",
   "execution_count": null,
   "id": "d2a05b16-7185-48a6-adb9-b6bdb1e26ad4",
   "metadata": {},
   "outputs": [],
   "source": []
  },
  {
   "cell_type": "code",
   "execution_count": null,
   "id": "1b1cf9e3-e5f6-4e54-9683-f484f8cb97d7",
   "metadata": {},
   "outputs": [],
   "source": []
  },
  {
   "cell_type": "code",
   "execution_count": null,
   "id": "9a572a3b-0c80-44f7-acca-3689b62ce248",
   "metadata": {},
   "outputs": [],
   "source": []
  },
  {
   "cell_type": "code",
   "execution_count": null,
   "id": "ef853f58-a0f3-49e4-95c5-3e054735489a",
   "metadata": {},
   "outputs": [],
   "source": []
  },
  {
   "cell_type": "code",
   "execution_count": null,
   "id": "0c0b4724-6596-43c1-a1de-8a2fe9e7e512",
   "metadata": {},
   "outputs": [],
   "source": []
  },
  {
   "cell_type": "code",
   "execution_count": null,
   "id": "38a6660c-773b-493b-92e9-0c9b6c8166ca",
   "metadata": {},
   "outputs": [],
   "source": []
  },
  {
   "cell_type": "code",
   "execution_count": null,
   "id": "6c2cbc56-c365-4748-968f-206da6166054",
   "metadata": {},
   "outputs": [],
   "source": []
  },
  {
   "cell_type": "code",
   "execution_count": null,
   "id": "b07826ea-405f-4b7c-bfff-b463f995711d",
   "metadata": {},
   "outputs": [],
   "source": []
  },
  {
   "cell_type": "code",
   "execution_count": null,
   "id": "7300b065-1851-4624-ae5c-49988a5d93ce",
   "metadata": {},
   "outputs": [],
   "source": []
  },
  {
   "cell_type": "code",
   "execution_count": null,
   "id": "1885385d-e72f-4897-848d-a4d8258146f5",
   "metadata": {},
   "outputs": [],
   "source": []
  },
  {
   "cell_type": "code",
   "execution_count": null,
   "id": "965c29e4-5bec-481c-938f-90791f445fca",
   "metadata": {},
   "outputs": [],
   "source": []
  },
  {
   "cell_type": "code",
   "execution_count": null,
   "id": "80250d87-bb10-4c4e-824d-0794364c06b3",
   "metadata": {},
   "outputs": [],
   "source": []
  },
  {
   "cell_type": "code",
   "execution_count": null,
   "id": "0902e180-7a7a-4f00-b147-f64a37d866be",
   "metadata": {},
   "outputs": [],
   "source": []
  },
  {
   "cell_type": "code",
   "execution_count": null,
   "id": "e09d00aa-a478-418a-a2ba-457dd86229e8",
   "metadata": {},
   "outputs": [],
   "source": []
  },
  {
   "cell_type": "code",
   "execution_count": null,
   "id": "b1119d8b-6853-4f3c-bad5-aadf3c95eab1",
   "metadata": {},
   "outputs": [],
   "source": []
  },
  {
   "cell_type": "code",
   "execution_count": null,
   "id": "a8427aba-bb20-48e4-a3c8-c3f9386fdac5",
   "metadata": {},
   "outputs": [],
   "source": []
  },
  {
   "cell_type": "code",
   "execution_count": null,
   "id": "86b4e401-3ece-491f-9cc2-bfc958eb6509",
   "metadata": {},
   "outputs": [],
   "source": []
  },
  {
   "cell_type": "code",
   "execution_count": null,
   "id": "5c68d10b-64ee-4847-ad7f-e9eeb7f71484",
   "metadata": {},
   "outputs": [],
   "source": []
  },
  {
   "cell_type": "code",
   "execution_count": null,
   "id": "3076b315-9164-4d9b-b62a-f4522c373a73",
   "metadata": {},
   "outputs": [],
   "source": []
  }
 ],
 "metadata": {
  "kernelspec": {
   "display_name": "Python (Matplotlib)",
   "language": "python",
   "name": "myenv"
  },
  "language_info": {
   "codemirror_mode": {
    "name": "ipython",
    "version": 3
   },
   "file_extension": ".py",
   "mimetype": "text/x-python",
   "name": "python",
   "nbconvert_exporter": "python",
   "pygments_lexer": "ipython3",
   "version": "3.11.0"
  }
 },
 "nbformat": 4,
 "nbformat_minor": 5
}
