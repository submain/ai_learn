{
 "cells": [
  {
   "cell_type": "markdown",
   "id": "8c2a15f5-050d-4fff-b65a-4026714e1c35",
   "metadata": {},
   "source": [
    "## 归一化"
   ]
  },
  {
   "cell_type": "code",
   "execution_count": 1,
   "id": "a76d24ac-aca0-4588-bf71-004c39ac559f",
   "metadata": {},
   "outputs": [],
   "source": [
    "import numpy as np\n",
    "import matplotlib.pyplot as plt"
   ]
  },
  {
   "cell_type": "markdown",
   "id": "b001b95c-257b-4c46-b83a-608ae38d57bb",
   "metadata": {
    "jp-MarkdownHeadingCollapsed": true
   },
   "source": [
    "### 最大值最小值归一化（标准化）"
   ]
  },
  {
   "cell_type": "code",
   "execution_count": 2,
   "id": "b02825c2-ce20-416c-88f1-70c47682ed16",
   "metadata": {},
   "outputs": [
    {
     "data": {
      "text/plain": [
       "array([[   3, 3241],\n",
       "       [   3, 4056],\n",
       "       [   4, 3176],\n",
       "       [   0, 4038],\n",
       "       [   0, 1916],\n",
       "       [   0, 2490],\n",
       "       [   2, 4559],\n",
       "       [   5, 1081],\n",
       "       [   5, 1655],\n",
       "       [   3, 1822]], dtype=int32)"
      ]
     },
     "execution_count": 2,
     "metadata": {},
     "output_type": "execute_result"
    }
   ],
   "source": [
    "#最大值最小值归一化\n",
    "x_1 = np.random.randint(0,10,size=10) #一维\n",
    "x_2 = np.random.randint(1000,5000,size=10)一维\n",
    "\n",
    "x = np.c_[x_1,x_2] #二维\n",
    "x"
   ]
  },
  {
   "cell_type": "code",
   "execution_count": 3,
   "id": "53263afa-a1c9-4349-a320-d8da316f878a",
   "metadata": {},
   "outputs": [
    {
     "data": {
      "text/plain": [
       "array([[0.6       , 0.62104658],\n",
       "       [0.6       , 0.85537665],\n",
       "       [0.8       , 0.60235768],\n",
       "       [0.        , 0.85020127],\n",
       "       [0.        , 0.24008051],\n",
       "       [0.        , 0.40511788],\n",
       "       [0.4       , 1.        ],\n",
       "       [1.        , 0.        ],\n",
       "       [1.        , 0.16503738],\n",
       "       [0.6       , 0.21305348]])"
      ]
     },
     "execution_count": 3,
     "metadata": {},
     "output_type": "execute_result"
    }
   ],
   "source": [
    "#归一化 axis = 0表示按照行的方向，将每一列进行计算\n",
    "x_norm = (x - x.min(axis = 0)) / (x.max(axis = 0) - x.min(axis = 0))\n",
    "x_norm"
   ]
  },
  {
   "cell_type": "code",
   "execution_count": 5,
   "id": "abd9d2e4-4835-4a57-9970-7d67c270a4e1",
   "metadata": {},
   "outputs": [
    {
     "data": {
      "text/plain": [
       "array([[0.6, 0. ],\n",
       "       [0.6, 0. ],\n",
       "       [0.8, 0. ],\n",
       "       [0. , 0. ],\n",
       "       [0. , 0. ],\n",
       "       [0. , 0. ],\n",
       "       [0.4, 1. ],\n",
       "       [1. , 0. ],\n",
       "       [1. , 0. ],\n",
       "       [0.6, 0. ]])"
      ]
     },
     "execution_count": 5,
     "metadata": {},
     "output_type": "execute_result"
    }
   ],
   "source": [
    "#演示离群点 \n",
    "#在数据处理前，需要清洗离群点\n",
    "x[6,1] = 123456789\n",
    "x\n",
    "x_norm = (x - x.min(axis = 0)) / (x.max(axis = 0) - x.min(axis = 0))\n",
    "x_norm.round(2)"
   ]
  },
  {
   "cell_type": "markdown",
   "id": "269e3f63-cf6c-446a-902a-feaf3ed57739",
   "metadata": {},
   "source": [
    "#### sklearn方法调用"
   ]
  },
  {
   "cell_type": "code",
   "execution_count": 6,
   "id": "9f9fb3d3-66a6-4f9e-8c57-b59e3aab634a",
   "metadata": {},
   "outputs": [],
   "source": [
    "from sklearn.preprocessing import MinMaxScaler"
   ]
  },
  {
   "cell_type": "code",
   "execution_count": 7,
   "id": "48acde3b-7d59-4c53-a99d-8e33eef4adf3",
   "metadata": {},
   "outputs": [
    {
     "data": {
      "text/plain": [
       "array([[0.6       , 0.0000175 ],\n",
       "       [0.6       , 0.0000241 ],\n",
       "       [0.8       , 0.00001697],\n",
       "       [0.        , 0.00002395],\n",
       "       [0.        , 0.00000676],\n",
       "       [0.        , 0.00001141],\n",
       "       [0.4       , 1.        ],\n",
       "       [1.        , 0.        ],\n",
       "       [1.        , 0.00000465],\n",
       "       [0.6       , 0.000006  ]])"
      ]
     },
     "execution_count": 7,
     "metadata": {},
     "output_type": "execute_result"
    }
   ],
   "source": [
    "mms = MinMaxScaler()\n",
    "np.set_printoptions(suppress=True)\n",
    "mms.fit_transform(x)"
   ]
  },
  {
   "cell_type": "markdown",
   "id": "cb0ad594-dad3-4216-a0dc-5fb4e0d82a9c",
   "metadata": {
    "jp-MarkdownHeadingCollapsed": true
   },
   "source": [
    "### 0均值标准化 z-score"
   ]
  },
  {
   "cell_type": "code",
   "execution_count": 10,
   "id": "c79c2976-e5dc-46ea-8bb1-6aa864ab7390",
   "metadata": {},
   "outputs": [
    {
     "data": {
      "text/plain": [
       "array([[   9, 3320],\n",
       "       [   1, 3617],\n",
       "       [   1, 4011],\n",
       "       [   8, 2583],\n",
       "       [   0, 6652],\n",
       "       [   6, 1728],\n",
       "       [   9, 4108],\n",
       "       [   2, 2495],\n",
       "       [   9, 9779],\n",
       "       [   6, 8402]], dtype=int32)"
      ]
     },
     "execution_count": 10,
     "metadata": {},
     "output_type": "execute_result"
    }
   ],
   "source": [
    "import numpy as np\n",
    "x_1 = np.random.randint(0,10,size=(10,1)) #二维\n",
    "x_2 = np.random.randint(1000,10000,size=(10,1)) #二维\n",
    "\n",
    "x = np.c_[x_1,x_2] #二维\n",
    "x"
   ]
  },
  {
   "cell_type": "code",
   "execution_count": 12,
   "id": "6a5721ee-9e4a-48ab-80de-32be2e01ecee",
   "metadata": {},
   "outputs": [
    {
     "data": {
      "text/plain": [
       "array([[ 1.10352808, -0.52777285],\n",
       "       [-1.16011926, -0.41161981],\n",
       "       [-1.16011926, -0.25753125],\n",
       "       [ 0.82057216, -0.81600449],\n",
       "       [-1.44307518,  0.77533137],\n",
       "       [ 0.25466033, -1.15038447],\n",
       "       [ 1.10352808, -0.21959574],\n",
       "       [-0.87716334, -0.85042021],\n",
       "       [ 1.10352808,  1.99826261],\n",
       "       [ 0.25466033,  1.45973485]])"
      ]
     },
     "execution_count": 12,
     "metadata": {},
     "output_type": "execute_result"
    }
   ],
   "source": [
    "norm = (x - x.mean(axis = 0))/ x.std(axis = 0)\n",
    "norm #归一化结果，正态分布 0,1"
   ]
  },
  {
   "cell_type": "code",
   "execution_count": 15,
   "id": "c2f318d6-5cda-4baa-8d00-455ebdb900b3",
   "metadata": {},
   "outputs": [
    {
     "data": {
      "text/plain": [
       "array([0., 0.])"
      ]
     },
     "execution_count": 15,
     "metadata": {},
     "output_type": "execute_result"
    }
   ],
   "source": [
    "norm.mean(axis = 0) #平均值"
   ]
  },
  {
   "cell_type": "code",
   "execution_count": 17,
   "id": "93937f30-43dd-49c9-a828-ffe4a4abf1fb",
   "metadata": {},
   "outputs": [
    {
     "data": {
      "text/plain": [
       "array([1., 1.])"
      ]
     },
     "execution_count": 17,
     "metadata": {},
     "output_type": "execute_result"
    }
   ],
   "source": [
    "norm.std(axis = 0) #标准差"
   ]
  },
  {
   "cell_type": "markdown",
   "id": "e439f6c7-3cdb-47d9-a57c-3951e4e081f0",
   "metadata": {},
   "source": [
    "#### sklearn方法调用"
   ]
  },
  {
   "cell_type": "code",
   "execution_count": 18,
   "id": "f7c69700-6ea5-409d-ad11-896b1149cd9a",
   "metadata": {},
   "outputs": [
    {
     "data": {
      "text/plain": [
       "array([[ 1.10352808, -0.52777285],\n",
       "       [-1.16011926, -0.41161981],\n",
       "       [-1.16011926, -0.25753125],\n",
       "       [ 0.82057216, -0.81600449],\n",
       "       [-1.44307518,  0.77533137],\n",
       "       [ 0.25466033, -1.15038447],\n",
       "       [ 1.10352808, -0.21959574],\n",
       "       [-0.87716334, -0.85042021],\n",
       "       [ 1.10352808,  1.99826261],\n",
       "       [ 0.25466033,  1.45973485]])"
      ]
     },
     "execution_count": 18,
     "metadata": {},
     "output_type": "execute_result"
    }
   ],
   "source": [
    "from sklearn.preprocessing import StandardScaler\n",
    "sta = StandardScaler()\n",
    "sta.fit(x)\n",
    "x_norm2 = sta.transform(x)\n",
    "x_norm2"
   ]
  },
  {
   "cell_type": "markdown",
   "id": "39ac0c29-a576-4414-8400-0e6128291995",
   "metadata": {},
   "source": [
    "<img src=\"./Snipaste_2025-09-13_14-56-27.png\" alt=\"./Snipaste_2025-09-13_14-56-27.png\" width=\"80%\" >"
   ]
  },
  {
   "cell_type": "markdown",
   "id": "15f31a9b-e71f-47d4-9104-23d90aaa8680",
   "metadata": {},
   "source": [
    "## 正则化"
   ]
  },
  {
   "cell_type": "code",
   "execution_count": 23,
   "id": "f7bc3ffd-ec9c-4da0-811e-6590593f2af5",
   "metadata": {},
   "outputs": [],
   "source": [
    "import numpy as np\n",
    "import matplotlib.pyplot as plt"
   ]
  },
  {
   "cell_type": "markdown",
   "id": "cca2f0f0-45ad-407a-95e9-2b83a3e15318",
   "metadata": {},
   "source": [
    "$L_1 = |w_1| + |w_2|$"
   ]
  },
  {
   "cell_type": "code",
   "execution_count": 40,
   "id": "a0757e6b-bf63-4e78-bfa9-f3fc5a60d02e",
   "metadata": {},
   "outputs": [
    {
     "data": {
      "text/plain": [
       "[<matplotlib.lines.Line2D at 0x19fb633e390>]"
      ]
     },
     "execution_count": 40,
     "metadata": {},
     "output_type": "execute_result"
    },
    {
     "data": {
      "image/png": "[encoded data removed]",
      "text/plain": [
       "<Figure size 600x600 with 1 Axes>"
      ]
     },
     "metadata": {},
     "output_type": "display_data"
    }
   ],
   "source": [
    "#f(x,y) = |x| + |y|\n",
    "\n",
    "#|x| + |y| = 0\n",
    "\n",
    "#假设x,y都是大于零\n",
    "\n",
    "fun1 = lambda x:1 - x\n",
    "\n",
    "x1 = np.linspace(0,1,50)\n",
    "y1 = fun1(x1)\n",
    "plt.figure(figsize=(6,6))\n",
    "plt.plot(x1,y1)\n",
    "\n",
    "plt.xlim(-2,2)\n",
    "plt.ylim(-2,2)\n",
    "\n",
    "ax = plt.gca()\n",
    "\n",
    "ax.spines['right'].set_color('None')\n",
    "ax.spines['top'].set_color('None')\n",
    "ax.spines['bottom'].set_position(('data',0))\n",
    "ax.spines['left'].set_position(('data',0))\n",
    "\n",
    "\n",
    "fun2 = lambda x: -x - 1\n",
    "x2 = np.linspace(-1,0,50)\n",
    "y2 = fun2(x2)\n",
    "plt.plot(x2,y2)\n",
    "\n",
    "fun3 = lambda x: x - 1\n",
    "x3 = np.linspace(0,1,50)\n",
    "y3 = fun3(x3)\n",
    "plt.plot(x3,y3)\n",
    "\n",
    "\n",
    "fun4 = lambda x: x + 1\n",
    "x4 = np.linspace(-1,0,50)\n",
    "y4 = fun4(x4)\n",
    "plt.plot(x4,y4)\n",
    "\n"
   ]
  },
  {
   "cell_type": "markdown",
   "id": "baba2307-44e5-49eb-892d-22d4d649ef6f",
   "metadata": {},
   "source": [
    "### L2可视化"
   ]
  },
  {
   "cell_type": "code",
   "execution_count": 45,
   "id": "7bfb57d1-2933-41ab-8aa3-7c053701845f",
   "metadata": {},
   "outputs": [
    {
     "data": {
      "text/plain": [
       "[<matplotlib.lines.Line2D at 0x19fb6788510>]"
      ]
     },
     "execution_count": 45,
     "metadata": {},
     "output_type": "execute_result"
    },
    {
     "data": {
      "image/png": "[encoded data removed]",
      "text/plain": [
       "<Figure size 600x600 with 1 Axes>"
      ]
     },
     "metadata": {},
     "output_type": "display_data"
    }
   ],
   "source": [
    "fun = lambda x: (1 - x**2) ** 0.5\n",
    "x = np.linspace(-1,1,100)\n",
    "y1 = fun(x)\n",
    "y2 = -fun(x)\n",
    "plt.figure(figsize=(6,6))\n",
    "plt.plot(x,y1)\n",
    "plt.plot(x,y2)"
   ]
  },
  {
   "cell_type": "markdown",
   "id": "427ca310-1b67-409a-ac27-658e94fb1b7b",
   "metadata": {},
   "source": [
    "### Ridge岭回归"
   ]
  },
  {
   "cell_type": "code",
   "execution_count": 56,
   "id": "84828268-fbfd-45d4-8809-031a53f66b3c",
   "metadata": {},
   "outputs": [],
   "source": [
    "from sklearn.linear_model import Ridge,SGDRegressor,LinearRegression"
   ]
  },
  {
   "cell_type": "code",
   "execution_count": 49,
   "id": "4831135a-1c4b-4211-8baf-03eef284ef93",
   "metadata": {},
   "outputs": [
    {
     "data": {
      "text/plain": [
       "(100, 5)"
      ]
     },
     "metadata": {},
     "output_type": "display_data"
    },
    {
     "data": {
      "text/plain": [
       "(100, 1)"
      ]
     },
     "metadata": {},
     "output_type": "display_data"
    }
   ],
   "source": [
    "#创建数据\n",
    "x = 2 * np.random.rand(100,5)\n",
    "w = np.random.randint(1,10,size=(5,1))\n",
    "b = np.random.randint(1,10,size=1)\n",
    "\n",
    "y= x.dot(w) + b + np.random.randn(100,1)\n",
    "display(x.shape,y.shape)"
   ]
  },
  {
   "cell_type": "code",
   "execution_count": 50,
   "id": "d31f8286-169c-40e2-8d0b-16e73a9ccceb",
   "metadata": {},
   "outputs": [
    {
     "name": "stdout",
     "output_type": "stream",
     "text": [
      "[5.70054892 7.48410117 1.91719128 1.1822051  2.16868727]\n",
      "[8.54690193]\n"
     ]
    }
   ],
   "source": [
    "ridge = Ridge(alpha=1,solver='sag')\n",
    "ridge.fit(x,y)\n",
    "print(ridge.coef_)\n",
    "print(ridge.intercept_)"
   ]
  },
  {
   "cell_type": "code",
   "execution_count": 53,
   "id": "a8d31493-4f71-4804-bf75-9cae9744e193",
   "metadata": {},
   "outputs": [
    {
     "name": "stdout",
     "output_type": "stream",
     "text": [
      "真实参数值: [[6]\n",
      " [8]\n",
      " [2]\n",
      " [1]\n",
      " [2]] [8]\n"
     ]
    }
   ],
   "source": [
    "print('真实参数值:',w,b)"
   ]
  },
  {
   "cell_type": "code",
   "execution_count": 55,
   "id": "0a2bc5b9-4ebc-4714-8384-1d843e766d17",
   "metadata": {},
   "outputs": [
    {
     "name": "stdout",
     "output_type": "stream",
     "text": [
      "[6.12432683 8.06499164 2.5442885  1.93506523 2.5736649 ]\n",
      "[5.68285011]\n"
     ]
    },
    {
     "name": "stderr",
     "output_type": "stream",
     "text": [
      "D:\\AI\\pytroch_learning\\Lib\\site-packages\\sklearn\\utils\\validation.py:1406: DataConversionWarning: A column-vector y was passed when a 1d array was expected. Please change the shape of y to (n_samples, ), for example using ravel().\n",
      "  y = column_or_1d(y, warn=True)\n"
     ]
    }
   ],
   "source": [
    "sgd = SGDRegressor(penalty='l2',alpha=0)\n",
    "sgd.fit(x,y)\n",
    "print(sgd.coef_)\n",
    "print(sgd.intercept_)"
   ]
  },
  {
   "cell_type": "code",
   "execution_count": 57,
   "id": "398f12c3-f38c-4104-86e2-42feece4ad42",
   "metadata": {},
   "outputs": [
    {
     "name": "stdout",
     "output_type": "stream",
     "text": [
      "[[5.86620003 7.75776063 2.00205097 1.30524139 2.24734191]]\n",
      "[7.82140168]\n"
     ]
    }
   ],
   "source": [
    "model = LinearRegression()\n",
    "model.fit(x,y)\n",
    "print(model.coef_)\n",
    "print(model.intercept_)"
   ]
  },
  {
   "cell_type": "markdown",
   "id": "71f43ffb-4704-4110-85f9-5e6b6d3bda92",
   "metadata": {},
   "source": [
    "### Lasso回归 套索回归"
   ]
  },
  {
   "cell_type": "code",
   "execution_count": 63,
   "id": "20b0a93e-a40e-4494-a0a8-dd904cab8a4c",
   "metadata": {},
   "outputs": [],
   "source": [
    "from sklearn.linear_model import Lasso,SGDRegressor,LinearRegression"
   ]
  },
  {
   "cell_type": "code",
   "execution_count": 62,
   "id": "f5fa8de1-4f16-4408-bdc5-19ca7c90e712",
   "metadata": {},
   "outputs": [
    {
     "data": {
      "text/plain": [
       "(100, 20)"
      ]
     },
     "metadata": {},
     "output_type": "display_data"
    },
    {
     "data": {
      "text/plain": [
       "(100, 1)"
      ]
     },
     "metadata": {},
     "output_type": "display_data"
    }
   ],
   "source": [
    "#创建数据\n",
    "x = 2 * np.random.rand(100,20)\n",
    "w = np.random.rand(20,1)\n",
    "b = np.random.randint(1,10,size=1)\n",
    "\n",
    "y= x.dot(w) + b + np.random.randn(100,1)\n",
    "display(x.shape,y.shape)"
   ]
  },
  {
   "cell_type": "code",
   "execution_count": 66,
   "id": "cf419748-822c-4df6-a46d-b80a8970bb36",
   "metadata": {},
   "outputs": [
    {
     "name": "stdout",
     "output_type": "stream",
     "text": [
      "[-0.          0.33926927  0.78864535  0.73835104  0.19906902  0.\n",
      "  0.06006781  0.10277683  0.47756413  0.06154598  0.31716513  0.56294222\n",
      "  0.20795925  0.          0.20349773  0.30440516  0.61058725  0.\n",
      "  0.          0.        ]\n",
      "[9.41645315]\n"
     ]
    }
   ],
   "source": [
    "lasso = Lasso(alpha=0.1)\n",
    "lasso.fit(x,y)\n",
    "print(lasso.coef_)\n",
    "print(lasso.intercept_)"
   ]
  },
  {
   "cell_type": "code",
   "execution_count": 112,
   "id": "69d9a3da-0700-4a40-843e-c778921c3cc4",
   "metadata": {},
   "outputs": [
    {
     "name": "stdout",
     "output_type": "stream",
     "text": [
      "[0.17702459 0.59798517 1.05990531 1.05975654 0.49447986 0.36411543\n",
      " 0.58815733 0.78324901 1.00440274 0.71584926 0.88315136 1.02134386\n",
      " 0.68607028 0.28528232 0.83479963 0.67387032 0.67546958 0.46514477\n",
      " 0.29356732 0.65188275]\n",
      "[0.99506685]\n"
     ]
    }
   ],
   "source": [
    "#随即梯度下降\n",
    "sgd = SGDRegressor(penalty='l1',alpha=0)\n",
    "#sgd.fit(x,y.reshape(-1)) 变成一维\n",
    "sgd.fit(x,y.ravel())\n",
    "print(sgd.coef_)\n",
    "print(sgd.intercept_)"
   ]
  },
  {
   "cell_type": "markdown",
   "id": "19059fa4-bb28-4115-83ca-70735bdd2cf1",
   "metadata": {},
   "source": [
    "### ElasticNet 弹性网络"
   ]
  },
  {
   "cell_type": "code",
   "execution_count": 113,
   "id": "72ed1982-b00c-4b3d-820b-1ddc3f9feaf7",
   "metadata": {},
   "outputs": [],
   "source": [
    "from sklearn.linear_model import ElasticNet,SGDRegressor,LinearRegression"
   ]
  },
  {
   "cell_type": "code",
   "execution_count": 114,
   "id": "67f1e16e-c18a-4b0c-8215-e07ce343359e",
   "metadata": {},
   "outputs": [
    {
     "data": {
      "text/plain": [
       "(100, 20)"
      ]
     },
     "metadata": {},
     "output_type": "display_data"
    },
    {
     "data": {
      "text/plain": [
       "(100, 1)"
      ]
     },
     "metadata": {},
     "output_type": "display_data"
    }
   ],
   "source": [
    "#创建数据\n",
    "x = 2 * np.random.rand(100,20)\n",
    "w = np.random.rand(20,1)\n",
    "b = np.random.randint(1,10,size=1)\n",
    "\n",
    "y= x.dot(w) + b + np.random.randn(100,1)\n",
    "display(x.shape,y.shape)"
   ]
  },
  {
   "cell_type": "code",
   "execution_count": 117,
   "id": "a52b7673-4034-4e60-91e2-d4d0e8c5e8c7",
   "metadata": {},
   "outputs": [
    {
     "name": "stdout",
     "output_type": "stream",
     "text": [
      "[-0.          0.02837128  0.10466916  0.055856    0.29177161  0.\n",
      "  0.37031104  0.24453424  0.          0.          0.          0.03926622\n",
      " -0.          0.          0.          0.07760084  0.42654158  0.00508411\n",
      "  0.          0.        ]\n",
      "[11.2726613]\n"
     ]
    }
   ],
   "source": [
    "elasticNet = ElasticNet(alpha=0.5,l1_ratio=0.4)\n",
    "elasticNet.fit(x,y)\n",
    "print(elasticNet.coef_)\n",
    "print(elasticNet.intercept_)"
   ]
  },
  {
   "cell_type": "code",
   "execution_count": 118,
   "id": "d4a90b29-2171-43c8-94a0-90a8d8bb9b2e",
   "metadata": {},
   "outputs": [
    {
     "name": "stdout",
     "output_type": "stream",
     "text": [
      "[0.2501341  0.67820719 0.67887895 0.67552279 0.72030775 0.27612377\n",
      " 1.05572013 0.82863594 0.55410139 0.53420866 0.70941275 0.61431989\n",
      " 0.10646    0.55742007 0.4527367  0.78192832 0.94512579 0.38194777\n",
      " 0.61172259 0.64214292]\n",
      "[0.67666224]\n"
     ]
    }
   ],
   "source": [
    "#随即梯度下降\n",
    "sgd = SGDRegressor(penalty='l1',alpha=0)\n",
    "#sgd.fit(x,y.reshape(-1)) 变成一维\n",
    "sgd.fit(x,y.ravel())\n",
    "print(sgd.coef_)\n",
    "print(sgd.intercept_)"
   ]
  },
  {
   "cell_type": "code",
   "execution_count": null,
   "id": "58797b5a-21ee-4b6d-a2cb-229db29a63d1",
   "metadata": {},
   "outputs": [],
   "source": []
  },
  {
   "cell_type": "code",
   "execution_count": null,
   "id": "b20b426d-4779-46cb-b7a7-5195ffcc5241",
   "metadata": {},
   "outputs": [],
   "source": []
  },
  {
   "cell_type": "code",
   "execution_count": null,
   "id": "4974e947-2221-4262-9444-5e341b1145b5",
   "metadata": {},
   "outputs": [],
   "source": []
  },
  {
   "cell_type": "code",
   "execution_count": null,
   "id": "53930c36-52b1-43f7-ba30-b008998e825a",
   "metadata": {},
   "outputs": [],
   "source": []
  },
  {
   "cell_type": "code",
   "execution_count": null,
   "id": "409d7378-9eff-4231-beb4-f0bef8006eb4",
   "metadata": {},
   "outputs": [],
   "source": []
  },
  {
   "cell_type": "code",
   "execution_count": null,
   "id": "4a961de5-801c-4d1c-881b-6c8f3af5abab",
   "metadata": {},
   "outputs": [],
   "source": []
  }
 ],
 "metadata": {
  "kernelspec": {
   "display_name": "Python 3 (ipykernel)",
   "language": "python",
   "name": "python3"
  },
  "language_info": {
   "codemirror_mode": {
    "name": "ipython",
    "version": 3
   },
   "file_extension": ".py",
   "mimetype": "text/x-python",
   "name": "python",
   "nbconvert_exporter": "python",
   "pygments_lexer": "ipython3",
   "version": "3.11.0"
  }
 },
 "nbformat": 4,
 "nbformat_minor": 5
}
