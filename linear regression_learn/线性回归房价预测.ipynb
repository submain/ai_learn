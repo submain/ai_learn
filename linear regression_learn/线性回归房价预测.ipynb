{
 "cells": [
  {
   "cell_type": "code",
   "execution_count": 2,
   "id": "d7318c37-7241-46be-8fe7-b4cbcfc6dabc",
   "metadata": {},
   "outputs": [],
   "source": [
    "#线性回归房价预测\n",
    "import numpy as np \n",
    "from sklearn import datasets\n",
    "from sklearn.linear_model import LinearRegression\n",
    "import pandas as pd"
   ]
  },
  {
   "cell_type": "code",
   "execution_count": 4,
   "id": "f37d37fe-5911-4721-9e00-06280669cda0",
   "metadata": {},
   "outputs": [
    {
     "data": {
      "text/plain": [
       "(800, 12)"
      ]
     },
     "execution_count": 4,
     "metadata": {},
     "output_type": "execute_result"
    }
   ],
   "source": [
    " # 读取Excel文件\n",
    "data_file = \"房屋数据集_800条.xlsx\"\n",
    "df = pd.read_excel(data_file)\n",
    "df.shape"
   ]
  },
  {
   "cell_type": "code",
   "execution_count": 6,
   "id": "1e60f6e7-8999-41bb-a94b-0f84cfb39d9b",
   "metadata": {},
   "outputs": [],
   "source": [
    "#准备特征数据\n",
    "feature_names = [\n",
    "            '建筑面积(平方米)', '卧室数量', '卫生间数量', '楼层数', '建造年份',\n",
    "            '地理位置评分', '距市中心距离(公里)', '是否有车库', '装修等级', '周边学校数量'\n",
    "        ]\n",
    "\n"
   ]
  },
  {
   "cell_type": "code",
   "execution_count": 18,
   "id": "31536ac7-60fd-4276-8677-b2d26ceda2ce",
   "metadata": {},
   "outputs": [
    {
     "data": {
      "text/plain": [
       "(800, 10)"
      ]
     },
     "metadata": {},
     "output_type": "display_data"
    },
    {
     "data": {
      "text/plain": [
       "(800,)"
      ]
     },
     "metadata": {},
     "output_type": "display_data"
    }
   ],
   "source": [
    "X = df[feature_names].copy()\n",
    "# 将分类变量转换为数值变量\n",
    "X['是否有车库'] = X['是否有车库'].map({'是': 1, '否': 0})\n",
    "X['装修等级'] = X['装修等级'].map({'简装': 0, '中装': 1, '精装': 2, '豪装': 3})\n",
    "display(x.shape)\n",
    "#准备目标数据\n",
    "target_name = '房价(万元)'\n",
    "y = df[target_name].copy()\n",
    "display(y.shape)"
   ]
  },
  {
   "cell_type": "code",
   "execution_count": 19,
   "id": "6202f7e9-abe7-4427-b31e-be845d1d71e9",
   "metadata": {},
   "outputs": [
    {
     "data": {
      "text/html": [
       "<div>\n",
       "<style scoped>\n",
       "    .dataframe tbody tr th:only-of-type {\n",
       "        vertical-align: middle;\n",
       "    }\n",
       "\n",
       "    .dataframe tbody tr th {\n",
       "        vertical-align: top;\n",
       "    }\n",
       "\n",
       "    .dataframe thead th {\n",
       "        text-align: right;\n",
       "    }\n",
       "</style>\n",
       "<table border=\"1\" class=\"dataframe\">\n",
       "  <thead>\n",
       "    <tr style=\"text-align: right;\">\n",
       "      <th></th>\n",
       "      <th>建筑面积(平方米)</th>\n",
       "      <th>卧室数量</th>\n",
       "      <th>卫生间数量</th>\n",
       "      <th>楼层数</th>\n",
       "      <th>建造年份</th>\n",
       "      <th>地理位置评分</th>\n",
       "      <th>距市中心距离(公里)</th>\n",
       "      <th>是否有车库</th>\n",
       "      <th>装修等级</th>\n",
       "      <th>周边学校数量</th>\n",
       "    </tr>\n",
       "  </thead>\n",
       "  <tbody>\n",
       "    <tr>\n",
       "      <th>0</th>\n",
       "      <td>139.9</td>\n",
       "      <td>2</td>\n",
       "      <td>1</td>\n",
       "      <td>2</td>\n",
       "      <td>1964</td>\n",
       "      <td>10</td>\n",
       "      <td>8.0</td>\n",
       "      <td>1</td>\n",
       "      <td>1</td>\n",
       "      <td>2</td>\n",
       "    </tr>\n",
       "    <tr>\n",
       "      <th>1</th>\n",
       "      <td>114.5</td>\n",
       "      <td>3</td>\n",
       "      <td>2</td>\n",
       "      <td>3</td>\n",
       "      <td>2015</td>\n",
       "      <td>1</td>\n",
       "      <td>5.2</td>\n",
       "      <td>1</td>\n",
       "      <td>2</td>\n",
       "      <td>1</td>\n",
       "    </tr>\n",
       "    <tr>\n",
       "      <th>2</th>\n",
       "      <td>145.9</td>\n",
       "      <td>2</td>\n",
       "      <td>3</td>\n",
       "      <td>2</td>\n",
       "      <td>1991</td>\n",
       "      <td>9</td>\n",
       "      <td>4.4</td>\n",
       "      <td>1</td>\n",
       "      <td>0</td>\n",
       "      <td>5</td>\n",
       "    </tr>\n",
       "    <tr>\n",
       "      <th>3</th>\n",
       "      <td>180.9</td>\n",
       "      <td>1</td>\n",
       "      <td>1</td>\n",
       "      <td>3</td>\n",
       "      <td>1979</td>\n",
       "      <td>6</td>\n",
       "      <td>1.8</td>\n",
       "      <td>1</td>\n",
       "      <td>0</td>\n",
       "      <td>1</td>\n",
       "    </tr>\n",
       "    <tr>\n",
       "      <th>4</th>\n",
       "      <td>110.6</td>\n",
       "      <td>3</td>\n",
       "      <td>1</td>\n",
       "      <td>1</td>\n",
       "      <td>2009</td>\n",
       "      <td>9</td>\n",
       "      <td>16.2</td>\n",
       "      <td>0</td>\n",
       "      <td>1</td>\n",
       "      <td>3</td>\n",
       "    </tr>\n",
       "    <tr>\n",
       "      <th>5</th>\n",
       "      <td>110.6</td>\n",
       "      <td>4</td>\n",
       "      <td>1</td>\n",
       "      <td>1</td>\n",
       "      <td>1970</td>\n",
       "      <td>7</td>\n",
       "      <td>7.3</td>\n",
       "      <td>0</td>\n",
       "      <td>0</td>\n",
       "      <td>1</td>\n",
       "    </tr>\n",
       "    <tr>\n",
       "      <th>6</th>\n",
       "      <td>183.2</td>\n",
       "      <td>4</td>\n",
       "      <td>3</td>\n",
       "      <td>2</td>\n",
       "      <td>1974</td>\n",
       "      <td>1</td>\n",
       "      <td>29.7</td>\n",
       "      <td>1</td>\n",
       "      <td>1</td>\n",
       "      <td>5</td>\n",
       "    </tr>\n",
       "    <tr>\n",
       "      <th>7</th>\n",
       "      <td>150.7</td>\n",
       "      <td>5</td>\n",
       "      <td>3</td>\n",
       "      <td>2</td>\n",
       "      <td>1991</td>\n",
       "      <td>1</td>\n",
       "      <td>17.7</td>\n",
       "      <td>0</td>\n",
       "      <td>0</td>\n",
       "      <td>4</td>\n",
       "    </tr>\n",
       "    <tr>\n",
       "      <th>8</th>\n",
       "      <td>101.2</td>\n",
       "      <td>2</td>\n",
       "      <td>2</td>\n",
       "      <td>2</td>\n",
       "      <td>1987</td>\n",
       "      <td>6</td>\n",
       "      <td>5.0</td>\n",
       "      <td>1</td>\n",
       "      <td>2</td>\n",
       "      <td>4</td>\n",
       "    </tr>\n",
       "    <tr>\n",
       "      <th>9</th>\n",
       "      <td>141.7</td>\n",
       "      <td>3</td>\n",
       "      <td>3</td>\n",
       "      <td>3</td>\n",
       "      <td>1981</td>\n",
       "      <td>5</td>\n",
       "      <td>21.0</td>\n",
       "      <td>1</td>\n",
       "      <td>0</td>\n",
       "      <td>3</td>\n",
       "    </tr>\n",
       "    <tr>\n",
       "      <th>10</th>\n",
       "      <td>101.5</td>\n",
       "      <td>5</td>\n",
       "      <td>2</td>\n",
       "      <td>2</td>\n",
       "      <td>2000</td>\n",
       "      <td>9</td>\n",
       "      <td>27.0</td>\n",
       "      <td>1</td>\n",
       "      <td>2</td>\n",
       "      <td>2</td>\n",
       "    </tr>\n",
       "    <tr>\n",
       "      <th>11</th>\n",
       "      <td>101.4</td>\n",
       "      <td>3</td>\n",
       "      <td>2</td>\n",
       "      <td>1</td>\n",
       "      <td>1976</td>\n",
       "      <td>2</td>\n",
       "      <td>22.6</td>\n",
       "      <td>1</td>\n",
       "      <td>0</td>\n",
       "      <td>3</td>\n",
       "    </tr>\n",
       "    <tr>\n",
       "      <th>12</th>\n",
       "      <td>129.7</td>\n",
       "      <td>2</td>\n",
       "      <td>3</td>\n",
       "      <td>3</td>\n",
       "      <td>2018</td>\n",
       "      <td>8</td>\n",
       "      <td>3.2</td>\n",
       "      <td>0</td>\n",
       "      <td>3</td>\n",
       "      <td>4</td>\n",
       "    </tr>\n",
       "    <tr>\n",
       "      <th>13</th>\n",
       "      <td>43.5</td>\n",
       "      <td>4</td>\n",
       "      <td>2</td>\n",
       "      <td>2</td>\n",
       "      <td>1985</td>\n",
       "      <td>5</td>\n",
       "      <td>27.0</td>\n",
       "      <td>0</td>\n",
       "      <td>2</td>\n",
       "      <td>0</td>\n",
       "    </tr>\n",
       "    <tr>\n",
       "      <th>14</th>\n",
       "      <td>51.0</td>\n",
       "      <td>1</td>\n",
       "      <td>3</td>\n",
       "      <td>3</td>\n",
       "      <td>2003</td>\n",
       "      <td>2</td>\n",
       "      <td>24.0</td>\n",
       "      <td>0</td>\n",
       "      <td>0</td>\n",
       "      <td>0</td>\n",
       "    </tr>\n",
       "    <tr>\n",
       "      <th>15</th>\n",
       "      <td>97.5</td>\n",
       "      <td>4</td>\n",
       "      <td>2</td>\n",
       "      <td>3</td>\n",
       "      <td>1966</td>\n",
       "      <td>10</td>\n",
       "      <td>5.6</td>\n",
       "      <td>1</td>\n",
       "      <td>2</td>\n",
       "      <td>1</td>\n",
       "    </tr>\n",
       "    <tr>\n",
       "      <th>16</th>\n",
       "      <td>79.5</td>\n",
       "      <td>5</td>\n",
       "      <td>3</td>\n",
       "      <td>2</td>\n",
       "      <td>2001</td>\n",
       "      <td>6</td>\n",
       "      <td>2.5</td>\n",
       "      <td>0</td>\n",
       "      <td>1</td>\n",
       "      <td>5</td>\n",
       "    </tr>\n",
       "    <tr>\n",
       "      <th>17</th>\n",
       "      <td>132.6</td>\n",
       "      <td>1</td>\n",
       "      <td>3</td>\n",
       "      <td>3</td>\n",
       "      <td>2016</td>\n",
       "      <td>10</td>\n",
       "      <td>17.2</td>\n",
       "      <td>1</td>\n",
       "      <td>2</td>\n",
       "      <td>1</td>\n",
       "    </tr>\n",
       "    <tr>\n",
       "      <th>18</th>\n",
       "      <td>83.7</td>\n",
       "      <td>5</td>\n",
       "      <td>2</td>\n",
       "      <td>1</td>\n",
       "      <td>1985</td>\n",
       "      <td>8</td>\n",
       "      <td>5.5</td>\n",
       "      <td>0</td>\n",
       "      <td>1</td>\n",
       "      <td>0</td>\n",
       "    </tr>\n",
       "    <tr>\n",
       "      <th>19</th>\n",
       "      <td>63.5</td>\n",
       "      <td>2</td>\n",
       "      <td>1</td>\n",
       "      <td>1</td>\n",
       "      <td>1984</td>\n",
       "      <td>4</td>\n",
       "      <td>25.2</td>\n",
       "      <td>1</td>\n",
       "      <td>1</td>\n",
       "      <td>4</td>\n",
       "    </tr>\n",
       "  </tbody>\n",
       "</table>\n",
       "</div>"
      ],
      "text/plain": [
       "    建筑面积(平方米)  卧室数量  卫生间数量  楼层数  建造年份  地理位置评分  距市中心距离(公里)  是否有车库  装修等级  周边学校数量\n",
       "0       139.9     2      1    2  1964      10         8.0      1     1       2\n",
       "1       114.5     3      2    3  2015       1         5.2      1     2       1\n",
       "2       145.9     2      3    2  1991       9         4.4      1     0       5\n",
       "3       180.9     1      1    3  1979       6         1.8      1     0       1\n",
       "4       110.6     3      1    1  2009       9        16.2      0     1       3\n",
       "5       110.6     4      1    1  1970       7         7.3      0     0       1\n",
       "6       183.2     4      3    2  1974       1        29.7      1     1       5\n",
       "7       150.7     5      3    2  1991       1        17.7      0     0       4\n",
       "8       101.2     2      2    2  1987       6         5.0      1     2       4\n",
       "9       141.7     3      3    3  1981       5        21.0      1     0       3\n",
       "10      101.5     5      2    2  2000       9        27.0      1     2       2\n",
       "11      101.4     3      2    1  1976       2        22.6      1     0       3\n",
       "12      129.7     2      3    3  2018       8         3.2      0     3       4\n",
       "13       43.5     4      2    2  1985       5        27.0      0     2       0\n",
       "14       51.0     1      3    3  2003       2        24.0      0     0       0\n",
       "15       97.5     4      2    3  1966      10         5.6      1     2       1\n",
       "16       79.5     5      3    2  2001       6         2.5      0     1       5\n",
       "17      132.6     1      3    3  2016      10        17.2      1     2       1\n",
       "18       83.7     5      2    1  1985       8         5.5      0     1       0\n",
       "19       63.5     2      1    1  1984       4        25.2      1     1       4"
      ]
     },
     "execution_count": 19,
     "metadata": {},
     "output_type": "execute_result"
    }
   ],
   "source": [
    "X[:20]"
   ]
  },
  {
   "cell_type": "code",
   "execution_count": 31,
   "id": "91f67fb1-7e2c-44f0-955d-f686ce5858bd",
   "metadata": {},
   "outputs": [],
   "source": [
    "#数据拆分 80%训练数据集 20%测试集\n",
    "#打乱数据\n",
    "index = np.arange(800)\n",
    "np.random.shuffle(index)\n",
    "\n",
    "train_index = index[:640]\n",
    "test_index = index[640:]\n",
    "#train_index"
   ]
  },
  {
   "cell_type": "code",
   "execution_count": 52,
   "id": "c78d730a-c075-41bc-b2ea-1059d4714595",
   "metadata": {},
   "outputs": [
    {
     "data": {
      "text/plain": [
       "(640, 10)"
      ]
     },
     "metadata": {},
     "output_type": "display_data"
    },
    {
     "data": {
      "text/plain": [
       "(640,)"
      ]
     },
     "metadata": {},
     "output_type": "display_data"
    }
   ],
   "source": [
    "#80%训练数据集\n",
    "x_train = X.values[train_index]\n",
    "y_train = y.values[train_index]\n",
    "display(x_train.shape,y_train.shape)"
   ]
  },
  {
   "cell_type": "code",
   "execution_count": 53,
   "id": "e047ead2-a0fd-4128-97ec-4f8478cdd637",
   "metadata": {},
   "outputs": [
    {
     "data": {
      "text/plain": [
       "(160, 10)"
      ]
     },
     "metadata": {},
     "output_type": "display_data"
    },
    {
     "data": {
      "text/plain": [
       "(160,)"
      ]
     },
     "metadata": {},
     "output_type": "display_data"
    }
   ],
   "source": [
    "#20%测试数据集\n",
    "x_test = X.values[test_index]\n",
    "y_test = y.values[test_index]\n",
    "display(x_test.shape,y_test.shape)\n"
   ]
  },
  {
   "cell_type": "code",
   "execution_count": 54,
   "id": "a608603b-0be5-42b7-a1c4-cb7562d01f85",
   "metadata": {},
   "outputs": [
    {
     "data": {
      "text/plain": [
       "array([ 0.76165866, 21.25971249, 15.21789319,  3.69216491,  0.5453437 ,\n",
       "        9.83551533, -2.02626007, 12.63461393, 22.68359575,  6.9748869 ])"
      ]
     },
     "metadata": {},
     "output_type": "display_data"
    },
    {
     "data": {
      "text/plain": [
       "np.float64(-1096.063018673563)"
      ]
     },
     "metadata": {},
     "output_type": "display_data"
    }
   ],
   "source": [
    "#数据建模\n",
    "np.set_printoptions(suppress=True) #关闭科学计数法\n",
    "\n",
    "model = LinearRegression(fit_intercept=True) \n",
    "model.fit(x_train,y_train)\n",
    "#正数表示正相关 反之则是负相关\n",
    "display(model.coef_,model.intercept_)"
   ]
  },
  {
   "cell_type": "code",
   "execution_count": 55,
   "id": "34d6ca5d-d378-423b-b8e0-6561730ec954",
   "metadata": {},
   "outputs": [
    {
     "data": {
      "text/plain": [
       "Index(['建筑面积(平方米)', '卧室数量', '卫生间数量', '楼层数', '建造年份', '地理位置评分', '距市中心距离(公里)',\n",
       "       '是否有车库', '装修等级', '周边学校数量'],\n",
       "      dtype='object')"
      ]
     },
     "execution_count": 55,
     "metadata": {},
     "output_type": "execute_result"
    }
   ],
   "source": [
    "#数据特征\n",
    "X.columns"
   ]
  },
  {
   "cell_type": "code",
   "execution_count": 56,
   "id": "8a836cff-c934-4bb6-b5cf-daf650871de6",
   "metadata": {},
   "outputs": [
    {
     "data": {
      "text/plain": [
       "array([212.72, 328.78, 312.93, 247.67, 371.43, 180.51, 260.01, 260.29,\n",
       "       204.13, 306.75, 337.5 , 209.98, 319.71, 302.65, 342.2 , 213.31,\n",
       "       278.08, 349.14, 308.83, 277.38, 341.8 , 237.85, 333.35, 330.34,\n",
       "       200.56, 246.27, 284.81, 216.25, 229.63, 250.67])"
      ]
     },
     "execution_count": 56,
     "metadata": {},
     "output_type": "execute_result"
    }
   ],
   "source": [
    "#模型验证、应用\n",
    "y_ = model.predict(x_test).round(2)\n",
    "y_[:30]"
   ]
  },
  {
   "cell_type": "code",
   "execution_count": 58,
   "id": "05cc8c88-7831-445f-8293-bc829506f50c",
   "metadata": {},
   "outputs": [
    {
     "data": {
      "text/plain": [
       "array([206.89, 334.43, 380.08, 226.84, 299.94, 175.75, 244.21, 248.64,\n",
       "       193.01, 259.31, 355.65, 218.87, 360.66, 291.41, 300.98, 234.  ,\n",
       "       236.96, 342.62, 342.02, 286.57, 337.32, 243.07, 299.29, 322.64,\n",
       "       202.72, 223.25, 308.84, 210.93, 227.7 , 216.15])"
      ]
     },
     "execution_count": 58,
     "metadata": {},
     "output_type": "execute_result"
    }
   ],
   "source": [
    "y_test[:30]"
   ]
  },
  {
   "cell_type": "code",
   "execution_count": 59,
   "id": "de1c54ef-90e3-4963-9339-8c09982bb5a7",
   "metadata": {},
   "outputs": [
    {
     "data": {
      "text/plain": [
       "0.8299393107086008"
      ]
     },
     "execution_count": 59,
     "metadata": {},
     "output_type": "execute_result"
    }
   ],
   "source": [
    "#模型评估 最大值是1  可以小于0 \n",
    "#越接近于1说明算法越优秀\n",
    "model.score(x_test,y_test)"
   ]
  },
  {
   "cell_type": "markdown",
   "id": "7397d5f6-2982-4699-bd46-25812ffed2dc",
   "metadata": {},
   "source": [
    "$R^2 = 1 - \\frac{u}{v}$"
   ]
  },
  {
   "cell_type": "code",
   "execution_count": null,
   "id": "1448b796-88f1-4138-9120-7d5cf0397282",
   "metadata": {},
   "outputs": [],
   "source": [
    "#手动计算"
   ]
  },
  {
   "cell_type": "code",
   "execution_count": 61,
   "id": "3eae99ab-d762-4ced-bbe5-2bd113bab252",
   "metadata": {},
   "outputs": [
    {
     "data": {
      "text/plain": [
       "np.float64(116889.74759999999)"
      ]
     },
     "execution_count": 61,
     "metadata": {},
     "output_type": "execute_result"
    }
   ],
   "source": [
    "y_pred = y_\n",
    "y_true = y_test\n",
    "u = ((y_true - y_pred) ** 2).sum()\n",
    "u"
   ]
  },
  {
   "cell_type": "code",
   "execution_count": 62,
   "id": "98d02683-4e2f-48a2-9c77-f8c15e3c0f4d",
   "metadata": {},
   "outputs": [
    {
     "data": {
      "text/plain": [
       "np.float64(687348.508094375)"
      ]
     },
     "execution_count": 62,
     "metadata": {},
     "output_type": "execute_result"
    }
   ],
   "source": [
    "v = ((y_true - y_true.mean())**2).sum()\n",
    "v"
   ]
  },
  {
   "cell_type": "code",
   "execution_count": 64,
   "id": "1c405472-b1da-4ed6-be81-4da87f4ba5f0",
   "metadata": {},
   "outputs": [
    {
     "data": {
      "text/plain": [
       "np.float64(0.8299410761448097)"
      ]
     },
     "execution_count": 64,
     "metadata": {},
     "output_type": "execute_result"
    }
   ],
   "source": [
    "r = 1 - u / v\n",
    "r"
   ]
  },
  {
   "cell_type": "code",
   "execution_count": 73,
   "id": "3bf79b3b-b099-4232-9ba1-e6f2df1141ad",
   "metadata": {},
   "outputs": [
    {
     "data": {
      "text/plain": [
       "0.8176628025369181"
      ]
     },
     "execution_count": 73,
     "metadata": {},
     "output_type": "execute_result"
    }
   ],
   "source": [
    "#训练数据评分\n",
    "\n",
    "model.score(x_train,y_train)"
   ]
  },
  {
   "cell_type": "code",
   "execution_count": 75,
   "id": "c4b2d073-625a-4720-a0b7-cb960cddba4f",
   "metadata": {},
   "outputs": [
    {
     "data": {
      "text/plain": [
       "730.5609225"
      ]
     },
     "execution_count": 75,
     "metadata": {},
     "output_type": "execute_result"
    }
   ],
   "source": [
    "#最小二乘法\n",
    "from sklearn.metrics import mean_squared_error\n",
    "\n",
    "mean_squared_error(y_true,y_pred)"
   ]
  },
  {
   "cell_type": "code",
   "execution_count": 74,
   "id": "7b390b69-27ec-4f5c-9cb4-3223f8f6e791",
   "metadata": {},
   "outputs": [
    {
     "data": {
      "text/plain": [
       "811.5449292822647"
      ]
     },
     "execution_count": 74,
     "metadata": {},
     "output_type": "execute_result"
    }
   ],
   "source": [
    "mean_squared_error(y_train,model.predict(x_train))"
   ]
  },
  {
   "cell_type": "code",
   "execution_count": null,
   "id": "1dad1568-9288-478e-b7be-ef33cc4d3e49",
   "metadata": {},
   "outputs": [],
   "source": []
  },
  {
   "cell_type": "code",
   "execution_count": null,
   "id": "09a1f0d9-53b8-422c-b4ea-cd966d29f3d8",
   "metadata": {},
   "outputs": [],
   "source": []
  },
  {
   "cell_type": "code",
   "execution_count": null,
   "id": "3e0c8758-f5f7-47bc-8a20-be1742ab00a2",
   "metadata": {},
   "outputs": [],
   "source": []
  },
  {
   "cell_type": "code",
   "execution_count": null,
   "id": "d4dc3c8d-b4a3-4dcc-abc6-f285b27bc5f3",
   "metadata": {},
   "outputs": [],
   "source": []
  },
  {
   "cell_type": "code",
   "execution_count": null,
   "id": "a212d84b-5a26-4beb-af5c-cf5a0ab572de",
   "metadata": {},
   "outputs": [],
   "source": []
  },
  {
   "cell_type": "code",
   "execution_count": null,
   "id": "eed239f0-4786-4a96-a1b5-21a52e1ae2c7",
   "metadata": {},
   "outputs": [],
   "source": []
  },
  {
   "cell_type": "code",
   "execution_count": null,
   "id": "763b6817-24c4-430e-9beb-b8e17e0898b5",
   "metadata": {},
   "outputs": [],
   "source": []
  },
  {
   "cell_type": "code",
   "execution_count": null,
   "id": "3e501e10-260c-4249-b10b-9eb7262880b8",
   "metadata": {},
   "outputs": [],
   "source": []
  },
  {
   "cell_type": "code",
   "execution_count": null,
   "id": "113cdb6f-fe98-497b-a743-961fc55658bd",
   "metadata": {},
   "outputs": [],
   "source": []
  },
  {
   "cell_type": "code",
   "execution_count": null,
   "id": "a04ecdec-28b2-4150-8854-f684b13c646c",
   "metadata": {},
   "outputs": [],
   "source": []
  },
  {
   "cell_type": "code",
   "execution_count": null,
   "id": "aa937b94-e979-4053-9a2e-45b1ba98e655",
   "metadata": {},
   "outputs": [],
   "source": []
  },
  {
   "cell_type": "code",
   "execution_count": null,
   "id": "9e405f26-a303-4f93-9176-4266dee2337b",
   "metadata": {},
   "outputs": [],
   "source": []
  },
  {
   "cell_type": "code",
   "execution_count": null,
   "id": "214ae83d-7052-43ca-9f3a-4ee38f829c44",
   "metadata": {},
   "outputs": [],
   "source": []
  },
  {
   "cell_type": "code",
   "execution_count": null,
   "id": "225bcf9e-c28f-45de-85e2-fc9d935780e2",
   "metadata": {},
   "outputs": [],
   "source": []
  },
  {
   "cell_type": "code",
   "execution_count": null,
   "id": "2400331b-ffe5-4f5c-973f-2fd3002b0ba5",
   "metadata": {},
   "outputs": [],
   "source": []
  },
  {
   "cell_type": "code",
   "execution_count": null,
   "id": "7f7898bf-6721-4097-811d-8845cea0ef74",
   "metadata": {},
   "outputs": [],
   "source": []
  },
  {
   "cell_type": "code",
   "execution_count": null,
   "id": "91b8b409-0927-42ea-aa0e-04f8b6d71124",
   "metadata": {},
   "outputs": [],
   "source": []
  }
 ],
 "metadata": {
  "kernelspec": {
   "display_name": "Python 3 (ipykernel)",
   "language": "python",
   "name": "python3"
  },
  "language_info": {
   "codemirror_mode": {
    "name": "ipython",
    "version": 3
   },
   "file_extension": ".py",
   "mimetype": "text/x-python",
   "name": "python",
   "nbconvert_exporter": "python",
   "pygments_lexer": "ipython3",
   "version": "3.11.0"
  }
 },
 "nbformat": 4,
 "nbformat_minor": 5
}
